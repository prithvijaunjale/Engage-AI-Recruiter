{
  "nbformat": 4,
  "nbformat_minor": 0,
  "metadata": {
    "colab": {
      "name": "engage_audio_model.ipynb",
      "provenance": [],
      "collapsed_sections": [
        "aomZH9T97f4p",
        "Ptwclq73hzOF",
        "W_EMggVqoW2h",
        "bxRz13qT-ONF",
        "oOvNo2avjoPY"
      ],
      "mount_file_id": "1bxCHMV3XFAsJKTl2uBJ_VE6W-Zn__wx-",
      "authorship_tag": "ABX9TyMFfoqYX7eY7ccG06R2PuC4",
      "include_colab_link": true
    },
    "kernelspec": {
      "name": "python3",
      "display_name": "Python 3"
    },
    "widgets": {
      "application/vnd.jupyter.widget-state+json": {
        "c72b2b85d73b40feb191ec1204104efc": {
          "model_module": "@jupyter-widgets/controls",
          "model_name": "HBoxModel",
          "state": {
            "_view_name": "HBoxView",
            "_dom_classes": [],
            "_model_name": "HBoxModel",
            "_view_module": "@jupyter-widgets/controls",
            "_model_module_version": "1.5.0",
            "_view_count": null,
            "_view_module_version": "1.5.0",
            "box_style": "",
            "layout": "IPY_MODEL_5ef6c03998e842e696c02e5d03b60260",
            "_model_module": "@jupyter-widgets/controls",
            "children": [
              "IPY_MODEL_4ba43f6fc9914f95a0fced7ddea38fe0",
              "IPY_MODEL_685b949b1af741628f23a25eae0ceb62"
            ]
          }
        },
        "5ef6c03998e842e696c02e5d03b60260": {
          "model_module": "@jupyter-widgets/base",
          "model_name": "LayoutModel",
          "state": {
            "_view_name": "LayoutView",
            "grid_template_rows": null,
            "right": null,
            "justify_content": null,
            "_view_module": "@jupyter-widgets/base",
            "overflow": null,
            "_model_module_version": "1.2.0",
            "_view_count": null,
            "flex_flow": null,
            "width": null,
            "min_width": null,
            "border": null,
            "align_items": null,
            "bottom": null,
            "_model_module": "@jupyter-widgets/base",
            "top": null,
            "grid_column": null,
            "overflow_y": null,
            "overflow_x": null,
            "grid_auto_flow": null,
            "grid_area": null,
            "grid_template_columns": null,
            "flex": null,
            "_model_name": "LayoutModel",
            "justify_items": null,
            "grid_row": null,
            "max_height": null,
            "align_content": null,
            "visibility": null,
            "align_self": null,
            "height": null,
            "min_height": null,
            "padding": null,
            "grid_auto_rows": null,
            "grid_gap": null,
            "max_width": null,
            "order": null,
            "_view_module_version": "1.2.0",
            "grid_template_areas": null,
            "object_position": null,
            "object_fit": null,
            "grid_auto_columns": null,
            "margin": null,
            "display": null,
            "left": null
          }
        },
        "4ba43f6fc9914f95a0fced7ddea38fe0": {
          "model_module": "@jupyter-widgets/controls",
          "model_name": "FloatProgressModel",
          "state": {
            "_view_name": "ProgressView",
            "style": "IPY_MODEL_74a7b775f5fc4e0a814ba2736a0da5ef",
            "_dom_classes": [],
            "description": "100%",
            "_model_name": "FloatProgressModel",
            "bar_style": "success",
            "max": 356082095,
            "_view_module": "@jupyter-widgets/controls",
            "_model_module_version": "1.5.0",
            "value": 356082095,
            "_view_count": null,
            "_view_module_version": "1.5.0",
            "orientation": "horizontal",
            "min": 0,
            "description_tooltip": null,
            "_model_module": "@jupyter-widgets/controls",
            "layout": "IPY_MODEL_a858ed5aa1ce49ab853ff739041600c1"
          }
        },
        "685b949b1af741628f23a25eae0ceb62": {
          "model_module": "@jupyter-widgets/controls",
          "model_name": "HTMLModel",
          "state": {
            "_view_name": "HTMLView",
            "style": "IPY_MODEL_a34ce658ce644720a4ca623daf8e8c4e",
            "_dom_classes": [],
            "description": "",
            "_model_name": "HTMLModel",
            "placeholder": "​",
            "_view_module": "@jupyter-widgets/controls",
            "_model_module_version": "1.5.0",
            "value": " 340M/340M [00:03&lt;00:00, 111MB/s]",
            "_view_count": null,
            "_view_module_version": "1.5.0",
            "description_tooltip": null,
            "_model_module": "@jupyter-widgets/controls",
            "layout": "IPY_MODEL_d623dd259b684bc4ba435879fcf0bf42"
          }
        },
        "74a7b775f5fc4e0a814ba2736a0da5ef": {
          "model_module": "@jupyter-widgets/controls",
          "model_name": "ProgressStyleModel",
          "state": {
            "_view_name": "StyleView",
            "_model_name": "ProgressStyleModel",
            "description_width": "initial",
            "_view_module": "@jupyter-widgets/base",
            "_model_module_version": "1.5.0",
            "_view_count": null,
            "_view_module_version": "1.2.0",
            "bar_color": null,
            "_model_module": "@jupyter-widgets/controls"
          }
        },
        "a858ed5aa1ce49ab853ff739041600c1": {
          "model_module": "@jupyter-widgets/base",
          "model_name": "LayoutModel",
          "state": {
            "_view_name": "LayoutView",
            "grid_template_rows": null,
            "right": null,
            "justify_content": null,
            "_view_module": "@jupyter-widgets/base",
            "overflow": null,
            "_model_module_version": "1.2.0",
            "_view_count": null,
            "flex_flow": null,
            "width": null,
            "min_width": null,
            "border": null,
            "align_items": null,
            "bottom": null,
            "_model_module": "@jupyter-widgets/base",
            "top": null,
            "grid_column": null,
            "overflow_y": null,
            "overflow_x": null,
            "grid_auto_flow": null,
            "grid_area": null,
            "grid_template_columns": null,
            "flex": null,
            "_model_name": "LayoutModel",
            "justify_items": null,
            "grid_row": null,
            "max_height": null,
            "align_content": null,
            "visibility": null,
            "align_self": null,
            "height": null,
            "min_height": null,
            "padding": null,
            "grid_auto_rows": null,
            "grid_gap": null,
            "max_width": null,
            "order": null,
            "_view_module_version": "1.2.0",
            "grid_template_areas": null,
            "object_position": null,
            "object_fit": null,
            "grid_auto_columns": null,
            "margin": null,
            "display": null,
            "left": null
          }
        },
        "a34ce658ce644720a4ca623daf8e8c4e": {
          "model_module": "@jupyter-widgets/controls",
          "model_name": "DescriptionStyleModel",
          "state": {
            "_view_name": "StyleView",
            "_model_name": "DescriptionStyleModel",
            "description_width": "",
            "_view_module": "@jupyter-widgets/base",
            "_model_module_version": "1.5.0",
            "_view_count": null,
            "_view_module_version": "1.2.0",
            "_model_module": "@jupyter-widgets/controls"
          }
        },
        "d623dd259b684bc4ba435879fcf0bf42": {
          "model_module": "@jupyter-widgets/base",
          "model_name": "LayoutModel",
          "state": {
            "_view_name": "LayoutView",
            "grid_template_rows": null,
            "right": null,
            "justify_content": null,
            "_view_module": "@jupyter-widgets/base",
            "overflow": null,
            "_model_module_version": "1.2.0",
            "_view_count": null,
            "flex_flow": null,
            "width": null,
            "min_width": null,
            "border": null,
            "align_items": null,
            "bottom": null,
            "_model_module": "@jupyter-widgets/base",
            "top": null,
            "grid_column": null,
            "overflow_y": null,
            "overflow_x": null,
            "grid_auto_flow": null,
            "grid_area": null,
            "grid_template_columns": null,
            "flex": null,
            "_model_name": "LayoutModel",
            "justify_items": null,
            "grid_row": null,
            "max_height": null,
            "align_content": null,
            "visibility": null,
            "align_self": null,
            "height": null,
            "min_height": null,
            "padding": null,
            "grid_auto_rows": null,
            "grid_gap": null,
            "max_width": null,
            "order": null,
            "_view_module_version": "1.2.0",
            "grid_template_areas": null,
            "object_position": null,
            "object_fit": null,
            "grid_auto_columns": null,
            "margin": null,
            "display": null,
            "left": null
          }
        },
        "659cd2b37e98457c9d7ce756e147c272": {
          "model_module": "@jupyter-widgets/controls",
          "model_name": "HBoxModel",
          "state": {
            "_view_name": "HBoxView",
            "_dom_classes": [],
            "_model_name": "HBoxModel",
            "_view_module": "@jupyter-widgets/controls",
            "_model_module_version": "1.5.0",
            "_view_count": null,
            "_view_module_version": "1.5.0",
            "box_style": "",
            "layout": "IPY_MODEL_7f04fbabe8a84363a96b668bd87773ef",
            "_model_module": "@jupyter-widgets/controls",
            "children": [
              "IPY_MODEL_dbbf449c9f0740eb8fac37cd78aac163",
              "IPY_MODEL_37fa6280556c49da9779da251038a4ab"
            ]
          }
        },
        "7f04fbabe8a84363a96b668bd87773ef": {
          "model_module": "@jupyter-widgets/base",
          "model_name": "LayoutModel",
          "state": {
            "_view_name": "LayoutView",
            "grid_template_rows": null,
            "right": null,
            "justify_content": null,
            "_view_module": "@jupyter-widgets/base",
            "overflow": null,
            "_model_module_version": "1.2.0",
            "_view_count": null,
            "flex_flow": null,
            "width": null,
            "min_width": null,
            "border": null,
            "align_items": null,
            "bottom": null,
            "_model_module": "@jupyter-widgets/base",
            "top": null,
            "grid_column": null,
            "overflow_y": null,
            "overflow_x": null,
            "grid_auto_flow": null,
            "grid_area": null,
            "grid_template_columns": null,
            "flex": null,
            "_model_name": "LayoutModel",
            "justify_items": null,
            "grid_row": null,
            "max_height": null,
            "align_content": null,
            "visibility": null,
            "align_self": null,
            "height": null,
            "min_height": null,
            "padding": null,
            "grid_auto_rows": null,
            "grid_gap": null,
            "max_width": null,
            "order": null,
            "_view_module_version": "1.2.0",
            "grid_template_areas": null,
            "object_position": null,
            "object_fit": null,
            "grid_auto_columns": null,
            "margin": null,
            "display": null,
            "left": null
          }
        },
        "dbbf449c9f0740eb8fac37cd78aac163": {
          "model_module": "@jupyter-widgets/controls",
          "model_name": "FloatProgressModel",
          "state": {
            "_view_name": "ProgressView",
            "style": "IPY_MODEL_13b58b27028a41bab14c88d5fe10f89a",
            "_dom_classes": [],
            "description": "Epoch 0: 100%",
            "_model_name": "FloatProgressModel",
            "bar_style": "success",
            "max": 298,
            "_view_module": "@jupyter-widgets/controls",
            "_model_module_version": "1.5.0",
            "value": 298,
            "_view_count": null,
            "_view_module_version": "1.5.0",
            "orientation": "horizontal",
            "min": 0,
            "description_tooltip": null,
            "_model_module": "@jupyter-widgets/controls",
            "layout": "IPY_MODEL_dd70c2a860e94fd79b73a10a020c4073"
          }
        },
        "37fa6280556c49da9779da251038a4ab": {
          "model_module": "@jupyter-widgets/controls",
          "model_name": "HTMLModel",
          "state": {
            "_view_name": "HTMLView",
            "style": "IPY_MODEL_92e9c1d31aad414a887ab437c8eff5c9",
            "_dom_classes": [],
            "description": "",
            "_model_name": "HTMLModel",
            "placeholder": "​",
            "_view_module": "@jupyter-widgets/controls",
            "_model_module_version": "1.5.0",
            "value": " 298/298 [04:50&lt;00:00,  1.02it/s]",
            "_view_count": null,
            "_view_module_version": "1.5.0",
            "description_tooltip": null,
            "_model_module": "@jupyter-widgets/controls",
            "layout": "IPY_MODEL_79e3a197111e4a88bd2f79adf4ac4fb7"
          }
        },
        "13b58b27028a41bab14c88d5fe10f89a": {
          "model_module": "@jupyter-widgets/controls",
          "model_name": "ProgressStyleModel",
          "state": {
            "_view_name": "StyleView",
            "_model_name": "ProgressStyleModel",
            "description_width": "initial",
            "_view_module": "@jupyter-widgets/base",
            "_model_module_version": "1.5.0",
            "_view_count": null,
            "_view_module_version": "1.2.0",
            "bar_color": null,
            "_model_module": "@jupyter-widgets/controls"
          }
        },
        "dd70c2a860e94fd79b73a10a020c4073": {
          "model_module": "@jupyter-widgets/base",
          "model_name": "LayoutModel",
          "state": {
            "_view_name": "LayoutView",
            "grid_template_rows": null,
            "right": null,
            "justify_content": null,
            "_view_module": "@jupyter-widgets/base",
            "overflow": null,
            "_model_module_version": "1.2.0",
            "_view_count": null,
            "flex_flow": null,
            "width": null,
            "min_width": null,
            "border": null,
            "align_items": null,
            "bottom": null,
            "_model_module": "@jupyter-widgets/base",
            "top": null,
            "grid_column": null,
            "overflow_y": null,
            "overflow_x": null,
            "grid_auto_flow": null,
            "grid_area": null,
            "grid_template_columns": null,
            "flex": null,
            "_model_name": "LayoutModel",
            "justify_items": null,
            "grid_row": null,
            "max_height": null,
            "align_content": null,
            "visibility": null,
            "align_self": null,
            "height": null,
            "min_height": null,
            "padding": null,
            "grid_auto_rows": null,
            "grid_gap": null,
            "max_width": null,
            "order": null,
            "_view_module_version": "1.2.0",
            "grid_template_areas": null,
            "object_position": null,
            "object_fit": null,
            "grid_auto_columns": null,
            "margin": null,
            "display": null,
            "left": null
          }
        },
        "92e9c1d31aad414a887ab437c8eff5c9": {
          "model_module": "@jupyter-widgets/controls",
          "model_name": "DescriptionStyleModel",
          "state": {
            "_view_name": "StyleView",
            "_model_name": "DescriptionStyleModel",
            "description_width": "",
            "_view_module": "@jupyter-widgets/base",
            "_model_module_version": "1.5.0",
            "_view_count": null,
            "_view_module_version": "1.2.0",
            "_model_module": "@jupyter-widgets/controls"
          }
        },
        "79e3a197111e4a88bd2f79adf4ac4fb7": {
          "model_module": "@jupyter-widgets/base",
          "model_name": "LayoutModel",
          "state": {
            "_view_name": "LayoutView",
            "grid_template_rows": null,
            "right": null,
            "justify_content": null,
            "_view_module": "@jupyter-widgets/base",
            "overflow": null,
            "_model_module_version": "1.2.0",
            "_view_count": null,
            "flex_flow": null,
            "width": null,
            "min_width": null,
            "border": null,
            "align_items": null,
            "bottom": null,
            "_model_module": "@jupyter-widgets/base",
            "top": null,
            "grid_column": null,
            "overflow_y": null,
            "overflow_x": null,
            "grid_auto_flow": null,
            "grid_area": null,
            "grid_template_columns": null,
            "flex": null,
            "_model_name": "LayoutModel",
            "justify_items": null,
            "grid_row": null,
            "max_height": null,
            "align_content": null,
            "visibility": null,
            "align_self": null,
            "height": null,
            "min_height": null,
            "padding": null,
            "grid_auto_rows": null,
            "grid_gap": null,
            "max_width": null,
            "order": null,
            "_view_module_version": "1.2.0",
            "grid_template_areas": null,
            "object_position": null,
            "object_fit": null,
            "grid_auto_columns": null,
            "margin": null,
            "display": null,
            "left": null
          }
        },
        "91205c872b024467bee7fa29d7851d4c": {
          "model_module": "@jupyter-widgets/controls",
          "model_name": "HBoxModel",
          "state": {
            "_view_name": "HBoxView",
            "_dom_classes": [],
            "_model_name": "HBoxModel",
            "_view_module": "@jupyter-widgets/controls",
            "_model_module_version": "1.5.0",
            "_view_count": null,
            "_view_module_version": "1.5.0",
            "box_style": "",
            "layout": "IPY_MODEL_231e4353bef744bd972fd10459e5551d",
            "_model_module": "@jupyter-widgets/controls",
            "children": [
              "IPY_MODEL_50e44512b28f46ee87da634106ad88dc",
              "IPY_MODEL_61e02ed216e742c290b338f88313f1db"
            ]
          }
        },
        "231e4353bef744bd972fd10459e5551d": {
          "model_module": "@jupyter-widgets/base",
          "model_name": "LayoutModel",
          "state": {
            "_view_name": "LayoutView",
            "grid_template_rows": null,
            "right": null,
            "justify_content": null,
            "_view_module": "@jupyter-widgets/base",
            "overflow": null,
            "_model_module_version": "1.2.0",
            "_view_count": null,
            "flex_flow": null,
            "width": null,
            "min_width": null,
            "border": null,
            "align_items": null,
            "bottom": null,
            "_model_module": "@jupyter-widgets/base",
            "top": null,
            "grid_column": null,
            "overflow_y": null,
            "overflow_x": null,
            "grid_auto_flow": null,
            "grid_area": null,
            "grid_template_columns": null,
            "flex": null,
            "_model_name": "LayoutModel",
            "justify_items": null,
            "grid_row": null,
            "max_height": null,
            "align_content": null,
            "visibility": null,
            "align_self": null,
            "height": null,
            "min_height": null,
            "padding": null,
            "grid_auto_rows": null,
            "grid_gap": null,
            "max_width": null,
            "order": null,
            "_view_module_version": "1.2.0",
            "grid_template_areas": null,
            "object_position": null,
            "object_fit": null,
            "grid_auto_columns": null,
            "margin": null,
            "display": null,
            "left": null
          }
        },
        "50e44512b28f46ee87da634106ad88dc": {
          "model_module": "@jupyter-widgets/controls",
          "model_name": "FloatProgressModel",
          "state": {
            "_view_name": "ProgressView",
            "style": "IPY_MODEL_238e9ce238734dd39efa859c0d05bb1f",
            "_dom_classes": [],
            "description": "Epoch 1: 100%",
            "_model_name": "FloatProgressModel",
            "bar_style": "success",
            "max": 298,
            "_view_module": "@jupyter-widgets/controls",
            "_model_module_version": "1.5.0",
            "value": 298,
            "_view_count": null,
            "_view_module_version": "1.5.0",
            "orientation": "horizontal",
            "min": 0,
            "description_tooltip": null,
            "_model_module": "@jupyter-widgets/controls",
            "layout": "IPY_MODEL_20216f3e9ae7414ca0e6b9472cfa8acd"
          }
        },
        "61e02ed216e742c290b338f88313f1db": {
          "model_module": "@jupyter-widgets/controls",
          "model_name": "HTMLModel",
          "state": {
            "_view_name": "HTMLView",
            "style": "IPY_MODEL_957fa41750b2409599202116158f7970",
            "_dom_classes": [],
            "description": "",
            "_model_name": "HTMLModel",
            "placeholder": "​",
            "_view_module": "@jupyter-widgets/controls",
            "_model_module_version": "1.5.0",
            "value": " 298/298 [02:25&lt;00:00,  2.05it/s]",
            "_view_count": null,
            "_view_module_version": "1.5.0",
            "description_tooltip": null,
            "_model_module": "@jupyter-widgets/controls",
            "layout": "IPY_MODEL_7482c68b0ea846258e000f123dd7fcba"
          }
        },
        "238e9ce238734dd39efa859c0d05bb1f": {
          "model_module": "@jupyter-widgets/controls",
          "model_name": "ProgressStyleModel",
          "state": {
            "_view_name": "StyleView",
            "_model_name": "ProgressStyleModel",
            "description_width": "initial",
            "_view_module": "@jupyter-widgets/base",
            "_model_module_version": "1.5.0",
            "_view_count": null,
            "_view_module_version": "1.2.0",
            "bar_color": null,
            "_model_module": "@jupyter-widgets/controls"
          }
        },
        "20216f3e9ae7414ca0e6b9472cfa8acd": {
          "model_module": "@jupyter-widgets/base",
          "model_name": "LayoutModel",
          "state": {
            "_view_name": "LayoutView",
            "grid_template_rows": null,
            "right": null,
            "justify_content": null,
            "_view_module": "@jupyter-widgets/base",
            "overflow": null,
            "_model_module_version": "1.2.0",
            "_view_count": null,
            "flex_flow": null,
            "width": null,
            "min_width": null,
            "border": null,
            "align_items": null,
            "bottom": null,
            "_model_module": "@jupyter-widgets/base",
            "top": null,
            "grid_column": null,
            "overflow_y": null,
            "overflow_x": null,
            "grid_auto_flow": null,
            "grid_area": null,
            "grid_template_columns": null,
            "flex": null,
            "_model_name": "LayoutModel",
            "justify_items": null,
            "grid_row": null,
            "max_height": null,
            "align_content": null,
            "visibility": null,
            "align_self": null,
            "height": null,
            "min_height": null,
            "padding": null,
            "grid_auto_rows": null,
            "grid_gap": null,
            "max_width": null,
            "order": null,
            "_view_module_version": "1.2.0",
            "grid_template_areas": null,
            "object_position": null,
            "object_fit": null,
            "grid_auto_columns": null,
            "margin": null,
            "display": null,
            "left": null
          }
        },
        "957fa41750b2409599202116158f7970": {
          "model_module": "@jupyter-widgets/controls",
          "model_name": "DescriptionStyleModel",
          "state": {
            "_view_name": "StyleView",
            "_model_name": "DescriptionStyleModel",
            "description_width": "",
            "_view_module": "@jupyter-widgets/base",
            "_model_module_version": "1.5.0",
            "_view_count": null,
            "_view_module_version": "1.2.0",
            "_model_module": "@jupyter-widgets/controls"
          }
        },
        "7482c68b0ea846258e000f123dd7fcba": {
          "model_module": "@jupyter-widgets/base",
          "model_name": "LayoutModel",
          "state": {
            "_view_name": "LayoutView",
            "grid_template_rows": null,
            "right": null,
            "justify_content": null,
            "_view_module": "@jupyter-widgets/base",
            "overflow": null,
            "_model_module_version": "1.2.0",
            "_view_count": null,
            "flex_flow": null,
            "width": null,
            "min_width": null,
            "border": null,
            "align_items": null,
            "bottom": null,
            "_model_module": "@jupyter-widgets/base",
            "top": null,
            "grid_column": null,
            "overflow_y": null,
            "overflow_x": null,
            "grid_auto_flow": null,
            "grid_area": null,
            "grid_template_columns": null,
            "flex": null,
            "_model_name": "LayoutModel",
            "justify_items": null,
            "grid_row": null,
            "max_height": null,
            "align_content": null,
            "visibility": null,
            "align_self": null,
            "height": null,
            "min_height": null,
            "padding": null,
            "grid_auto_rows": null,
            "grid_gap": null,
            "max_width": null,
            "order": null,
            "_view_module_version": "1.2.0",
            "grid_template_areas": null,
            "object_position": null,
            "object_fit": null,
            "grid_auto_columns": null,
            "margin": null,
            "display": null,
            "left": null
          }
        },
        "2ef19e72198f4339bb938841e4998591": {
          "model_module": "@jupyter-widgets/controls",
          "model_name": "HBoxModel",
          "state": {
            "_view_name": "HBoxView",
            "_dom_classes": [],
            "_model_name": "HBoxModel",
            "_view_module": "@jupyter-widgets/controls",
            "_model_module_version": "1.5.0",
            "_view_count": null,
            "_view_module_version": "1.5.0",
            "box_style": "",
            "layout": "IPY_MODEL_dc407671dd3346bc96759b01c4822b7f",
            "_model_module": "@jupyter-widgets/controls",
            "children": [
              "IPY_MODEL_97db7cbf347b44fb866a112ee6739a36",
              "IPY_MODEL_a1316f19c0c94fa59b46d70643f6df54"
            ]
          }
        },
        "dc407671dd3346bc96759b01c4822b7f": {
          "model_module": "@jupyter-widgets/base",
          "model_name": "LayoutModel",
          "state": {
            "_view_name": "LayoutView",
            "grid_template_rows": null,
            "right": null,
            "justify_content": null,
            "_view_module": "@jupyter-widgets/base",
            "overflow": null,
            "_model_module_version": "1.2.0",
            "_view_count": null,
            "flex_flow": null,
            "width": null,
            "min_width": null,
            "border": null,
            "align_items": null,
            "bottom": null,
            "_model_module": "@jupyter-widgets/base",
            "top": null,
            "grid_column": null,
            "overflow_y": null,
            "overflow_x": null,
            "grid_auto_flow": null,
            "grid_area": null,
            "grid_template_columns": null,
            "flex": null,
            "_model_name": "LayoutModel",
            "justify_items": null,
            "grid_row": null,
            "max_height": null,
            "align_content": null,
            "visibility": null,
            "align_self": null,
            "height": null,
            "min_height": null,
            "padding": null,
            "grid_auto_rows": null,
            "grid_gap": null,
            "max_width": null,
            "order": null,
            "_view_module_version": "1.2.0",
            "grid_template_areas": null,
            "object_position": null,
            "object_fit": null,
            "grid_auto_columns": null,
            "margin": null,
            "display": null,
            "left": null
          }
        },
        "97db7cbf347b44fb866a112ee6739a36": {
          "model_module": "@jupyter-widgets/controls",
          "model_name": "FloatProgressModel",
          "state": {
            "_view_name": "ProgressView",
            "style": "IPY_MODEL_681f35a686c14b8397a37d897e35845b",
            "_dom_classes": [],
            "description": "Epoch 2: 100%",
            "_model_name": "FloatProgressModel",
            "bar_style": "success",
            "max": 298,
            "_view_module": "@jupyter-widgets/controls",
            "_model_module_version": "1.5.0",
            "value": 298,
            "_view_count": null,
            "_view_module_version": "1.5.0",
            "orientation": "horizontal",
            "min": 0,
            "description_tooltip": null,
            "_model_module": "@jupyter-widgets/controls",
            "layout": "IPY_MODEL_92e7a85d41844c0baae539c61053f810"
          }
        },
        "a1316f19c0c94fa59b46d70643f6df54": {
          "model_module": "@jupyter-widgets/controls",
          "model_name": "HTMLModel",
          "state": {
            "_view_name": "HTMLView",
            "style": "IPY_MODEL_85167eb85826485aa8a458b593670676",
            "_dom_classes": [],
            "description": "",
            "_model_name": "HTMLModel",
            "placeholder": "​",
            "_view_module": "@jupyter-widgets/controls",
            "_model_module_version": "1.5.0",
            "value": " 298/298 [02:24&lt;00:00,  2.06it/s]",
            "_view_count": null,
            "_view_module_version": "1.5.0",
            "description_tooltip": null,
            "_model_module": "@jupyter-widgets/controls",
            "layout": "IPY_MODEL_bf76c3cfd9474f91999dd567ff20f7af"
          }
        },
        "681f35a686c14b8397a37d897e35845b": {
          "model_module": "@jupyter-widgets/controls",
          "model_name": "ProgressStyleModel",
          "state": {
            "_view_name": "StyleView",
            "_model_name": "ProgressStyleModel",
            "description_width": "initial",
            "_view_module": "@jupyter-widgets/base",
            "_model_module_version": "1.5.0",
            "_view_count": null,
            "_view_module_version": "1.2.0",
            "bar_color": null,
            "_model_module": "@jupyter-widgets/controls"
          }
        },
        "92e7a85d41844c0baae539c61053f810": {
          "model_module": "@jupyter-widgets/base",
          "model_name": "LayoutModel",
          "state": {
            "_view_name": "LayoutView",
            "grid_template_rows": null,
            "right": null,
            "justify_content": null,
            "_view_module": "@jupyter-widgets/base",
            "overflow": null,
            "_model_module_version": "1.2.0",
            "_view_count": null,
            "flex_flow": null,
            "width": null,
            "min_width": null,
            "border": null,
            "align_items": null,
            "bottom": null,
            "_model_module": "@jupyter-widgets/base",
            "top": null,
            "grid_column": null,
            "overflow_y": null,
            "overflow_x": null,
            "grid_auto_flow": null,
            "grid_area": null,
            "grid_template_columns": null,
            "flex": null,
            "_model_name": "LayoutModel",
            "justify_items": null,
            "grid_row": null,
            "max_height": null,
            "align_content": null,
            "visibility": null,
            "align_self": null,
            "height": null,
            "min_height": null,
            "padding": null,
            "grid_auto_rows": null,
            "grid_gap": null,
            "max_width": null,
            "order": null,
            "_view_module_version": "1.2.0",
            "grid_template_areas": null,
            "object_position": null,
            "object_fit": null,
            "grid_auto_columns": null,
            "margin": null,
            "display": null,
            "left": null
          }
        },
        "85167eb85826485aa8a458b593670676": {
          "model_module": "@jupyter-widgets/controls",
          "model_name": "DescriptionStyleModel",
          "state": {
            "_view_name": "StyleView",
            "_model_name": "DescriptionStyleModel",
            "description_width": "",
            "_view_module": "@jupyter-widgets/base",
            "_model_module_version": "1.5.0",
            "_view_count": null,
            "_view_module_version": "1.2.0",
            "_model_module": "@jupyter-widgets/controls"
          }
        },
        "bf76c3cfd9474f91999dd567ff20f7af": {
          "model_module": "@jupyter-widgets/base",
          "model_name": "LayoutModel",
          "state": {
            "_view_name": "LayoutView",
            "grid_template_rows": null,
            "right": null,
            "justify_content": null,
            "_view_module": "@jupyter-widgets/base",
            "overflow": null,
            "_model_module_version": "1.2.0",
            "_view_count": null,
            "flex_flow": null,
            "width": null,
            "min_width": null,
            "border": null,
            "align_items": null,
            "bottom": null,
            "_model_module": "@jupyter-widgets/base",
            "top": null,
            "grid_column": null,
            "overflow_y": null,
            "overflow_x": null,
            "grid_auto_flow": null,
            "grid_area": null,
            "grid_template_columns": null,
            "flex": null,
            "_model_name": "LayoutModel",
            "justify_items": null,
            "grid_row": null,
            "max_height": null,
            "align_content": null,
            "visibility": null,
            "align_self": null,
            "height": null,
            "min_height": null,
            "padding": null,
            "grid_auto_rows": null,
            "grid_gap": null,
            "max_width": null,
            "order": null,
            "_view_module_version": "1.2.0",
            "grid_template_areas": null,
            "object_position": null,
            "object_fit": null,
            "grid_auto_columns": null,
            "margin": null,
            "display": null,
            "left": null
          }
        },
        "53e19736df6f40c981df87d6a47da396": {
          "model_module": "@jupyter-widgets/controls",
          "model_name": "HBoxModel",
          "state": {
            "_view_name": "HBoxView",
            "_dom_classes": [],
            "_model_name": "HBoxModel",
            "_view_module": "@jupyter-widgets/controls",
            "_model_module_version": "1.5.0",
            "_view_count": null,
            "_view_module_version": "1.5.0",
            "box_style": "",
            "layout": "IPY_MODEL_f3f9677f7e2d42d79485bd6080102253",
            "_model_module": "@jupyter-widgets/controls",
            "children": [
              "IPY_MODEL_87889d155d60434989ef0629d7d09f59",
              "IPY_MODEL_9f9bdeb97ac24154b6c15ef7d23086b6"
            ]
          }
        },
        "f3f9677f7e2d42d79485bd6080102253": {
          "model_module": "@jupyter-widgets/base",
          "model_name": "LayoutModel",
          "state": {
            "_view_name": "LayoutView",
            "grid_template_rows": null,
            "right": null,
            "justify_content": null,
            "_view_module": "@jupyter-widgets/base",
            "overflow": null,
            "_model_module_version": "1.2.0",
            "_view_count": null,
            "flex_flow": null,
            "width": null,
            "min_width": null,
            "border": null,
            "align_items": null,
            "bottom": null,
            "_model_module": "@jupyter-widgets/base",
            "top": null,
            "grid_column": null,
            "overflow_y": null,
            "overflow_x": null,
            "grid_auto_flow": null,
            "grid_area": null,
            "grid_template_columns": null,
            "flex": null,
            "_model_name": "LayoutModel",
            "justify_items": null,
            "grid_row": null,
            "max_height": null,
            "align_content": null,
            "visibility": null,
            "align_self": null,
            "height": null,
            "min_height": null,
            "padding": null,
            "grid_auto_rows": null,
            "grid_gap": null,
            "max_width": null,
            "order": null,
            "_view_module_version": "1.2.0",
            "grid_template_areas": null,
            "object_position": null,
            "object_fit": null,
            "grid_auto_columns": null,
            "margin": null,
            "display": null,
            "left": null
          }
        },
        "87889d155d60434989ef0629d7d09f59": {
          "model_module": "@jupyter-widgets/controls",
          "model_name": "FloatProgressModel",
          "state": {
            "_view_name": "ProgressView",
            "style": "IPY_MODEL_e1718f0f424446c7af64ec12a635300b",
            "_dom_classes": [],
            "description": "Epoch 3: 100%",
            "_model_name": "FloatProgressModel",
            "bar_style": "success",
            "max": 298,
            "_view_module": "@jupyter-widgets/controls",
            "_model_module_version": "1.5.0",
            "value": 298,
            "_view_count": null,
            "_view_module_version": "1.5.0",
            "orientation": "horizontal",
            "min": 0,
            "description_tooltip": null,
            "_model_module": "@jupyter-widgets/controls",
            "layout": "IPY_MODEL_7cf1e5eb9dc94f6ab51aed76507795fb"
          }
        },
        "9f9bdeb97ac24154b6c15ef7d23086b6": {
          "model_module": "@jupyter-widgets/controls",
          "model_name": "HTMLModel",
          "state": {
            "_view_name": "HTMLView",
            "style": "IPY_MODEL_d11c931d6d8e4412bcfc9eb7ba423f05",
            "_dom_classes": [],
            "description": "",
            "_model_name": "HTMLModel",
            "placeholder": "​",
            "_view_module": "@jupyter-widgets/controls",
            "_model_module_version": "1.5.0",
            "value": " 298/298 [15:59&lt;00:00,  3.22s/it]",
            "_view_count": null,
            "_view_module_version": "1.5.0",
            "description_tooltip": null,
            "_model_module": "@jupyter-widgets/controls",
            "layout": "IPY_MODEL_f3ab82014016435bac92cba16d32283a"
          }
        },
        "e1718f0f424446c7af64ec12a635300b": {
          "model_module": "@jupyter-widgets/controls",
          "model_name": "ProgressStyleModel",
          "state": {
            "_view_name": "StyleView",
            "_model_name": "ProgressStyleModel",
            "description_width": "initial",
            "_view_module": "@jupyter-widgets/base",
            "_model_module_version": "1.5.0",
            "_view_count": null,
            "_view_module_version": "1.2.0",
            "bar_color": null,
            "_model_module": "@jupyter-widgets/controls"
          }
        },
        "7cf1e5eb9dc94f6ab51aed76507795fb": {
          "model_module": "@jupyter-widgets/base",
          "model_name": "LayoutModel",
          "state": {
            "_view_name": "LayoutView",
            "grid_template_rows": null,
            "right": null,
            "justify_content": null,
            "_view_module": "@jupyter-widgets/base",
            "overflow": null,
            "_model_module_version": "1.2.0",
            "_view_count": null,
            "flex_flow": null,
            "width": null,
            "min_width": null,
            "border": null,
            "align_items": null,
            "bottom": null,
            "_model_module": "@jupyter-widgets/base",
            "top": null,
            "grid_column": null,
            "overflow_y": null,
            "overflow_x": null,
            "grid_auto_flow": null,
            "grid_area": null,
            "grid_template_columns": null,
            "flex": null,
            "_model_name": "LayoutModel",
            "justify_items": null,
            "grid_row": null,
            "max_height": null,
            "align_content": null,
            "visibility": null,
            "align_self": null,
            "height": null,
            "min_height": null,
            "padding": null,
            "grid_auto_rows": null,
            "grid_gap": null,
            "max_width": null,
            "order": null,
            "_view_module_version": "1.2.0",
            "grid_template_areas": null,
            "object_position": null,
            "object_fit": null,
            "grid_auto_columns": null,
            "margin": null,
            "display": null,
            "left": null
          }
        },
        "d11c931d6d8e4412bcfc9eb7ba423f05": {
          "model_module": "@jupyter-widgets/controls",
          "model_name": "DescriptionStyleModel",
          "state": {
            "_view_name": "StyleView",
            "_model_name": "DescriptionStyleModel",
            "description_width": "",
            "_view_module": "@jupyter-widgets/base",
            "_model_module_version": "1.5.0",
            "_view_count": null,
            "_view_module_version": "1.2.0",
            "_model_module": "@jupyter-widgets/controls"
          }
        },
        "f3ab82014016435bac92cba16d32283a": {
          "model_module": "@jupyter-widgets/base",
          "model_name": "LayoutModel",
          "state": {
            "_view_name": "LayoutView",
            "grid_template_rows": null,
            "right": null,
            "justify_content": null,
            "_view_module": "@jupyter-widgets/base",
            "overflow": null,
            "_model_module_version": "1.2.0",
            "_view_count": null,
            "flex_flow": null,
            "width": null,
            "min_width": null,
            "border": null,
            "align_items": null,
            "bottom": null,
            "_model_module": "@jupyter-widgets/base",
            "top": null,
            "grid_column": null,
            "overflow_y": null,
            "overflow_x": null,
            "grid_auto_flow": null,
            "grid_area": null,
            "grid_template_columns": null,
            "flex": null,
            "_model_name": "LayoutModel",
            "justify_items": null,
            "grid_row": null,
            "max_height": null,
            "align_content": null,
            "visibility": null,
            "align_self": null,
            "height": null,
            "min_height": null,
            "padding": null,
            "grid_auto_rows": null,
            "grid_gap": null,
            "max_width": null,
            "order": null,
            "_view_module_version": "1.2.0",
            "grid_template_areas": null,
            "object_position": null,
            "object_fit": null,
            "grid_auto_columns": null,
            "margin": null,
            "display": null,
            "left": null
          }
        },
        "d4f93b5654a94dd0b7bc84614728873a": {
          "model_module": "@jupyter-widgets/controls",
          "model_name": "HBoxModel",
          "state": {
            "_view_name": "HBoxView",
            "_dom_classes": [],
            "_model_name": "HBoxModel",
            "_view_module": "@jupyter-widgets/controls",
            "_model_module_version": "1.5.0",
            "_view_count": null,
            "_view_module_version": "1.5.0",
            "box_style": "",
            "layout": "IPY_MODEL_230b0417d30e47b489c0191b6fec588b",
            "_model_module": "@jupyter-widgets/controls",
            "children": [
              "IPY_MODEL_7921d058c2b442ef8d61eb96ccde335f",
              "IPY_MODEL_fe5e94e7dc5d4f38bf1a15d3cd32c29b"
            ]
          }
        },
        "230b0417d30e47b489c0191b6fec588b": {
          "model_module": "@jupyter-widgets/base",
          "model_name": "LayoutModel",
          "state": {
            "_view_name": "LayoutView",
            "grid_template_rows": null,
            "right": null,
            "justify_content": null,
            "_view_module": "@jupyter-widgets/base",
            "overflow": null,
            "_model_module_version": "1.2.0",
            "_view_count": null,
            "flex_flow": null,
            "width": null,
            "min_width": null,
            "border": null,
            "align_items": null,
            "bottom": null,
            "_model_module": "@jupyter-widgets/base",
            "top": null,
            "grid_column": null,
            "overflow_y": null,
            "overflow_x": null,
            "grid_auto_flow": null,
            "grid_area": null,
            "grid_template_columns": null,
            "flex": null,
            "_model_name": "LayoutModel",
            "justify_items": null,
            "grid_row": null,
            "max_height": null,
            "align_content": null,
            "visibility": null,
            "align_self": null,
            "height": null,
            "min_height": null,
            "padding": null,
            "grid_auto_rows": null,
            "grid_gap": null,
            "max_width": null,
            "order": null,
            "_view_module_version": "1.2.0",
            "grid_template_areas": null,
            "object_position": null,
            "object_fit": null,
            "grid_auto_columns": null,
            "margin": null,
            "display": null,
            "left": null
          }
        },
        "7921d058c2b442ef8d61eb96ccde335f": {
          "model_module": "@jupyter-widgets/controls",
          "model_name": "FloatProgressModel",
          "state": {
            "_view_name": "ProgressView",
            "style": "IPY_MODEL_3d620a4318864605bdf5fe871fef8e43",
            "_dom_classes": [],
            "description": "Epoch 4: 100%",
            "_model_name": "FloatProgressModel",
            "bar_style": "success",
            "max": 298,
            "_view_module": "@jupyter-widgets/controls",
            "_model_module_version": "1.5.0",
            "value": 298,
            "_view_count": null,
            "_view_module_version": "1.5.0",
            "orientation": "horizontal",
            "min": 0,
            "description_tooltip": null,
            "_model_module": "@jupyter-widgets/controls",
            "layout": "IPY_MODEL_a56cf40a7fbe4bff952bd8d390f90908"
          }
        },
        "fe5e94e7dc5d4f38bf1a15d3cd32c29b": {
          "model_module": "@jupyter-widgets/controls",
          "model_name": "HTMLModel",
          "state": {
            "_view_name": "HTMLView",
            "style": "IPY_MODEL_b40a1110834e4724bb7e0d53fde95e98",
            "_dom_classes": [],
            "description": "",
            "_model_name": "HTMLModel",
            "placeholder": "​",
            "_view_module": "@jupyter-widgets/controls",
            "_model_module_version": "1.5.0",
            "value": " 298/298 [13:34&lt;00:00,  2.73s/it]",
            "_view_count": null,
            "_view_module_version": "1.5.0",
            "description_tooltip": null,
            "_model_module": "@jupyter-widgets/controls",
            "layout": "IPY_MODEL_076b5a2b8b7b48d29c7ecd96a14742b1"
          }
        },
        "3d620a4318864605bdf5fe871fef8e43": {
          "model_module": "@jupyter-widgets/controls",
          "model_name": "ProgressStyleModel",
          "state": {
            "_view_name": "StyleView",
            "_model_name": "ProgressStyleModel",
            "description_width": "initial",
            "_view_module": "@jupyter-widgets/base",
            "_model_module_version": "1.5.0",
            "_view_count": null,
            "_view_module_version": "1.2.0",
            "bar_color": null,
            "_model_module": "@jupyter-widgets/controls"
          }
        },
        "a56cf40a7fbe4bff952bd8d390f90908": {
          "model_module": "@jupyter-widgets/base",
          "model_name": "LayoutModel",
          "state": {
            "_view_name": "LayoutView",
            "grid_template_rows": null,
            "right": null,
            "justify_content": null,
            "_view_module": "@jupyter-widgets/base",
            "overflow": null,
            "_model_module_version": "1.2.0",
            "_view_count": null,
            "flex_flow": null,
            "width": null,
            "min_width": null,
            "border": null,
            "align_items": null,
            "bottom": null,
            "_model_module": "@jupyter-widgets/base",
            "top": null,
            "grid_column": null,
            "overflow_y": null,
            "overflow_x": null,
            "grid_auto_flow": null,
            "grid_area": null,
            "grid_template_columns": null,
            "flex": null,
            "_model_name": "LayoutModel",
            "justify_items": null,
            "grid_row": null,
            "max_height": null,
            "align_content": null,
            "visibility": null,
            "align_self": null,
            "height": null,
            "min_height": null,
            "padding": null,
            "grid_auto_rows": null,
            "grid_gap": null,
            "max_width": null,
            "order": null,
            "_view_module_version": "1.2.0",
            "grid_template_areas": null,
            "object_position": null,
            "object_fit": null,
            "grid_auto_columns": null,
            "margin": null,
            "display": null,
            "left": null
          }
        },
        "b40a1110834e4724bb7e0d53fde95e98": {
          "model_module": "@jupyter-widgets/controls",
          "model_name": "DescriptionStyleModel",
          "state": {
            "_view_name": "StyleView",
            "_model_name": "DescriptionStyleModel",
            "description_width": "",
            "_view_module": "@jupyter-widgets/base",
            "_model_module_version": "1.5.0",
            "_view_count": null,
            "_view_module_version": "1.2.0",
            "_model_module": "@jupyter-widgets/controls"
          }
        },
        "076b5a2b8b7b48d29c7ecd96a14742b1": {
          "model_module": "@jupyter-widgets/base",
          "model_name": "LayoutModel",
          "state": {
            "_view_name": "LayoutView",
            "grid_template_rows": null,
            "right": null,
            "justify_content": null,
            "_view_module": "@jupyter-widgets/base",
            "overflow": null,
            "_model_module_version": "1.2.0",
            "_view_count": null,
            "flex_flow": null,
            "width": null,
            "min_width": null,
            "border": null,
            "align_items": null,
            "bottom": null,
            "_model_module": "@jupyter-widgets/base",
            "top": null,
            "grid_column": null,
            "overflow_y": null,
            "overflow_x": null,
            "grid_auto_flow": null,
            "grid_area": null,
            "grid_template_columns": null,
            "flex": null,
            "_model_name": "LayoutModel",
            "justify_items": null,
            "grid_row": null,
            "max_height": null,
            "align_content": null,
            "visibility": null,
            "align_self": null,
            "height": null,
            "min_height": null,
            "padding": null,
            "grid_auto_rows": null,
            "grid_gap": null,
            "max_width": null,
            "order": null,
            "_view_module_version": "1.2.0",
            "grid_template_areas": null,
            "object_position": null,
            "object_fit": null,
            "grid_auto_columns": null,
            "margin": null,
            "display": null,
            "left": null
          }
        },
        "0ddaf32dfe1045dcb511b8f1855a7a8a": {
          "model_module": "@jupyter-widgets/controls",
          "model_name": "HBoxModel",
          "state": {
            "_view_name": "HBoxView",
            "_dom_classes": [],
            "_model_name": "HBoxModel",
            "_view_module": "@jupyter-widgets/controls",
            "_model_module_version": "1.5.0",
            "_view_count": null,
            "_view_module_version": "1.5.0",
            "box_style": "",
            "layout": "IPY_MODEL_e621146eacd0456a83380e8a7694694c",
            "_model_module": "@jupyter-widgets/controls",
            "children": [
              "IPY_MODEL_91ed9d0dc21447dc993f0719e04b56a3",
              "IPY_MODEL_d38e3e8f2c0c40c2a3cf342f1c8d6a3b"
            ]
          }
        },
        "e621146eacd0456a83380e8a7694694c": {
          "model_module": "@jupyter-widgets/base",
          "model_name": "LayoutModel",
          "state": {
            "_view_name": "LayoutView",
            "grid_template_rows": null,
            "right": null,
            "justify_content": null,
            "_view_module": "@jupyter-widgets/base",
            "overflow": null,
            "_model_module_version": "1.2.0",
            "_view_count": null,
            "flex_flow": null,
            "width": null,
            "min_width": null,
            "border": null,
            "align_items": null,
            "bottom": null,
            "_model_module": "@jupyter-widgets/base",
            "top": null,
            "grid_column": null,
            "overflow_y": null,
            "overflow_x": null,
            "grid_auto_flow": null,
            "grid_area": null,
            "grid_template_columns": null,
            "flex": null,
            "_model_name": "LayoutModel",
            "justify_items": null,
            "grid_row": null,
            "max_height": null,
            "align_content": null,
            "visibility": null,
            "align_self": null,
            "height": null,
            "min_height": null,
            "padding": null,
            "grid_auto_rows": null,
            "grid_gap": null,
            "max_width": null,
            "order": null,
            "_view_module_version": "1.2.0",
            "grid_template_areas": null,
            "object_position": null,
            "object_fit": null,
            "grid_auto_columns": null,
            "margin": null,
            "display": null,
            "left": null
          }
        },
        "91ed9d0dc21447dc993f0719e04b56a3": {
          "model_module": "@jupyter-widgets/controls",
          "model_name": "FloatProgressModel",
          "state": {
            "_view_name": "ProgressView",
            "style": "IPY_MODEL_0c1744da3cb345f7a463f6e35314e855",
            "_dom_classes": [],
            "description": "Epoch 5: 100%",
            "_model_name": "FloatProgressModel",
            "bar_style": "success",
            "max": 298,
            "_view_module": "@jupyter-widgets/controls",
            "_model_module_version": "1.5.0",
            "value": 298,
            "_view_count": null,
            "_view_module_version": "1.5.0",
            "orientation": "horizontal",
            "min": 0,
            "description_tooltip": null,
            "_model_module": "@jupyter-widgets/controls",
            "layout": "IPY_MODEL_d307be827eed4bd89a81e8e648af27e2"
          }
        },
        "d38e3e8f2c0c40c2a3cf342f1c8d6a3b": {
          "model_module": "@jupyter-widgets/controls",
          "model_name": "HTMLModel",
          "state": {
            "_view_name": "HTMLView",
            "style": "IPY_MODEL_d1b7ead8bddf4c3ea6cfba4e883783df",
            "_dom_classes": [],
            "description": "",
            "_model_name": "HTMLModel",
            "placeholder": "​",
            "_view_module": "@jupyter-widgets/controls",
            "_model_module_version": "1.5.0",
            "value": " 298/298 [11:09&lt;00:00,  2.25s/it]",
            "_view_count": null,
            "_view_module_version": "1.5.0",
            "description_tooltip": null,
            "_model_module": "@jupyter-widgets/controls",
            "layout": "IPY_MODEL_bde957517d7546c3a44f499392c1bb04"
          }
        },
        "0c1744da3cb345f7a463f6e35314e855": {
          "model_module": "@jupyter-widgets/controls",
          "model_name": "ProgressStyleModel",
          "state": {
            "_view_name": "StyleView",
            "_model_name": "ProgressStyleModel",
            "description_width": "initial",
            "_view_module": "@jupyter-widgets/base",
            "_model_module_version": "1.5.0",
            "_view_count": null,
            "_view_module_version": "1.2.0",
            "bar_color": null,
            "_model_module": "@jupyter-widgets/controls"
          }
        },
        "d307be827eed4bd89a81e8e648af27e2": {
          "model_module": "@jupyter-widgets/base",
          "model_name": "LayoutModel",
          "state": {
            "_view_name": "LayoutView",
            "grid_template_rows": null,
            "right": null,
            "justify_content": null,
            "_view_module": "@jupyter-widgets/base",
            "overflow": null,
            "_model_module_version": "1.2.0",
            "_view_count": null,
            "flex_flow": null,
            "width": null,
            "min_width": null,
            "border": null,
            "align_items": null,
            "bottom": null,
            "_model_module": "@jupyter-widgets/base",
            "top": null,
            "grid_column": null,
            "overflow_y": null,
            "overflow_x": null,
            "grid_auto_flow": null,
            "grid_area": null,
            "grid_template_columns": null,
            "flex": null,
            "_model_name": "LayoutModel",
            "justify_items": null,
            "grid_row": null,
            "max_height": null,
            "align_content": null,
            "visibility": null,
            "align_self": null,
            "height": null,
            "min_height": null,
            "padding": null,
            "grid_auto_rows": null,
            "grid_gap": null,
            "max_width": null,
            "order": null,
            "_view_module_version": "1.2.0",
            "grid_template_areas": null,
            "object_position": null,
            "object_fit": null,
            "grid_auto_columns": null,
            "margin": null,
            "display": null,
            "left": null
          }
        },
        "d1b7ead8bddf4c3ea6cfba4e883783df": {
          "model_module": "@jupyter-widgets/controls",
          "model_name": "DescriptionStyleModel",
          "state": {
            "_view_name": "StyleView",
            "_model_name": "DescriptionStyleModel",
            "description_width": "",
            "_view_module": "@jupyter-widgets/base",
            "_model_module_version": "1.5.0",
            "_view_count": null,
            "_view_module_version": "1.2.0",
            "_model_module": "@jupyter-widgets/controls"
          }
        },
        "bde957517d7546c3a44f499392c1bb04": {
          "model_module": "@jupyter-widgets/base",
          "model_name": "LayoutModel",
          "state": {
            "_view_name": "LayoutView",
            "grid_template_rows": null,
            "right": null,
            "justify_content": null,
            "_view_module": "@jupyter-widgets/base",
            "overflow": null,
            "_model_module_version": "1.2.0",
            "_view_count": null,
            "flex_flow": null,
            "width": null,
            "min_width": null,
            "border": null,
            "align_items": null,
            "bottom": null,
            "_model_module": "@jupyter-widgets/base",
            "top": null,
            "grid_column": null,
            "overflow_y": null,
            "overflow_x": null,
            "grid_auto_flow": null,
            "grid_area": null,
            "grid_template_columns": null,
            "flex": null,
            "_model_name": "LayoutModel",
            "justify_items": null,
            "grid_row": null,
            "max_height": null,
            "align_content": null,
            "visibility": null,
            "align_self": null,
            "height": null,
            "min_height": null,
            "padding": null,
            "grid_auto_rows": null,
            "grid_gap": null,
            "max_width": null,
            "order": null,
            "_view_module_version": "1.2.0",
            "grid_template_areas": null,
            "object_position": null,
            "object_fit": null,
            "grid_auto_columns": null,
            "margin": null,
            "display": null,
            "left": null
          }
        },
        "985b4f0a036d4091a9a5b0481ab94123": {
          "model_module": "@jupyter-widgets/controls",
          "model_name": "HBoxModel",
          "state": {
            "_view_name": "HBoxView",
            "_dom_classes": [],
            "_model_name": "HBoxModel",
            "_view_module": "@jupyter-widgets/controls",
            "_model_module_version": "1.5.0",
            "_view_count": null,
            "_view_module_version": "1.5.0",
            "box_style": "",
            "layout": "IPY_MODEL_6be1298ac5b64afbb6213625f85aa19e",
            "_model_module": "@jupyter-widgets/controls",
            "children": [
              "IPY_MODEL_5c2d3dddd9514a1b85c514a487677f68",
              "IPY_MODEL_367bee5cfa7143f4a3554f041098011b"
            ]
          }
        },
        "6be1298ac5b64afbb6213625f85aa19e": {
          "model_module": "@jupyter-widgets/base",
          "model_name": "LayoutModel",
          "state": {
            "_view_name": "LayoutView",
            "grid_template_rows": null,
            "right": null,
            "justify_content": null,
            "_view_module": "@jupyter-widgets/base",
            "overflow": null,
            "_model_module_version": "1.2.0",
            "_view_count": null,
            "flex_flow": null,
            "width": null,
            "min_width": null,
            "border": null,
            "align_items": null,
            "bottom": null,
            "_model_module": "@jupyter-widgets/base",
            "top": null,
            "grid_column": null,
            "overflow_y": null,
            "overflow_x": null,
            "grid_auto_flow": null,
            "grid_area": null,
            "grid_template_columns": null,
            "flex": null,
            "_model_name": "LayoutModel",
            "justify_items": null,
            "grid_row": null,
            "max_height": null,
            "align_content": null,
            "visibility": null,
            "align_self": null,
            "height": null,
            "min_height": null,
            "padding": null,
            "grid_auto_rows": null,
            "grid_gap": null,
            "max_width": null,
            "order": null,
            "_view_module_version": "1.2.0",
            "grid_template_areas": null,
            "object_position": null,
            "object_fit": null,
            "grid_auto_columns": null,
            "margin": null,
            "display": null,
            "left": null
          }
        },
        "5c2d3dddd9514a1b85c514a487677f68": {
          "model_module": "@jupyter-widgets/controls",
          "model_name": "FloatProgressModel",
          "state": {
            "_view_name": "ProgressView",
            "style": "IPY_MODEL_723b46459c554d9485753afc9ae3ddc6",
            "_dom_classes": [],
            "description": "100%",
            "_model_name": "FloatProgressModel",
            "bar_style": "success",
            "max": 356082095,
            "_view_module": "@jupyter-widgets/controls",
            "_model_module_version": "1.5.0",
            "value": 356082095,
            "_view_count": null,
            "_view_module_version": "1.5.0",
            "orientation": "horizontal",
            "min": 0,
            "description_tooltip": null,
            "_model_module": "@jupyter-widgets/controls",
            "layout": "IPY_MODEL_0c50fefc191b4bb9b34518436c7d6c47"
          }
        },
        "367bee5cfa7143f4a3554f041098011b": {
          "model_module": "@jupyter-widgets/controls",
          "model_name": "HTMLModel",
          "state": {
            "_view_name": "HTMLView",
            "style": "IPY_MODEL_5614aad47e04435aba1295aad3717422",
            "_dom_classes": [],
            "description": "",
            "_model_name": "HTMLModel",
            "placeholder": "​",
            "_view_module": "@jupyter-widgets/controls",
            "_model_module_version": "1.5.0",
            "value": " 340M/340M [00:03&lt;00:00, 101MB/s]",
            "_view_count": null,
            "_view_module_version": "1.5.0",
            "description_tooltip": null,
            "_model_module": "@jupyter-widgets/controls",
            "layout": "IPY_MODEL_73e8bd35a3af4cb382f3d44254047073"
          }
        },
        "723b46459c554d9485753afc9ae3ddc6": {
          "model_module": "@jupyter-widgets/controls",
          "model_name": "ProgressStyleModel",
          "state": {
            "_view_name": "StyleView",
            "_model_name": "ProgressStyleModel",
            "description_width": "initial",
            "_view_module": "@jupyter-widgets/base",
            "_model_module_version": "1.5.0",
            "_view_count": null,
            "_view_module_version": "1.2.0",
            "bar_color": null,
            "_model_module": "@jupyter-widgets/controls"
          }
        },
        "0c50fefc191b4bb9b34518436c7d6c47": {
          "model_module": "@jupyter-widgets/base",
          "model_name": "LayoutModel",
          "state": {
            "_view_name": "LayoutView",
            "grid_template_rows": null,
            "right": null,
            "justify_content": null,
            "_view_module": "@jupyter-widgets/base",
            "overflow": null,
            "_model_module_version": "1.2.0",
            "_view_count": null,
            "flex_flow": null,
            "width": null,
            "min_width": null,
            "border": null,
            "align_items": null,
            "bottom": null,
            "_model_module": "@jupyter-widgets/base",
            "top": null,
            "grid_column": null,
            "overflow_y": null,
            "overflow_x": null,
            "grid_auto_flow": null,
            "grid_area": null,
            "grid_template_columns": null,
            "flex": null,
            "_model_name": "LayoutModel",
            "justify_items": null,
            "grid_row": null,
            "max_height": null,
            "align_content": null,
            "visibility": null,
            "align_self": null,
            "height": null,
            "min_height": null,
            "padding": null,
            "grid_auto_rows": null,
            "grid_gap": null,
            "max_width": null,
            "order": null,
            "_view_module_version": "1.2.0",
            "grid_template_areas": null,
            "object_position": null,
            "object_fit": null,
            "grid_auto_columns": null,
            "margin": null,
            "display": null,
            "left": null
          }
        },
        "5614aad47e04435aba1295aad3717422": {
          "model_module": "@jupyter-widgets/controls",
          "model_name": "DescriptionStyleModel",
          "state": {
            "_view_name": "StyleView",
            "_model_name": "DescriptionStyleModel",
            "description_width": "",
            "_view_module": "@jupyter-widgets/base",
            "_model_module_version": "1.5.0",
            "_view_count": null,
            "_view_module_version": "1.2.0",
            "_model_module": "@jupyter-widgets/controls"
          }
        },
        "73e8bd35a3af4cb382f3d44254047073": {
          "model_module": "@jupyter-widgets/base",
          "model_name": "LayoutModel",
          "state": {
            "_view_name": "LayoutView",
            "grid_template_rows": null,
            "right": null,
            "justify_content": null,
            "_view_module": "@jupyter-widgets/base",
            "overflow": null,
            "_model_module_version": "1.2.0",
            "_view_count": null,
            "flex_flow": null,
            "width": null,
            "min_width": null,
            "border": null,
            "align_items": null,
            "bottom": null,
            "_model_module": "@jupyter-widgets/base",
            "top": null,
            "grid_column": null,
            "overflow_y": null,
            "overflow_x": null,
            "grid_auto_flow": null,
            "grid_area": null,
            "grid_template_columns": null,
            "flex": null,
            "_model_name": "LayoutModel",
            "justify_items": null,
            "grid_row": null,
            "max_height": null,
            "align_content": null,
            "visibility": null,
            "align_self": null,
            "height": null,
            "min_height": null,
            "padding": null,
            "grid_auto_rows": null,
            "grid_gap": null,
            "max_width": null,
            "order": null,
            "_view_module_version": "1.2.0",
            "grid_template_areas": null,
            "object_position": null,
            "object_fit": null,
            "grid_auto_columns": null,
            "margin": null,
            "display": null,
            "left": null
          }
        },
        "171adb9b102b42e292606540864437eb": {
          "model_module": "@jupyter-widgets/controls",
          "model_name": "HBoxModel",
          "state": {
            "_view_name": "HBoxView",
            "_dom_classes": [],
            "_model_name": "HBoxModel",
            "_view_module": "@jupyter-widgets/controls",
            "_model_module_version": "1.5.0",
            "_view_count": null,
            "_view_module_version": "1.5.0",
            "box_style": "",
            "layout": "IPY_MODEL_4d6dc6603cf8499f9b7fe7fc63b3ee13",
            "_model_module": "@jupyter-widgets/controls",
            "children": [
              "IPY_MODEL_b0a1b2f4c16a4a3798c6eeec066c6e2b",
              "IPY_MODEL_c877227d0f6845f5b7437a325fbc580f"
            ]
          }
        },
        "4d6dc6603cf8499f9b7fe7fc63b3ee13": {
          "model_module": "@jupyter-widgets/base",
          "model_name": "LayoutModel",
          "state": {
            "_view_name": "LayoutView",
            "grid_template_rows": null,
            "right": null,
            "justify_content": null,
            "_view_module": "@jupyter-widgets/base",
            "overflow": null,
            "_model_module_version": "1.2.0",
            "_view_count": null,
            "flex_flow": null,
            "width": null,
            "min_width": null,
            "border": null,
            "align_items": null,
            "bottom": null,
            "_model_module": "@jupyter-widgets/base",
            "top": null,
            "grid_column": null,
            "overflow_y": null,
            "overflow_x": null,
            "grid_auto_flow": null,
            "grid_area": null,
            "grid_template_columns": null,
            "flex": null,
            "_model_name": "LayoutModel",
            "justify_items": null,
            "grid_row": null,
            "max_height": null,
            "align_content": null,
            "visibility": null,
            "align_self": null,
            "height": null,
            "min_height": null,
            "padding": null,
            "grid_auto_rows": null,
            "grid_gap": null,
            "max_width": null,
            "order": null,
            "_view_module_version": "1.2.0",
            "grid_template_areas": null,
            "object_position": null,
            "object_fit": null,
            "grid_auto_columns": null,
            "margin": null,
            "display": null,
            "left": null
          }
        },
        "b0a1b2f4c16a4a3798c6eeec066c6e2b": {
          "model_module": "@jupyter-widgets/controls",
          "model_name": "FloatProgressModel",
          "state": {
            "_view_name": "ProgressView",
            "style": "IPY_MODEL_3d8e8c6b89cd41ca94463b3937c11791",
            "_dom_classes": [],
            "description": "Epoch 0:  99%",
            "_model_name": "FloatProgressModel",
            "bar_style": "danger",
            "max": 199,
            "_view_module": "@jupyter-widgets/controls",
            "_model_module_version": "1.5.0",
            "value": 198,
            "_view_count": null,
            "_view_module_version": "1.5.0",
            "orientation": "horizontal",
            "min": 0,
            "description_tooltip": null,
            "_model_module": "@jupyter-widgets/controls",
            "layout": "IPY_MODEL_308c71cafb6c45dc876be844935acced"
          }
        },
        "c877227d0f6845f5b7437a325fbc580f": {
          "model_module": "@jupyter-widgets/controls",
          "model_name": "HTMLModel",
          "state": {
            "_view_name": "HTMLView",
            "style": "IPY_MODEL_292bdc78f1894f128a859635afbc08e9",
            "_dom_classes": [],
            "description": "",
            "_model_name": "HTMLModel",
            "placeholder": "​",
            "_view_module": "@jupyter-widgets/controls",
            "_model_module_version": "1.5.0",
            "value": " 198/199 [12:48&lt;00:03,  3.88s/it]",
            "_view_count": null,
            "_view_module_version": "1.5.0",
            "description_tooltip": null,
            "_model_module": "@jupyter-widgets/controls",
            "layout": "IPY_MODEL_488a70c2ec6042358311351a20332cb8"
          }
        },
        "3d8e8c6b89cd41ca94463b3937c11791": {
          "model_module": "@jupyter-widgets/controls",
          "model_name": "ProgressStyleModel",
          "state": {
            "_view_name": "StyleView",
            "_model_name": "ProgressStyleModel",
            "description_width": "initial",
            "_view_module": "@jupyter-widgets/base",
            "_model_module_version": "1.5.0",
            "_view_count": null,
            "_view_module_version": "1.2.0",
            "bar_color": null,
            "_model_module": "@jupyter-widgets/controls"
          }
        },
        "308c71cafb6c45dc876be844935acced": {
          "model_module": "@jupyter-widgets/base",
          "model_name": "LayoutModel",
          "state": {
            "_view_name": "LayoutView",
            "grid_template_rows": null,
            "right": null,
            "justify_content": null,
            "_view_module": "@jupyter-widgets/base",
            "overflow": null,
            "_model_module_version": "1.2.0",
            "_view_count": null,
            "flex_flow": null,
            "width": null,
            "min_width": null,
            "border": null,
            "align_items": null,
            "bottom": null,
            "_model_module": "@jupyter-widgets/base",
            "top": null,
            "grid_column": null,
            "overflow_y": null,
            "overflow_x": null,
            "grid_auto_flow": null,
            "grid_area": null,
            "grid_template_columns": null,
            "flex": null,
            "_model_name": "LayoutModel",
            "justify_items": null,
            "grid_row": null,
            "max_height": null,
            "align_content": null,
            "visibility": null,
            "align_self": null,
            "height": null,
            "min_height": null,
            "padding": null,
            "grid_auto_rows": null,
            "grid_gap": null,
            "max_width": null,
            "order": null,
            "_view_module_version": "1.2.0",
            "grid_template_areas": null,
            "object_position": null,
            "object_fit": null,
            "grid_auto_columns": null,
            "margin": null,
            "display": null,
            "left": null
          }
        },
        "292bdc78f1894f128a859635afbc08e9": {
          "model_module": "@jupyter-widgets/controls",
          "model_name": "DescriptionStyleModel",
          "state": {
            "_view_name": "StyleView",
            "_model_name": "DescriptionStyleModel",
            "description_width": "",
            "_view_module": "@jupyter-widgets/base",
            "_model_module_version": "1.5.0",
            "_view_count": null,
            "_view_module_version": "1.2.0",
            "_model_module": "@jupyter-widgets/controls"
          }
        },
        "488a70c2ec6042358311351a20332cb8": {
          "model_module": "@jupyter-widgets/base",
          "model_name": "LayoutModel",
          "state": {
            "_view_name": "LayoutView",
            "grid_template_rows": null,
            "right": null,
            "justify_content": null,
            "_view_module": "@jupyter-widgets/base",
            "overflow": null,
            "_model_module_version": "1.2.0",
            "_view_count": null,
            "flex_flow": null,
            "width": null,
            "min_width": null,
            "border": null,
            "align_items": null,
            "bottom": null,
            "_model_module": "@jupyter-widgets/base",
            "top": null,
            "grid_column": null,
            "overflow_y": null,
            "overflow_x": null,
            "grid_auto_flow": null,
            "grid_area": null,
            "grid_template_columns": null,
            "flex": null,
            "_model_name": "LayoutModel",
            "justify_items": null,
            "grid_row": null,
            "max_height": null,
            "align_content": null,
            "visibility": null,
            "align_self": null,
            "height": null,
            "min_height": null,
            "padding": null,
            "grid_auto_rows": null,
            "grid_gap": null,
            "max_width": null,
            "order": null,
            "_view_module_version": "1.2.0",
            "grid_template_areas": null,
            "object_position": null,
            "object_fit": null,
            "grid_auto_columns": null,
            "margin": null,
            "display": null,
            "left": null
          }
        },
        "e4a1fba32e76432e864a65f9f80ced60": {
          "model_module": "@jupyter-widgets/controls",
          "model_name": "HBoxModel",
          "state": {
            "_view_name": "HBoxView",
            "_dom_classes": [],
            "_model_name": "HBoxModel",
            "_view_module": "@jupyter-widgets/controls",
            "_model_module_version": "1.5.0",
            "_view_count": null,
            "_view_module_version": "1.5.0",
            "box_style": "",
            "layout": "IPY_MODEL_a6f0b03985a046839ecdf2b8857f90be",
            "_model_module": "@jupyter-widgets/controls",
            "children": [
              "IPY_MODEL_1eb224c456b9410c847c411260cf62b6",
              "IPY_MODEL_cb9946e1cba34047bb9f3db303906674"
            ]
          }
        },
        "a6f0b03985a046839ecdf2b8857f90be": {
          "model_module": "@jupyter-widgets/base",
          "model_name": "LayoutModel",
          "state": {
            "_view_name": "LayoutView",
            "grid_template_rows": null,
            "right": null,
            "justify_content": null,
            "_view_module": "@jupyter-widgets/base",
            "overflow": null,
            "_model_module_version": "1.2.0",
            "_view_count": null,
            "flex_flow": null,
            "width": null,
            "min_width": null,
            "border": null,
            "align_items": null,
            "bottom": null,
            "_model_module": "@jupyter-widgets/base",
            "top": null,
            "grid_column": null,
            "overflow_y": null,
            "overflow_x": null,
            "grid_auto_flow": null,
            "grid_area": null,
            "grid_template_columns": null,
            "flex": null,
            "_model_name": "LayoutModel",
            "justify_items": null,
            "grid_row": null,
            "max_height": null,
            "align_content": null,
            "visibility": null,
            "align_self": null,
            "height": null,
            "min_height": null,
            "padding": null,
            "grid_auto_rows": null,
            "grid_gap": null,
            "max_width": null,
            "order": null,
            "_view_module_version": "1.2.0",
            "grid_template_areas": null,
            "object_position": null,
            "object_fit": null,
            "grid_auto_columns": null,
            "margin": null,
            "display": null,
            "left": null
          }
        },
        "1eb224c456b9410c847c411260cf62b6": {
          "model_module": "@jupyter-widgets/controls",
          "model_name": "FloatProgressModel",
          "state": {
            "_view_name": "ProgressView",
            "style": "IPY_MODEL_9a3354be41b6415b959d576d0a75b4b3",
            "_dom_classes": [],
            "description": "Epoch 1: 100%",
            "_model_name": "FloatProgressModel",
            "bar_style": "success",
            "max": 199,
            "_view_module": "@jupyter-widgets/controls",
            "_model_module_version": "1.5.0",
            "value": 199,
            "_view_count": null,
            "_view_module_version": "1.5.0",
            "orientation": "horizontal",
            "min": 0,
            "description_tooltip": null,
            "_model_module": "@jupyter-widgets/controls",
            "layout": "IPY_MODEL_cb7d09f82b8344a6b89e237d31013efd"
          }
        },
        "cb9946e1cba34047bb9f3db303906674": {
          "model_module": "@jupyter-widgets/controls",
          "model_name": "HTMLModel",
          "state": {
            "_view_name": "HTMLView",
            "style": "IPY_MODEL_47ef093672414ee18cebe7fb1c744171",
            "_dom_classes": [],
            "description": "",
            "_model_name": "HTMLModel",
            "placeholder": "​",
            "_view_module": "@jupyter-widgets/controls",
            "_model_module_version": "1.5.0",
            "value": " 199/199 [12:48&lt;00:00,  3.86s/it]",
            "_view_count": null,
            "_view_module_version": "1.5.0",
            "description_tooltip": null,
            "_model_module": "@jupyter-widgets/controls",
            "layout": "IPY_MODEL_f47cc83b3e7a4597946352db96747371"
          }
        },
        "9a3354be41b6415b959d576d0a75b4b3": {
          "model_module": "@jupyter-widgets/controls",
          "model_name": "ProgressStyleModel",
          "state": {
            "_view_name": "StyleView",
            "_model_name": "ProgressStyleModel",
            "description_width": "initial",
            "_view_module": "@jupyter-widgets/base",
            "_model_module_version": "1.5.0",
            "_view_count": null,
            "_view_module_version": "1.2.0",
            "bar_color": null,
            "_model_module": "@jupyter-widgets/controls"
          }
        },
        "cb7d09f82b8344a6b89e237d31013efd": {
          "model_module": "@jupyter-widgets/base",
          "model_name": "LayoutModel",
          "state": {
            "_view_name": "LayoutView",
            "grid_template_rows": null,
            "right": null,
            "justify_content": null,
            "_view_module": "@jupyter-widgets/base",
            "overflow": null,
            "_model_module_version": "1.2.0",
            "_view_count": null,
            "flex_flow": null,
            "width": null,
            "min_width": null,
            "border": null,
            "align_items": null,
            "bottom": null,
            "_model_module": "@jupyter-widgets/base",
            "top": null,
            "grid_column": null,
            "overflow_y": null,
            "overflow_x": null,
            "grid_auto_flow": null,
            "grid_area": null,
            "grid_template_columns": null,
            "flex": null,
            "_model_name": "LayoutModel",
            "justify_items": null,
            "grid_row": null,
            "max_height": null,
            "align_content": null,
            "visibility": null,
            "align_self": null,
            "height": null,
            "min_height": null,
            "padding": null,
            "grid_auto_rows": null,
            "grid_gap": null,
            "max_width": null,
            "order": null,
            "_view_module_version": "1.2.0",
            "grid_template_areas": null,
            "object_position": null,
            "object_fit": null,
            "grid_auto_columns": null,
            "margin": null,
            "display": null,
            "left": null
          }
        },
        "47ef093672414ee18cebe7fb1c744171": {
          "model_module": "@jupyter-widgets/controls",
          "model_name": "DescriptionStyleModel",
          "state": {
            "_view_name": "StyleView",
            "_model_name": "DescriptionStyleModel",
            "description_width": "",
            "_view_module": "@jupyter-widgets/base",
            "_model_module_version": "1.5.0",
            "_view_count": null,
            "_view_module_version": "1.2.0",
            "_model_module": "@jupyter-widgets/controls"
          }
        },
        "f47cc83b3e7a4597946352db96747371": {
          "model_module": "@jupyter-widgets/base",
          "model_name": "LayoutModel",
          "state": {
            "_view_name": "LayoutView",
            "grid_template_rows": null,
            "right": null,
            "justify_content": null,
            "_view_module": "@jupyter-widgets/base",
            "overflow": null,
            "_model_module_version": "1.2.0",
            "_view_count": null,
            "flex_flow": null,
            "width": null,
            "min_width": null,
            "border": null,
            "align_items": null,
            "bottom": null,
            "_model_module": "@jupyter-widgets/base",
            "top": null,
            "grid_column": null,
            "overflow_y": null,
            "overflow_x": null,
            "grid_auto_flow": null,
            "grid_area": null,
            "grid_template_columns": null,
            "flex": null,
            "_model_name": "LayoutModel",
            "justify_items": null,
            "grid_row": null,
            "max_height": null,
            "align_content": null,
            "visibility": null,
            "align_self": null,
            "height": null,
            "min_height": null,
            "padding": null,
            "grid_auto_rows": null,
            "grid_gap": null,
            "max_width": null,
            "order": null,
            "_view_module_version": "1.2.0",
            "grid_template_areas": null,
            "object_position": null,
            "object_fit": null,
            "grid_auto_columns": null,
            "margin": null,
            "display": null,
            "left": null
          }
        },
        "bc543366787144d3bc3b64636da2be72": {
          "model_module": "@jupyter-widgets/controls",
          "model_name": "HBoxModel",
          "state": {
            "_view_name": "HBoxView",
            "_dom_classes": [],
            "_model_name": "HBoxModel",
            "_view_module": "@jupyter-widgets/controls",
            "_model_module_version": "1.5.0",
            "_view_count": null,
            "_view_module_version": "1.5.0",
            "box_style": "",
            "layout": "IPY_MODEL_a7dbaa88ccf842d490ef3524e55177e3",
            "_model_module": "@jupyter-widgets/controls",
            "children": [
              "IPY_MODEL_500a8840bdca4eed9d5565b320f94bf0",
              "IPY_MODEL_6c10d8ed59dd46169bb825890107e62d"
            ]
          }
        },
        "a7dbaa88ccf842d490ef3524e55177e3": {
          "model_module": "@jupyter-widgets/base",
          "model_name": "LayoutModel",
          "state": {
            "_view_name": "LayoutView",
            "grid_template_rows": null,
            "right": null,
            "justify_content": null,
            "_view_module": "@jupyter-widgets/base",
            "overflow": null,
            "_model_module_version": "1.2.0",
            "_view_count": null,
            "flex_flow": null,
            "width": null,
            "min_width": null,
            "border": null,
            "align_items": null,
            "bottom": null,
            "_model_module": "@jupyter-widgets/base",
            "top": null,
            "grid_column": null,
            "overflow_y": null,
            "overflow_x": null,
            "grid_auto_flow": null,
            "grid_area": null,
            "grid_template_columns": null,
            "flex": null,
            "_model_name": "LayoutModel",
            "justify_items": null,
            "grid_row": null,
            "max_height": null,
            "align_content": null,
            "visibility": null,
            "align_self": null,
            "height": null,
            "min_height": null,
            "padding": null,
            "grid_auto_rows": null,
            "grid_gap": null,
            "max_width": null,
            "order": null,
            "_view_module_version": "1.2.0",
            "grid_template_areas": null,
            "object_position": null,
            "object_fit": null,
            "grid_auto_columns": null,
            "margin": null,
            "display": null,
            "left": null
          }
        },
        "500a8840bdca4eed9d5565b320f94bf0": {
          "model_module": "@jupyter-widgets/controls",
          "model_name": "FloatProgressModel",
          "state": {
            "_view_name": "ProgressView",
            "style": "IPY_MODEL_e2b0a11d9b7d43d8ab097fea5f203d53",
            "_dom_classes": [],
            "description": "Epoch 2:  18%",
            "_model_name": "FloatProgressModel",
            "bar_style": "danger",
            "max": 199,
            "_view_module": "@jupyter-widgets/controls",
            "_model_module_version": "1.5.0",
            "value": 36,
            "_view_count": null,
            "_view_module_version": "1.5.0",
            "orientation": "horizontal",
            "min": 0,
            "description_tooltip": null,
            "_model_module": "@jupyter-widgets/controls",
            "layout": "IPY_MODEL_4d8ddbd01363492e85ff9f0e86eded0c"
          }
        },
        "6c10d8ed59dd46169bb825890107e62d": {
          "model_module": "@jupyter-widgets/controls",
          "model_name": "HTMLModel",
          "state": {
            "_view_name": "HTMLView",
            "style": "IPY_MODEL_ec49558b42fe4c43b311f5fd814d8d96",
            "_dom_classes": [],
            "description": "",
            "_model_name": "HTMLModel",
            "placeholder": "​",
            "_view_module": "@jupyter-widgets/controls",
            "_model_module_version": "1.5.0",
            "value": " 36/199 [02:19&lt;10:28,  3.86s/it]",
            "_view_count": null,
            "_view_module_version": "1.5.0",
            "description_tooltip": null,
            "_model_module": "@jupyter-widgets/controls",
            "layout": "IPY_MODEL_484230e127ba4d2e829e9b99a59aa085"
          }
        },
        "e2b0a11d9b7d43d8ab097fea5f203d53": {
          "model_module": "@jupyter-widgets/controls",
          "model_name": "ProgressStyleModel",
          "state": {
            "_view_name": "StyleView",
            "_model_name": "ProgressStyleModel",
            "description_width": "initial",
            "_view_module": "@jupyter-widgets/base",
            "_model_module_version": "1.5.0",
            "_view_count": null,
            "_view_module_version": "1.2.0",
            "bar_color": null,
            "_model_module": "@jupyter-widgets/controls"
          }
        },
        "4d8ddbd01363492e85ff9f0e86eded0c": {
          "model_module": "@jupyter-widgets/base",
          "model_name": "LayoutModel",
          "state": {
            "_view_name": "LayoutView",
            "grid_template_rows": null,
            "right": null,
            "justify_content": null,
            "_view_module": "@jupyter-widgets/base",
            "overflow": null,
            "_model_module_version": "1.2.0",
            "_view_count": null,
            "flex_flow": null,
            "width": null,
            "min_width": null,
            "border": null,
            "align_items": null,
            "bottom": null,
            "_model_module": "@jupyter-widgets/base",
            "top": null,
            "grid_column": null,
            "overflow_y": null,
            "overflow_x": null,
            "grid_auto_flow": null,
            "grid_area": null,
            "grid_template_columns": null,
            "flex": null,
            "_model_name": "LayoutModel",
            "justify_items": null,
            "grid_row": null,
            "max_height": null,
            "align_content": null,
            "visibility": null,
            "align_self": null,
            "height": null,
            "min_height": null,
            "padding": null,
            "grid_auto_rows": null,
            "grid_gap": null,
            "max_width": null,
            "order": null,
            "_view_module_version": "1.2.0",
            "grid_template_areas": null,
            "object_position": null,
            "object_fit": null,
            "grid_auto_columns": null,
            "margin": null,
            "display": null,
            "left": null
          }
        },
        "ec49558b42fe4c43b311f5fd814d8d96": {
          "model_module": "@jupyter-widgets/controls",
          "model_name": "DescriptionStyleModel",
          "state": {
            "_view_name": "StyleView",
            "_model_name": "DescriptionStyleModel",
            "description_width": "",
            "_view_module": "@jupyter-widgets/base",
            "_model_module_version": "1.5.0",
            "_view_count": null,
            "_view_module_version": "1.2.0",
            "_model_module": "@jupyter-widgets/controls"
          }
        },
        "484230e127ba4d2e829e9b99a59aa085": {
          "model_module": "@jupyter-widgets/base",
          "model_name": "LayoutModel",
          "state": {
            "_view_name": "LayoutView",
            "grid_template_rows": null,
            "right": null,
            "justify_content": null,
            "_view_module": "@jupyter-widgets/base",
            "overflow": null,
            "_model_module_version": "1.2.0",
            "_view_count": null,
            "flex_flow": null,
            "width": null,
            "min_width": null,
            "border": null,
            "align_items": null,
            "bottom": null,
            "_model_module": "@jupyter-widgets/base",
            "top": null,
            "grid_column": null,
            "overflow_y": null,
            "overflow_x": null,
            "grid_auto_flow": null,
            "grid_area": null,
            "grid_template_columns": null,
            "flex": null,
            "_model_name": "LayoutModel",
            "justify_items": null,
            "grid_row": null,
            "max_height": null,
            "align_content": null,
            "visibility": null,
            "align_self": null,
            "height": null,
            "min_height": null,
            "padding": null,
            "grid_auto_rows": null,
            "grid_gap": null,
            "max_width": null,
            "order": null,
            "_view_module_version": "1.2.0",
            "grid_template_areas": null,
            "object_position": null,
            "object_fit": null,
            "grid_auto_columns": null,
            "margin": null,
            "display": null,
            "left": null
          }
        },
        "e33cafc3c77641f2acebb0c7ab3c03fb": {
          "model_module": "@jupyter-widgets/controls",
          "model_name": "HBoxModel",
          "state": {
            "_view_name": "HBoxView",
            "_dom_classes": [],
            "_model_name": "HBoxModel",
            "_view_module": "@jupyter-widgets/controls",
            "_model_module_version": "1.5.0",
            "_view_count": null,
            "_view_module_version": "1.5.0",
            "box_style": "",
            "layout": "IPY_MODEL_2d07889422904f86b0d319ba93d61683",
            "_model_module": "@jupyter-widgets/controls",
            "children": [
              "IPY_MODEL_d8a7728fa48144c08646cbda12aa0225",
              "IPY_MODEL_d3496d5095e344f89fd4d8098b4895c7"
            ]
          }
        },
        "2d07889422904f86b0d319ba93d61683": {
          "model_module": "@jupyter-widgets/base",
          "model_name": "LayoutModel",
          "state": {
            "_view_name": "LayoutView",
            "grid_template_rows": null,
            "right": null,
            "justify_content": null,
            "_view_module": "@jupyter-widgets/base",
            "overflow": null,
            "_model_module_version": "1.2.0",
            "_view_count": null,
            "flex_flow": null,
            "width": null,
            "min_width": null,
            "border": null,
            "align_items": null,
            "bottom": null,
            "_model_module": "@jupyter-widgets/base",
            "top": null,
            "grid_column": null,
            "overflow_y": null,
            "overflow_x": null,
            "grid_auto_flow": null,
            "grid_area": null,
            "grid_template_columns": null,
            "flex": null,
            "_model_name": "LayoutModel",
            "justify_items": null,
            "grid_row": null,
            "max_height": null,
            "align_content": null,
            "visibility": null,
            "align_self": null,
            "height": null,
            "min_height": null,
            "padding": null,
            "grid_auto_rows": null,
            "grid_gap": null,
            "max_width": null,
            "order": null,
            "_view_module_version": "1.2.0",
            "grid_template_areas": null,
            "object_position": null,
            "object_fit": null,
            "grid_auto_columns": null,
            "margin": null,
            "display": null,
            "left": null
          }
        },
        "d8a7728fa48144c08646cbda12aa0225": {
          "model_module": "@jupyter-widgets/controls",
          "model_name": "FloatProgressModel",
          "state": {
            "_view_name": "ProgressView",
            "style": "IPY_MODEL_2a791117fc42494bb4ecdf50b8e0c012",
            "_dom_classes": [],
            "description": "Epoch 0:  99%",
            "_model_name": "FloatProgressModel",
            "bar_style": "danger",
            "max": 199,
            "_view_module": "@jupyter-widgets/controls",
            "_model_module_version": "1.5.0",
            "value": 198,
            "_view_count": null,
            "_view_module_version": "1.5.0",
            "orientation": "horizontal",
            "min": 0,
            "description_tooltip": null,
            "_model_module": "@jupyter-widgets/controls",
            "layout": "IPY_MODEL_fd539b8598734fc79543604c1b1d6763"
          }
        },
        "d3496d5095e344f89fd4d8098b4895c7": {
          "model_module": "@jupyter-widgets/controls",
          "model_name": "HTMLModel",
          "state": {
            "_view_name": "HTMLView",
            "style": "IPY_MODEL_e9ca94fe8f104d15880b6fa37b4ccf04",
            "_dom_classes": [],
            "description": "",
            "_model_name": "HTMLModel",
            "placeholder": "​",
            "_view_module": "@jupyter-widgets/controls",
            "_model_module_version": "1.5.0",
            "value": " 198/199 [00:32&lt;00:00,  6.00it/s]",
            "_view_count": null,
            "_view_module_version": "1.5.0",
            "description_tooltip": null,
            "_model_module": "@jupyter-widgets/controls",
            "layout": "IPY_MODEL_e80099cd4e554ad88f045fa70470f2db"
          }
        },
        "2a791117fc42494bb4ecdf50b8e0c012": {
          "model_module": "@jupyter-widgets/controls",
          "model_name": "ProgressStyleModel",
          "state": {
            "_view_name": "StyleView",
            "_model_name": "ProgressStyleModel",
            "description_width": "initial",
            "_view_module": "@jupyter-widgets/base",
            "_model_module_version": "1.5.0",
            "_view_count": null,
            "_view_module_version": "1.2.0",
            "bar_color": null,
            "_model_module": "@jupyter-widgets/controls"
          }
        },
        "fd539b8598734fc79543604c1b1d6763": {
          "model_module": "@jupyter-widgets/base",
          "model_name": "LayoutModel",
          "state": {
            "_view_name": "LayoutView",
            "grid_template_rows": null,
            "right": null,
            "justify_content": null,
            "_view_module": "@jupyter-widgets/base",
            "overflow": null,
            "_model_module_version": "1.2.0",
            "_view_count": null,
            "flex_flow": null,
            "width": null,
            "min_width": null,
            "border": null,
            "align_items": null,
            "bottom": null,
            "_model_module": "@jupyter-widgets/base",
            "top": null,
            "grid_column": null,
            "overflow_y": null,
            "overflow_x": null,
            "grid_auto_flow": null,
            "grid_area": null,
            "grid_template_columns": null,
            "flex": null,
            "_model_name": "LayoutModel",
            "justify_items": null,
            "grid_row": null,
            "max_height": null,
            "align_content": null,
            "visibility": null,
            "align_self": null,
            "height": null,
            "min_height": null,
            "padding": null,
            "grid_auto_rows": null,
            "grid_gap": null,
            "max_width": null,
            "order": null,
            "_view_module_version": "1.2.0",
            "grid_template_areas": null,
            "object_position": null,
            "object_fit": null,
            "grid_auto_columns": null,
            "margin": null,
            "display": null,
            "left": null
          }
        },
        "e9ca94fe8f104d15880b6fa37b4ccf04": {
          "model_module": "@jupyter-widgets/controls",
          "model_name": "DescriptionStyleModel",
          "state": {
            "_view_name": "StyleView",
            "_model_name": "DescriptionStyleModel",
            "description_width": "",
            "_view_module": "@jupyter-widgets/base",
            "_model_module_version": "1.5.0",
            "_view_count": null,
            "_view_module_version": "1.2.0",
            "_model_module": "@jupyter-widgets/controls"
          }
        },
        "e80099cd4e554ad88f045fa70470f2db": {
          "model_module": "@jupyter-widgets/base",
          "model_name": "LayoutModel",
          "state": {
            "_view_name": "LayoutView",
            "grid_template_rows": null,
            "right": null,
            "justify_content": null,
            "_view_module": "@jupyter-widgets/base",
            "overflow": null,
            "_model_module_version": "1.2.0",
            "_view_count": null,
            "flex_flow": null,
            "width": null,
            "min_width": null,
            "border": null,
            "align_items": null,
            "bottom": null,
            "_model_module": "@jupyter-widgets/base",
            "top": null,
            "grid_column": null,
            "overflow_y": null,
            "overflow_x": null,
            "grid_auto_flow": null,
            "grid_area": null,
            "grid_template_columns": null,
            "flex": null,
            "_model_name": "LayoutModel",
            "justify_items": null,
            "grid_row": null,
            "max_height": null,
            "align_content": null,
            "visibility": null,
            "align_self": null,
            "height": null,
            "min_height": null,
            "padding": null,
            "grid_auto_rows": null,
            "grid_gap": null,
            "max_width": null,
            "order": null,
            "_view_module_version": "1.2.0",
            "grid_template_areas": null,
            "object_position": null,
            "object_fit": null,
            "grid_auto_columns": null,
            "margin": null,
            "display": null,
            "left": null
          }
        },
        "7189b061a6d64cf7a86f61ef90daec6b": {
          "model_module": "@jupyter-widgets/controls",
          "model_name": "HBoxModel",
          "state": {
            "_view_name": "HBoxView",
            "_dom_classes": [],
            "_model_name": "HBoxModel",
            "_view_module": "@jupyter-widgets/controls",
            "_model_module_version": "1.5.0",
            "_view_count": null,
            "_view_module_version": "1.5.0",
            "box_style": "",
            "layout": "IPY_MODEL_e06e8c303c79462cbfb6091f7a5c071a",
            "_model_module": "@jupyter-widgets/controls",
            "children": [
              "IPY_MODEL_ed15ba3c1700445db4da69992a317eda",
              "IPY_MODEL_87409d8785034b92ac7c3522835307a3"
            ]
          }
        },
        "e06e8c303c79462cbfb6091f7a5c071a": {
          "model_module": "@jupyter-widgets/base",
          "model_name": "LayoutModel",
          "state": {
            "_view_name": "LayoutView",
            "grid_template_rows": null,
            "right": null,
            "justify_content": null,
            "_view_module": "@jupyter-widgets/base",
            "overflow": null,
            "_model_module_version": "1.2.0",
            "_view_count": null,
            "flex_flow": null,
            "width": null,
            "min_width": null,
            "border": null,
            "align_items": null,
            "bottom": null,
            "_model_module": "@jupyter-widgets/base",
            "top": null,
            "grid_column": null,
            "overflow_y": null,
            "overflow_x": null,
            "grid_auto_flow": null,
            "grid_area": null,
            "grid_template_columns": null,
            "flex": null,
            "_model_name": "LayoutModel",
            "justify_items": null,
            "grid_row": null,
            "max_height": null,
            "align_content": null,
            "visibility": null,
            "align_self": null,
            "height": null,
            "min_height": null,
            "padding": null,
            "grid_auto_rows": null,
            "grid_gap": null,
            "max_width": null,
            "order": null,
            "_view_module_version": "1.2.0",
            "grid_template_areas": null,
            "object_position": null,
            "object_fit": null,
            "grid_auto_columns": null,
            "margin": null,
            "display": null,
            "left": null
          }
        },
        "ed15ba3c1700445db4da69992a317eda": {
          "model_module": "@jupyter-widgets/controls",
          "model_name": "FloatProgressModel",
          "state": {
            "_view_name": "ProgressView",
            "style": "IPY_MODEL_764c0a6f4e8645aebca44326f62f86f6",
            "_dom_classes": [],
            "description": "Epoch 1: 100%",
            "_model_name": "FloatProgressModel",
            "bar_style": "success",
            "max": 199,
            "_view_module": "@jupyter-widgets/controls",
            "_model_module_version": "1.5.0",
            "value": 199,
            "_view_count": null,
            "_view_module_version": "1.5.0",
            "orientation": "horizontal",
            "min": 0,
            "description_tooltip": null,
            "_model_module": "@jupyter-widgets/controls",
            "layout": "IPY_MODEL_c604690a01124269b0721ee334f4862c"
          }
        },
        "87409d8785034b92ac7c3522835307a3": {
          "model_module": "@jupyter-widgets/controls",
          "model_name": "HTMLModel",
          "state": {
            "_view_name": "HTMLView",
            "style": "IPY_MODEL_af7fb59811514990b432c6ada6814b5d",
            "_dom_classes": [],
            "description": "",
            "_model_name": "HTMLModel",
            "placeholder": "​",
            "_view_module": "@jupyter-widgets/controls",
            "_model_module_version": "1.5.0",
            "value": " 199/199 [00:33&lt;00:00,  5.96it/s]",
            "_view_count": null,
            "_view_module_version": "1.5.0",
            "description_tooltip": null,
            "_model_module": "@jupyter-widgets/controls",
            "layout": "IPY_MODEL_5306b7a3739d499c92370104ee1eb47f"
          }
        },
        "764c0a6f4e8645aebca44326f62f86f6": {
          "model_module": "@jupyter-widgets/controls",
          "model_name": "ProgressStyleModel",
          "state": {
            "_view_name": "StyleView",
            "_model_name": "ProgressStyleModel",
            "description_width": "initial",
            "_view_module": "@jupyter-widgets/base",
            "_model_module_version": "1.5.0",
            "_view_count": null,
            "_view_module_version": "1.2.0",
            "bar_color": null,
            "_model_module": "@jupyter-widgets/controls"
          }
        },
        "c604690a01124269b0721ee334f4862c": {
          "model_module": "@jupyter-widgets/base",
          "model_name": "LayoutModel",
          "state": {
            "_view_name": "LayoutView",
            "grid_template_rows": null,
            "right": null,
            "justify_content": null,
            "_view_module": "@jupyter-widgets/base",
            "overflow": null,
            "_model_module_version": "1.2.0",
            "_view_count": null,
            "flex_flow": null,
            "width": null,
            "min_width": null,
            "border": null,
            "align_items": null,
            "bottom": null,
            "_model_module": "@jupyter-widgets/base",
            "top": null,
            "grid_column": null,
            "overflow_y": null,
            "overflow_x": null,
            "grid_auto_flow": null,
            "grid_area": null,
            "grid_template_columns": null,
            "flex": null,
            "_model_name": "LayoutModel",
            "justify_items": null,
            "grid_row": null,
            "max_height": null,
            "align_content": null,
            "visibility": null,
            "align_self": null,
            "height": null,
            "min_height": null,
            "padding": null,
            "grid_auto_rows": null,
            "grid_gap": null,
            "max_width": null,
            "order": null,
            "_view_module_version": "1.2.0",
            "grid_template_areas": null,
            "object_position": null,
            "object_fit": null,
            "grid_auto_columns": null,
            "margin": null,
            "display": null,
            "left": null
          }
        },
        "af7fb59811514990b432c6ada6814b5d": {
          "model_module": "@jupyter-widgets/controls",
          "model_name": "DescriptionStyleModel",
          "state": {
            "_view_name": "StyleView",
            "_model_name": "DescriptionStyleModel",
            "description_width": "",
            "_view_module": "@jupyter-widgets/base",
            "_model_module_version": "1.5.0",
            "_view_count": null,
            "_view_module_version": "1.2.0",
            "_model_module": "@jupyter-widgets/controls"
          }
        },
        "5306b7a3739d499c92370104ee1eb47f": {
          "model_module": "@jupyter-widgets/base",
          "model_name": "LayoutModel",
          "state": {
            "_view_name": "LayoutView",
            "grid_template_rows": null,
            "right": null,
            "justify_content": null,
            "_view_module": "@jupyter-widgets/base",
            "overflow": null,
            "_model_module_version": "1.2.0",
            "_view_count": null,
            "flex_flow": null,
            "width": null,
            "min_width": null,
            "border": null,
            "align_items": null,
            "bottom": null,
            "_model_module": "@jupyter-widgets/base",
            "top": null,
            "grid_column": null,
            "overflow_y": null,
            "overflow_x": null,
            "grid_auto_flow": null,
            "grid_area": null,
            "grid_template_columns": null,
            "flex": null,
            "_model_name": "LayoutModel",
            "justify_items": null,
            "grid_row": null,
            "max_height": null,
            "align_content": null,
            "visibility": null,
            "align_self": null,
            "height": null,
            "min_height": null,
            "padding": null,
            "grid_auto_rows": null,
            "grid_gap": null,
            "max_width": null,
            "order": null,
            "_view_module_version": "1.2.0",
            "grid_template_areas": null,
            "object_position": null,
            "object_fit": null,
            "grid_auto_columns": null,
            "margin": null,
            "display": null,
            "left": null
          }
        },
        "fce0d0d9e3534fadb4ed3ac8422869f2": {
          "model_module": "@jupyter-widgets/controls",
          "model_name": "HBoxModel",
          "state": {
            "_view_name": "HBoxView",
            "_dom_classes": [],
            "_model_name": "HBoxModel",
            "_view_module": "@jupyter-widgets/controls",
            "_model_module_version": "1.5.0",
            "_view_count": null,
            "_view_module_version": "1.5.0",
            "box_style": "",
            "layout": "IPY_MODEL_ac2444a3f29b4bb4836a9a1daa8733ba",
            "_model_module": "@jupyter-widgets/controls",
            "children": [
              "IPY_MODEL_c4510f3bcc54434f90f9457988b8e684",
              "IPY_MODEL_b865a1ddc43b4e66848c81a4998e5b79"
            ]
          }
        },
        "ac2444a3f29b4bb4836a9a1daa8733ba": {
          "model_module": "@jupyter-widgets/base",
          "model_name": "LayoutModel",
          "state": {
            "_view_name": "LayoutView",
            "grid_template_rows": null,
            "right": null,
            "justify_content": null,
            "_view_module": "@jupyter-widgets/base",
            "overflow": null,
            "_model_module_version": "1.2.0",
            "_view_count": null,
            "flex_flow": null,
            "width": null,
            "min_width": null,
            "border": null,
            "align_items": null,
            "bottom": null,
            "_model_module": "@jupyter-widgets/base",
            "top": null,
            "grid_column": null,
            "overflow_y": null,
            "overflow_x": null,
            "grid_auto_flow": null,
            "grid_area": null,
            "grid_template_columns": null,
            "flex": null,
            "_model_name": "LayoutModel",
            "justify_items": null,
            "grid_row": null,
            "max_height": null,
            "align_content": null,
            "visibility": null,
            "align_self": null,
            "height": null,
            "min_height": null,
            "padding": null,
            "grid_auto_rows": null,
            "grid_gap": null,
            "max_width": null,
            "order": null,
            "_view_module_version": "1.2.0",
            "grid_template_areas": null,
            "object_position": null,
            "object_fit": null,
            "grid_auto_columns": null,
            "margin": null,
            "display": null,
            "left": null
          }
        },
        "c4510f3bcc54434f90f9457988b8e684": {
          "model_module": "@jupyter-widgets/controls",
          "model_name": "FloatProgressModel",
          "state": {
            "_view_name": "ProgressView",
            "style": "IPY_MODEL_571821bef0524d59b75cd842eaaa5af5",
            "_dom_classes": [],
            "description": "Epoch 2:  99%",
            "_model_name": "FloatProgressModel",
            "bar_style": "danger",
            "max": 199,
            "_view_module": "@jupyter-widgets/controls",
            "_model_module_version": "1.5.0",
            "value": 198,
            "_view_count": null,
            "_view_module_version": "1.5.0",
            "orientation": "horizontal",
            "min": 0,
            "description_tooltip": null,
            "_model_module": "@jupyter-widgets/controls",
            "layout": "IPY_MODEL_9dacf6f419054380b36024f43f19a7e3"
          }
        },
        "b865a1ddc43b4e66848c81a4998e5b79": {
          "model_module": "@jupyter-widgets/controls",
          "model_name": "HTMLModel",
          "state": {
            "_view_name": "HTMLView",
            "style": "IPY_MODEL_f5e4090aa1d24be0a9c21347368a1cee",
            "_dom_classes": [],
            "description": "",
            "_model_name": "HTMLModel",
            "placeholder": "​",
            "_view_module": "@jupyter-widgets/controls",
            "_model_module_version": "1.5.0",
            "value": " 198/199 [00:33&lt;00:00,  5.99it/s]",
            "_view_count": null,
            "_view_module_version": "1.5.0",
            "description_tooltip": null,
            "_model_module": "@jupyter-widgets/controls",
            "layout": "IPY_MODEL_7b445c050d034f8baa2f108b1f784d26"
          }
        },
        "571821bef0524d59b75cd842eaaa5af5": {
          "model_module": "@jupyter-widgets/controls",
          "model_name": "ProgressStyleModel",
          "state": {
            "_view_name": "StyleView",
            "_model_name": "ProgressStyleModel",
            "description_width": "initial",
            "_view_module": "@jupyter-widgets/base",
            "_model_module_version": "1.5.0",
            "_view_count": null,
            "_view_module_version": "1.2.0",
            "bar_color": null,
            "_model_module": "@jupyter-widgets/controls"
          }
        },
        "9dacf6f419054380b36024f43f19a7e3": {
          "model_module": "@jupyter-widgets/base",
          "model_name": "LayoutModel",
          "state": {
            "_view_name": "LayoutView",
            "grid_template_rows": null,
            "right": null,
            "justify_content": null,
            "_view_module": "@jupyter-widgets/base",
            "overflow": null,
            "_model_module_version": "1.2.0",
            "_view_count": null,
            "flex_flow": null,
            "width": null,
            "min_width": null,
            "border": null,
            "align_items": null,
            "bottom": null,
            "_model_module": "@jupyter-widgets/base",
            "top": null,
            "grid_column": null,
            "overflow_y": null,
            "overflow_x": null,
            "grid_auto_flow": null,
            "grid_area": null,
            "grid_template_columns": null,
            "flex": null,
            "_model_name": "LayoutModel",
            "justify_items": null,
            "grid_row": null,
            "max_height": null,
            "align_content": null,
            "visibility": null,
            "align_self": null,
            "height": null,
            "min_height": null,
            "padding": null,
            "grid_auto_rows": null,
            "grid_gap": null,
            "max_width": null,
            "order": null,
            "_view_module_version": "1.2.0",
            "grid_template_areas": null,
            "object_position": null,
            "object_fit": null,
            "grid_auto_columns": null,
            "margin": null,
            "display": null,
            "left": null
          }
        },
        "f5e4090aa1d24be0a9c21347368a1cee": {
          "model_module": "@jupyter-widgets/controls",
          "model_name": "DescriptionStyleModel",
          "state": {
            "_view_name": "StyleView",
            "_model_name": "DescriptionStyleModel",
            "description_width": "",
            "_view_module": "@jupyter-widgets/base",
            "_model_module_version": "1.5.0",
            "_view_count": null,
            "_view_module_version": "1.2.0",
            "_model_module": "@jupyter-widgets/controls"
          }
        },
        "7b445c050d034f8baa2f108b1f784d26": {
          "model_module": "@jupyter-widgets/base",
          "model_name": "LayoutModel",
          "state": {
            "_view_name": "LayoutView",
            "grid_template_rows": null,
            "right": null,
            "justify_content": null,
            "_view_module": "@jupyter-widgets/base",
            "overflow": null,
            "_model_module_version": "1.2.0",
            "_view_count": null,
            "flex_flow": null,
            "width": null,
            "min_width": null,
            "border": null,
            "align_items": null,
            "bottom": null,
            "_model_module": "@jupyter-widgets/base",
            "top": null,
            "grid_column": null,
            "overflow_y": null,
            "overflow_x": null,
            "grid_auto_flow": null,
            "grid_area": null,
            "grid_template_columns": null,
            "flex": null,
            "_model_name": "LayoutModel",
            "justify_items": null,
            "grid_row": null,
            "max_height": null,
            "align_content": null,
            "visibility": null,
            "align_self": null,
            "height": null,
            "min_height": null,
            "padding": null,
            "grid_auto_rows": null,
            "grid_gap": null,
            "max_width": null,
            "order": null,
            "_view_module_version": "1.2.0",
            "grid_template_areas": null,
            "object_position": null,
            "object_fit": null,
            "grid_auto_columns": null,
            "margin": null,
            "display": null,
            "left": null
          }
        },
        "bb9a990028a64ef3a31cfe6b7ca42baa": {
          "model_module": "@jupyter-widgets/controls",
          "model_name": "HBoxModel",
          "state": {
            "_view_name": "HBoxView",
            "_dom_classes": [],
            "_model_name": "HBoxModel",
            "_view_module": "@jupyter-widgets/controls",
            "_model_module_version": "1.5.0",
            "_view_count": null,
            "_view_module_version": "1.5.0",
            "box_style": "",
            "layout": "IPY_MODEL_2a3b1605ea8948e3bd6bceb76dbce7ef",
            "_model_module": "@jupyter-widgets/controls",
            "children": [
              "IPY_MODEL_d1fef2ecaa8f4f77bd12db9d3b456b24",
              "IPY_MODEL_a455a9c60b12410ab1744dfc4cc4ffd4"
            ]
          }
        },
        "2a3b1605ea8948e3bd6bceb76dbce7ef": {
          "model_module": "@jupyter-widgets/base",
          "model_name": "LayoutModel",
          "state": {
            "_view_name": "LayoutView",
            "grid_template_rows": null,
            "right": null,
            "justify_content": null,
            "_view_module": "@jupyter-widgets/base",
            "overflow": null,
            "_model_module_version": "1.2.0",
            "_view_count": null,
            "flex_flow": null,
            "width": null,
            "min_width": null,
            "border": null,
            "align_items": null,
            "bottom": null,
            "_model_module": "@jupyter-widgets/base",
            "top": null,
            "grid_column": null,
            "overflow_y": null,
            "overflow_x": null,
            "grid_auto_flow": null,
            "grid_area": null,
            "grid_template_columns": null,
            "flex": null,
            "_model_name": "LayoutModel",
            "justify_items": null,
            "grid_row": null,
            "max_height": null,
            "align_content": null,
            "visibility": null,
            "align_self": null,
            "height": null,
            "min_height": null,
            "padding": null,
            "grid_auto_rows": null,
            "grid_gap": null,
            "max_width": null,
            "order": null,
            "_view_module_version": "1.2.0",
            "grid_template_areas": null,
            "object_position": null,
            "object_fit": null,
            "grid_auto_columns": null,
            "margin": null,
            "display": null,
            "left": null
          }
        },
        "d1fef2ecaa8f4f77bd12db9d3b456b24": {
          "model_module": "@jupyter-widgets/controls",
          "model_name": "FloatProgressModel",
          "state": {
            "_view_name": "ProgressView",
            "style": "IPY_MODEL_b37901e5020642db85a2d8671776290f",
            "_dom_classes": [],
            "description": "Epoch 3: 100%",
            "_model_name": "FloatProgressModel",
            "bar_style": "success",
            "max": 199,
            "_view_module": "@jupyter-widgets/controls",
            "_model_module_version": "1.5.0",
            "value": 199,
            "_view_count": null,
            "_view_module_version": "1.5.0",
            "orientation": "horizontal",
            "min": 0,
            "description_tooltip": null,
            "_model_module": "@jupyter-widgets/controls",
            "layout": "IPY_MODEL_d8395d9e4f35496a9f159678327a8748"
          }
        },
        "a455a9c60b12410ab1744dfc4cc4ffd4": {
          "model_module": "@jupyter-widgets/controls",
          "model_name": "HTMLModel",
          "state": {
            "_view_name": "HTMLView",
            "style": "IPY_MODEL_9ae1bf687b514e49a73514867e88dc30",
            "_dom_classes": [],
            "description": "",
            "_model_name": "HTMLModel",
            "placeholder": "​",
            "_view_module": "@jupyter-widgets/controls",
            "_model_module_version": "1.5.0",
            "value": " 199/199 [00:33&lt;00:00,  5.92it/s]",
            "_view_count": null,
            "_view_module_version": "1.5.0",
            "description_tooltip": null,
            "_model_module": "@jupyter-widgets/controls",
            "layout": "IPY_MODEL_e724137ba0ac4720b75459dd1de4e624"
          }
        },
        "b37901e5020642db85a2d8671776290f": {
          "model_module": "@jupyter-widgets/controls",
          "model_name": "ProgressStyleModel",
          "state": {
            "_view_name": "StyleView",
            "_model_name": "ProgressStyleModel",
            "description_width": "initial",
            "_view_module": "@jupyter-widgets/base",
            "_model_module_version": "1.5.0",
            "_view_count": null,
            "_view_module_version": "1.2.0",
            "bar_color": null,
            "_model_module": "@jupyter-widgets/controls"
          }
        },
        "d8395d9e4f35496a9f159678327a8748": {
          "model_module": "@jupyter-widgets/base",
          "model_name": "LayoutModel",
          "state": {
            "_view_name": "LayoutView",
            "grid_template_rows": null,
            "right": null,
            "justify_content": null,
            "_view_module": "@jupyter-widgets/base",
            "overflow": null,
            "_model_module_version": "1.2.0",
            "_view_count": null,
            "flex_flow": null,
            "width": null,
            "min_width": null,
            "border": null,
            "align_items": null,
            "bottom": null,
            "_model_module": "@jupyter-widgets/base",
            "top": null,
            "grid_column": null,
            "overflow_y": null,
            "overflow_x": null,
            "grid_auto_flow": null,
            "grid_area": null,
            "grid_template_columns": null,
            "flex": null,
            "_model_name": "LayoutModel",
            "justify_items": null,
            "grid_row": null,
            "max_height": null,
            "align_content": null,
            "visibility": null,
            "align_self": null,
            "height": null,
            "min_height": null,
            "padding": null,
            "grid_auto_rows": null,
            "grid_gap": null,
            "max_width": null,
            "order": null,
            "_view_module_version": "1.2.0",
            "grid_template_areas": null,
            "object_position": null,
            "object_fit": null,
            "grid_auto_columns": null,
            "margin": null,
            "display": null,
            "left": null
          }
        },
        "9ae1bf687b514e49a73514867e88dc30": {
          "model_module": "@jupyter-widgets/controls",
          "model_name": "DescriptionStyleModel",
          "state": {
            "_view_name": "StyleView",
            "_model_name": "DescriptionStyleModel",
            "description_width": "",
            "_view_module": "@jupyter-widgets/base",
            "_model_module_version": "1.5.0",
            "_view_count": null,
            "_view_module_version": "1.2.0",
            "_model_module": "@jupyter-widgets/controls"
          }
        },
        "e724137ba0ac4720b75459dd1de4e624": {
          "model_module": "@jupyter-widgets/base",
          "model_name": "LayoutModel",
          "state": {
            "_view_name": "LayoutView",
            "grid_template_rows": null,
            "right": null,
            "justify_content": null,
            "_view_module": "@jupyter-widgets/base",
            "overflow": null,
            "_model_module_version": "1.2.0",
            "_view_count": null,
            "flex_flow": null,
            "width": null,
            "min_width": null,
            "border": null,
            "align_items": null,
            "bottom": null,
            "_model_module": "@jupyter-widgets/base",
            "top": null,
            "grid_column": null,
            "overflow_y": null,
            "overflow_x": null,
            "grid_auto_flow": null,
            "grid_area": null,
            "grid_template_columns": null,
            "flex": null,
            "_model_name": "LayoutModel",
            "justify_items": null,
            "grid_row": null,
            "max_height": null,
            "align_content": null,
            "visibility": null,
            "align_self": null,
            "height": null,
            "min_height": null,
            "padding": null,
            "grid_auto_rows": null,
            "grid_gap": null,
            "max_width": null,
            "order": null,
            "_view_module_version": "1.2.0",
            "grid_template_areas": null,
            "object_position": null,
            "object_fit": null,
            "grid_auto_columns": null,
            "margin": null,
            "display": null,
            "left": null
          }
        },
        "72bcbd280cc04cad9c41243a6431e94f": {
          "model_module": "@jupyter-widgets/controls",
          "model_name": "HBoxModel",
          "state": {
            "_view_name": "HBoxView",
            "_dom_classes": [],
            "_model_name": "HBoxModel",
            "_view_module": "@jupyter-widgets/controls",
            "_model_module_version": "1.5.0",
            "_view_count": null,
            "_view_module_version": "1.5.0",
            "box_style": "",
            "layout": "IPY_MODEL_f06adf34abbf4ef8ac914b276809a1c7",
            "_model_module": "@jupyter-widgets/controls",
            "children": [
              "IPY_MODEL_dd36ec5fe8a14392a890ccfe932970bc",
              "IPY_MODEL_14dcadf754404b6297f2c06255aaa785"
            ]
          }
        },
        "f06adf34abbf4ef8ac914b276809a1c7": {
          "model_module": "@jupyter-widgets/base",
          "model_name": "LayoutModel",
          "state": {
            "_view_name": "LayoutView",
            "grid_template_rows": null,
            "right": null,
            "justify_content": null,
            "_view_module": "@jupyter-widgets/base",
            "overflow": null,
            "_model_module_version": "1.2.0",
            "_view_count": null,
            "flex_flow": null,
            "width": null,
            "min_width": null,
            "border": null,
            "align_items": null,
            "bottom": null,
            "_model_module": "@jupyter-widgets/base",
            "top": null,
            "grid_column": null,
            "overflow_y": null,
            "overflow_x": null,
            "grid_auto_flow": null,
            "grid_area": null,
            "grid_template_columns": null,
            "flex": null,
            "_model_name": "LayoutModel",
            "justify_items": null,
            "grid_row": null,
            "max_height": null,
            "align_content": null,
            "visibility": null,
            "align_self": null,
            "height": null,
            "min_height": null,
            "padding": null,
            "grid_auto_rows": null,
            "grid_gap": null,
            "max_width": null,
            "order": null,
            "_view_module_version": "1.2.0",
            "grid_template_areas": null,
            "object_position": null,
            "object_fit": null,
            "grid_auto_columns": null,
            "margin": null,
            "display": null,
            "left": null
          }
        },
        "dd36ec5fe8a14392a890ccfe932970bc": {
          "model_module": "@jupyter-widgets/controls",
          "model_name": "FloatProgressModel",
          "state": {
            "_view_name": "ProgressView",
            "style": "IPY_MODEL_133b5bf898e246d7b9ef89c3586905cd",
            "_dom_classes": [],
            "description": "Epoch 4:  99%",
            "_model_name": "FloatProgressModel",
            "bar_style": "danger",
            "max": 199,
            "_view_module": "@jupyter-widgets/controls",
            "_model_module_version": "1.5.0",
            "value": 198,
            "_view_count": null,
            "_view_module_version": "1.5.0",
            "orientation": "horizontal",
            "min": 0,
            "description_tooltip": null,
            "_model_module": "@jupyter-widgets/controls",
            "layout": "IPY_MODEL_06614572ee9347f18ada76899be2f873"
          }
        },
        "14dcadf754404b6297f2c06255aaa785": {
          "model_module": "@jupyter-widgets/controls",
          "model_name": "HTMLModel",
          "state": {
            "_view_name": "HTMLView",
            "style": "IPY_MODEL_32ffa7707b2c485bae6d7b17c3481cb2",
            "_dom_classes": [],
            "description": "",
            "_model_name": "HTMLModel",
            "placeholder": "​",
            "_view_module": "@jupyter-widgets/controls",
            "_model_module_version": "1.5.0",
            "value": " 198/199 [00:33&lt;00:00,  5.98it/s]",
            "_view_count": null,
            "_view_module_version": "1.5.0",
            "description_tooltip": null,
            "_model_module": "@jupyter-widgets/controls",
            "layout": "IPY_MODEL_72286d988b9143f5b75b2b3c9c393622"
          }
        },
        "133b5bf898e246d7b9ef89c3586905cd": {
          "model_module": "@jupyter-widgets/controls",
          "model_name": "ProgressStyleModel",
          "state": {
            "_view_name": "StyleView",
            "_model_name": "ProgressStyleModel",
            "description_width": "initial",
            "_view_module": "@jupyter-widgets/base",
            "_model_module_version": "1.5.0",
            "_view_count": null,
            "_view_module_version": "1.2.0",
            "bar_color": null,
            "_model_module": "@jupyter-widgets/controls"
          }
        },
        "06614572ee9347f18ada76899be2f873": {
          "model_module": "@jupyter-widgets/base",
          "model_name": "LayoutModel",
          "state": {
            "_view_name": "LayoutView",
            "grid_template_rows": null,
            "right": null,
            "justify_content": null,
            "_view_module": "@jupyter-widgets/base",
            "overflow": null,
            "_model_module_version": "1.2.0",
            "_view_count": null,
            "flex_flow": null,
            "width": null,
            "min_width": null,
            "border": null,
            "align_items": null,
            "bottom": null,
            "_model_module": "@jupyter-widgets/base",
            "top": null,
            "grid_column": null,
            "overflow_y": null,
            "overflow_x": null,
            "grid_auto_flow": null,
            "grid_area": null,
            "grid_template_columns": null,
            "flex": null,
            "_model_name": "LayoutModel",
            "justify_items": null,
            "grid_row": null,
            "max_height": null,
            "align_content": null,
            "visibility": null,
            "align_self": null,
            "height": null,
            "min_height": null,
            "padding": null,
            "grid_auto_rows": null,
            "grid_gap": null,
            "max_width": null,
            "order": null,
            "_view_module_version": "1.2.0",
            "grid_template_areas": null,
            "object_position": null,
            "object_fit": null,
            "grid_auto_columns": null,
            "margin": null,
            "display": null,
            "left": null
          }
        },
        "32ffa7707b2c485bae6d7b17c3481cb2": {
          "model_module": "@jupyter-widgets/controls",
          "model_name": "DescriptionStyleModel",
          "state": {
            "_view_name": "StyleView",
            "_model_name": "DescriptionStyleModel",
            "description_width": "",
            "_view_module": "@jupyter-widgets/base",
            "_model_module_version": "1.5.0",
            "_view_count": null,
            "_view_module_version": "1.2.0",
            "_model_module": "@jupyter-widgets/controls"
          }
        },
        "72286d988b9143f5b75b2b3c9c393622": {
          "model_module": "@jupyter-widgets/base",
          "model_name": "LayoutModel",
          "state": {
            "_view_name": "LayoutView",
            "grid_template_rows": null,
            "right": null,
            "justify_content": null,
            "_view_module": "@jupyter-widgets/base",
            "overflow": null,
            "_model_module_version": "1.2.0",
            "_view_count": null,
            "flex_flow": null,
            "width": null,
            "min_width": null,
            "border": null,
            "align_items": null,
            "bottom": null,
            "_model_module": "@jupyter-widgets/base",
            "top": null,
            "grid_column": null,
            "overflow_y": null,
            "overflow_x": null,
            "grid_auto_flow": null,
            "grid_area": null,
            "grid_template_columns": null,
            "flex": null,
            "_model_name": "LayoutModel",
            "justify_items": null,
            "grid_row": null,
            "max_height": null,
            "align_content": null,
            "visibility": null,
            "align_self": null,
            "height": null,
            "min_height": null,
            "padding": null,
            "grid_auto_rows": null,
            "grid_gap": null,
            "max_width": null,
            "order": null,
            "_view_module_version": "1.2.0",
            "grid_template_areas": null,
            "object_position": null,
            "object_fit": null,
            "grid_auto_columns": null,
            "margin": null,
            "display": null,
            "left": null
          }
        },
        "d9079bbc9d8044dba20bb482aa11b9e4": {
          "model_module": "@jupyter-widgets/controls",
          "model_name": "HBoxModel",
          "state": {
            "_view_name": "HBoxView",
            "_dom_classes": [],
            "_model_name": "HBoxModel",
            "_view_module": "@jupyter-widgets/controls",
            "_model_module_version": "1.5.0",
            "_view_count": null,
            "_view_module_version": "1.5.0",
            "box_style": "",
            "layout": "IPY_MODEL_19415db817a24d878e964225242ba9f7",
            "_model_module": "@jupyter-widgets/controls",
            "children": [
              "IPY_MODEL_a9e97caa339b4ba58fba67371e180969",
              "IPY_MODEL_4824fb09371d43c0bd9a29a235277171"
            ]
          }
        },
        "19415db817a24d878e964225242ba9f7": {
          "model_module": "@jupyter-widgets/base",
          "model_name": "LayoutModel",
          "state": {
            "_view_name": "LayoutView",
            "grid_template_rows": null,
            "right": null,
            "justify_content": null,
            "_view_module": "@jupyter-widgets/base",
            "overflow": null,
            "_model_module_version": "1.2.0",
            "_view_count": null,
            "flex_flow": null,
            "width": null,
            "min_width": null,
            "border": null,
            "align_items": null,
            "bottom": null,
            "_model_module": "@jupyter-widgets/base",
            "top": null,
            "grid_column": null,
            "overflow_y": null,
            "overflow_x": null,
            "grid_auto_flow": null,
            "grid_area": null,
            "grid_template_columns": null,
            "flex": null,
            "_model_name": "LayoutModel",
            "justify_items": null,
            "grid_row": null,
            "max_height": null,
            "align_content": null,
            "visibility": null,
            "align_self": null,
            "height": null,
            "min_height": null,
            "padding": null,
            "grid_auto_rows": null,
            "grid_gap": null,
            "max_width": null,
            "order": null,
            "_view_module_version": "1.2.0",
            "grid_template_areas": null,
            "object_position": null,
            "object_fit": null,
            "grid_auto_columns": null,
            "margin": null,
            "display": null,
            "left": null
          }
        },
        "a9e97caa339b4ba58fba67371e180969": {
          "model_module": "@jupyter-widgets/controls",
          "model_name": "FloatProgressModel",
          "state": {
            "_view_name": "ProgressView",
            "style": "IPY_MODEL_7ef8c63f9378469483eeace7752cacf8",
            "_dom_classes": [],
            "description": "Epoch 5: 100%",
            "_model_name": "FloatProgressModel",
            "bar_style": "success",
            "max": 199,
            "_view_module": "@jupyter-widgets/controls",
            "_model_module_version": "1.5.0",
            "value": 199,
            "_view_count": null,
            "_view_module_version": "1.5.0",
            "orientation": "horizontal",
            "min": 0,
            "description_tooltip": null,
            "_model_module": "@jupyter-widgets/controls",
            "layout": "IPY_MODEL_4576745b0e8e4d648bfb0ada5728f33c"
          }
        },
        "4824fb09371d43c0bd9a29a235277171": {
          "model_module": "@jupyter-widgets/controls",
          "model_name": "HTMLModel",
          "state": {
            "_view_name": "HTMLView",
            "style": "IPY_MODEL_fefde306d5da4204b4230d9465bfb69b",
            "_dom_classes": [],
            "description": "",
            "_model_name": "HTMLModel",
            "placeholder": "​",
            "_view_module": "@jupyter-widgets/controls",
            "_model_module_version": "1.5.0",
            "value": " 199/199 [00:33&lt;00:00,  5.97it/s]",
            "_view_count": null,
            "_view_module_version": "1.5.0",
            "description_tooltip": null,
            "_model_module": "@jupyter-widgets/controls",
            "layout": "IPY_MODEL_1af46c5bc61348309e4011ba9f3b1e16"
          }
        },
        "7ef8c63f9378469483eeace7752cacf8": {
          "model_module": "@jupyter-widgets/controls",
          "model_name": "ProgressStyleModel",
          "state": {
            "_view_name": "StyleView",
            "_model_name": "ProgressStyleModel",
            "description_width": "initial",
            "_view_module": "@jupyter-widgets/base",
            "_model_module_version": "1.5.0",
            "_view_count": null,
            "_view_module_version": "1.2.0",
            "bar_color": null,
            "_model_module": "@jupyter-widgets/controls"
          }
        },
        "4576745b0e8e4d648bfb0ada5728f33c": {
          "model_module": "@jupyter-widgets/base",
          "model_name": "LayoutModel",
          "state": {
            "_view_name": "LayoutView",
            "grid_template_rows": null,
            "right": null,
            "justify_content": null,
            "_view_module": "@jupyter-widgets/base",
            "overflow": null,
            "_model_module_version": "1.2.0",
            "_view_count": null,
            "flex_flow": null,
            "width": null,
            "min_width": null,
            "border": null,
            "align_items": null,
            "bottom": null,
            "_model_module": "@jupyter-widgets/base",
            "top": null,
            "grid_column": null,
            "overflow_y": null,
            "overflow_x": null,
            "grid_auto_flow": null,
            "grid_area": null,
            "grid_template_columns": null,
            "flex": null,
            "_model_name": "LayoutModel",
            "justify_items": null,
            "grid_row": null,
            "max_height": null,
            "align_content": null,
            "visibility": null,
            "align_self": null,
            "height": null,
            "min_height": null,
            "padding": null,
            "grid_auto_rows": null,
            "grid_gap": null,
            "max_width": null,
            "order": null,
            "_view_module_version": "1.2.0",
            "grid_template_areas": null,
            "object_position": null,
            "object_fit": null,
            "grid_auto_columns": null,
            "margin": null,
            "display": null,
            "left": null
          }
        },
        "fefde306d5da4204b4230d9465bfb69b": {
          "model_module": "@jupyter-widgets/controls",
          "model_name": "DescriptionStyleModel",
          "state": {
            "_view_name": "StyleView",
            "_model_name": "DescriptionStyleModel",
            "description_width": "",
            "_view_module": "@jupyter-widgets/base",
            "_model_module_version": "1.5.0",
            "_view_count": null,
            "_view_module_version": "1.2.0",
            "_model_module": "@jupyter-widgets/controls"
          }
        },
        "1af46c5bc61348309e4011ba9f3b1e16": {
          "model_module": "@jupyter-widgets/base",
          "model_name": "LayoutModel",
          "state": {
            "_view_name": "LayoutView",
            "grid_template_rows": null,
            "right": null,
            "justify_content": null,
            "_view_module": "@jupyter-widgets/base",
            "overflow": null,
            "_model_module_version": "1.2.0",
            "_view_count": null,
            "flex_flow": null,
            "width": null,
            "min_width": null,
            "border": null,
            "align_items": null,
            "bottom": null,
            "_model_module": "@jupyter-widgets/base",
            "top": null,
            "grid_column": null,
            "overflow_y": null,
            "overflow_x": null,
            "grid_auto_flow": null,
            "grid_area": null,
            "grid_template_columns": null,
            "flex": null,
            "_model_name": "LayoutModel",
            "justify_items": null,
            "grid_row": null,
            "max_height": null,
            "align_content": null,
            "visibility": null,
            "align_self": null,
            "height": null,
            "min_height": null,
            "padding": null,
            "grid_auto_rows": null,
            "grid_gap": null,
            "max_width": null,
            "order": null,
            "_view_module_version": "1.2.0",
            "grid_template_areas": null,
            "object_position": null,
            "object_fit": null,
            "grid_auto_columns": null,
            "margin": null,
            "display": null,
            "left": null
          }
        },
        "2bb74a7095454afaaa5b2ccc94320485": {
          "model_module": "@jupyter-widgets/controls",
          "model_name": "HBoxModel",
          "state": {
            "_view_name": "HBoxView",
            "_dom_classes": [],
            "_model_name": "HBoxModel",
            "_view_module": "@jupyter-widgets/controls",
            "_model_module_version": "1.5.0",
            "_view_count": null,
            "_view_module_version": "1.5.0",
            "box_style": "",
            "layout": "IPY_MODEL_72fa2bb998964d51a396552b21cdc437",
            "_model_module": "@jupyter-widgets/controls",
            "children": [
              "IPY_MODEL_7f034077730a4646956c28fbb3af38d1",
              "IPY_MODEL_4b0f12fe802c4cbf903895d0a5ee880f"
            ]
          }
        },
        "72fa2bb998964d51a396552b21cdc437": {
          "model_module": "@jupyter-widgets/base",
          "model_name": "LayoutModel",
          "state": {
            "_view_name": "LayoutView",
            "grid_template_rows": null,
            "right": null,
            "justify_content": null,
            "_view_module": "@jupyter-widgets/base",
            "overflow": null,
            "_model_module_version": "1.2.0",
            "_view_count": null,
            "flex_flow": null,
            "width": null,
            "min_width": null,
            "border": null,
            "align_items": null,
            "bottom": null,
            "_model_module": "@jupyter-widgets/base",
            "top": null,
            "grid_column": null,
            "overflow_y": null,
            "overflow_x": null,
            "grid_auto_flow": null,
            "grid_area": null,
            "grid_template_columns": null,
            "flex": null,
            "_model_name": "LayoutModel",
            "justify_items": null,
            "grid_row": null,
            "max_height": null,
            "align_content": null,
            "visibility": null,
            "align_self": null,
            "height": null,
            "min_height": null,
            "padding": null,
            "grid_auto_rows": null,
            "grid_gap": null,
            "max_width": null,
            "order": null,
            "_view_module_version": "1.2.0",
            "grid_template_areas": null,
            "object_position": null,
            "object_fit": null,
            "grid_auto_columns": null,
            "margin": null,
            "display": null,
            "left": null
          }
        },
        "7f034077730a4646956c28fbb3af38d1": {
          "model_module": "@jupyter-widgets/controls",
          "model_name": "FloatProgressModel",
          "state": {
            "_view_name": "ProgressView",
            "style": "IPY_MODEL_90f769263a9d4333b8c0f7e26a96b13e",
            "_dom_classes": [],
            "description": "Epoch 6: 100%",
            "_model_name": "FloatProgressModel",
            "bar_style": "success",
            "max": 199,
            "_view_module": "@jupyter-widgets/controls",
            "_model_module_version": "1.5.0",
            "value": 199,
            "_view_count": null,
            "_view_module_version": "1.5.0",
            "orientation": "horizontal",
            "min": 0,
            "description_tooltip": null,
            "_model_module": "@jupyter-widgets/controls",
            "layout": "IPY_MODEL_3b1d99f47f8f41ec8078e36ae8bed58e"
          }
        },
        "4b0f12fe802c4cbf903895d0a5ee880f": {
          "model_module": "@jupyter-widgets/controls",
          "model_name": "HTMLModel",
          "state": {
            "_view_name": "HTMLView",
            "style": "IPY_MODEL_3c14e5e41be0467d94cc903d52947909",
            "_dom_classes": [],
            "description": "",
            "_model_name": "HTMLModel",
            "placeholder": "​",
            "_view_module": "@jupyter-widgets/controls",
            "_model_module_version": "1.5.0",
            "value": " 199/199 [00:33&lt;00:00,  5.94it/s]",
            "_view_count": null,
            "_view_module_version": "1.5.0",
            "description_tooltip": null,
            "_model_module": "@jupyter-widgets/controls",
            "layout": "IPY_MODEL_657b1a7b1fc34bb092b67e016443649e"
          }
        },
        "90f769263a9d4333b8c0f7e26a96b13e": {
          "model_module": "@jupyter-widgets/controls",
          "model_name": "ProgressStyleModel",
          "state": {
            "_view_name": "StyleView",
            "_model_name": "ProgressStyleModel",
            "description_width": "initial",
            "_view_module": "@jupyter-widgets/base",
            "_model_module_version": "1.5.0",
            "_view_count": null,
            "_view_module_version": "1.2.0",
            "bar_color": null,
            "_model_module": "@jupyter-widgets/controls"
          }
        },
        "3b1d99f47f8f41ec8078e36ae8bed58e": {
          "model_module": "@jupyter-widgets/base",
          "model_name": "LayoutModel",
          "state": {
            "_view_name": "LayoutView",
            "grid_template_rows": null,
            "right": null,
            "justify_content": null,
            "_view_module": "@jupyter-widgets/base",
            "overflow": null,
            "_model_module_version": "1.2.0",
            "_view_count": null,
            "flex_flow": null,
            "width": null,
            "min_width": null,
            "border": null,
            "align_items": null,
            "bottom": null,
            "_model_module": "@jupyter-widgets/base",
            "top": null,
            "grid_column": null,
            "overflow_y": null,
            "overflow_x": null,
            "grid_auto_flow": null,
            "grid_area": null,
            "grid_template_columns": null,
            "flex": null,
            "_model_name": "LayoutModel",
            "justify_items": null,
            "grid_row": null,
            "max_height": null,
            "align_content": null,
            "visibility": null,
            "align_self": null,
            "height": null,
            "min_height": null,
            "padding": null,
            "grid_auto_rows": null,
            "grid_gap": null,
            "max_width": null,
            "order": null,
            "_view_module_version": "1.2.0",
            "grid_template_areas": null,
            "object_position": null,
            "object_fit": null,
            "grid_auto_columns": null,
            "margin": null,
            "display": null,
            "left": null
          }
        },
        "3c14e5e41be0467d94cc903d52947909": {
          "model_module": "@jupyter-widgets/controls",
          "model_name": "DescriptionStyleModel",
          "state": {
            "_view_name": "StyleView",
            "_model_name": "DescriptionStyleModel",
            "description_width": "",
            "_view_module": "@jupyter-widgets/base",
            "_model_module_version": "1.5.0",
            "_view_count": null,
            "_view_module_version": "1.2.0",
            "_model_module": "@jupyter-widgets/controls"
          }
        },
        "657b1a7b1fc34bb092b67e016443649e": {
          "model_module": "@jupyter-widgets/base",
          "model_name": "LayoutModel",
          "state": {
            "_view_name": "LayoutView",
            "grid_template_rows": null,
            "right": null,
            "justify_content": null,
            "_view_module": "@jupyter-widgets/base",
            "overflow": null,
            "_model_module_version": "1.2.0",
            "_view_count": null,
            "flex_flow": null,
            "width": null,
            "min_width": null,
            "border": null,
            "align_items": null,
            "bottom": null,
            "_model_module": "@jupyter-widgets/base",
            "top": null,
            "grid_column": null,
            "overflow_y": null,
            "overflow_x": null,
            "grid_auto_flow": null,
            "grid_area": null,
            "grid_template_columns": null,
            "flex": null,
            "_model_name": "LayoutModel",
            "justify_items": null,
            "grid_row": null,
            "max_height": null,
            "align_content": null,
            "visibility": null,
            "align_self": null,
            "height": null,
            "min_height": null,
            "padding": null,
            "grid_auto_rows": null,
            "grid_gap": null,
            "max_width": null,
            "order": null,
            "_view_module_version": "1.2.0",
            "grid_template_areas": null,
            "object_position": null,
            "object_fit": null,
            "grid_auto_columns": null,
            "margin": null,
            "display": null,
            "left": null
          }
        }
      }
    },
    "accelerator": "GPU"
  },
  "cells": [
    {
      "cell_type": "markdown",
      "metadata": {
        "id": "view-in-github",
        "colab_type": "text"
      },
      "source": [
        "<a href=\"https://colab.research.google.com/github/prithvijaunjale/Engage-AI-Recruiter/blob/master/engage_audio_model.ipynb\" target=\"_parent\"><img src=\"https://colab.research.google.com/assets/colab-badge.svg\" alt=\"Open In Colab\"/></a>"
      ]
    },
    {
      "cell_type": "markdown",
      "metadata": {
        "id": "mIwge5xJhrfj",
        "colab_type": "text"
      },
      "source": [
        "# Imports"
      ]
    },
    {
      "cell_type": "code",
      "metadata": {
        "id": "Pz0bVYJq5QyE",
        "colab_type": "code",
        "colab": {
          "base_uri": "https://localhost:8080/",
          "height": 175
        },
        "outputId": "e08dfcda-d173-450d-d59f-67f2d44effff"
      },
      "source": [
        "! pip install torchaudio"
      ],
      "execution_count": null,
      "outputs": [
        {
          "output_type": "stream",
          "text": [
            "Collecting torchaudio\n",
            "\u001b[?25l  Downloading https://files.pythonhosted.org/packages/e9/0a/40e53c686c2af65b2a4e818d11d9b76fa79178440caf99f3ceb2a32c3b04/torchaudio-0.5.1-cp36-cp36m-manylinux1_x86_64.whl (3.2MB)\n",
            "\u001b[K     |████████████████████████████████| 3.2MB 2.6MB/s \n",
            "\u001b[?25hRequirement already satisfied: torch==1.5.1 in /usr/local/lib/python3.6/dist-packages (from torchaudio) (1.5.1+cu101)\n",
            "Requirement already satisfied: numpy in /usr/local/lib/python3.6/dist-packages (from torch==1.5.1->torchaudio) (1.18.5)\n",
            "Requirement already satisfied: future in /usr/local/lib/python3.6/dist-packages (from torch==1.5.1->torchaudio) (0.16.0)\n",
            "Installing collected packages: torchaudio\n",
            "Successfully installed torchaudio-0.5.1\n"
          ],
          "name": "stdout"
        }
      ]
    },
    {
      "cell_type": "code",
      "metadata": {
        "id": "l6iOcfhZnpJk",
        "colab_type": "code",
        "colab": {}
      },
      "source": [
        "import pickle\n",
        "import os\n",
        "import io\n",
        "import glob\n",
        "import numpy as np\n",
        "import pandas as pd\n",
        "from PIL import Image, ImageFile\n",
        "ImageFile.LOAD_TRUNCATED_IMAGES = True\n",
        "import matplotlib.pyplot as plt\n",
        "from tqdm.notebook import tqdm\n",
        "from collections import OrderedDict\n",
        "\n",
        "import shutil\n",
        "from zipfile import ZipFile\n",
        "\n",
        "from sklearn.metrics import mean_absolute_error\n",
        "\n",
        "import torch\n",
        "from torchvision import datasets, models, transforms\n",
        "from torch import nn\n",
        "import torch.nn.functional as F\n",
        "from torch.utils.data import TensorDataset, DataLoader, SubsetRandomSampler\n",
        "from torch.utils.data import Dataset\n",
        "from torch import optim\n",
        "\n",
        "import librosa\n",
        "from librosa.display import specshow\n",
        "import torchaudio\n",
        "\n",
        "project_dir = 'drive/My Drive/projects/engage_ai_recruiter/'\n",
        "models_dir = 'drive/My Drive/projects/engage_ai_recruiter/models/audio/'\n",
        "data_dir = 'drive/My Drive/projects/engage_ai_recruiter/data/'"
      ],
      "execution_count": null,
      "outputs": []
    },
    {
      "cell_type": "code",
      "metadata": {
        "id": "eQ0f5oDGc3kx",
        "colab_type": "code",
        "colab": {}
      },
      "source": [
        "! cp drive/My\\ Drive/projects/engage_ai_recruiter/data/all_wav.zip all_wav.zip"
      ],
      "execution_count": null,
      "outputs": []
    },
    {
      "cell_type": "code",
      "metadata": {
        "id": "nFsFCa2ndafd",
        "colab_type": "code",
        "colab": {}
      },
      "source": [
        "shutil.unpack_archive('all_wav.zip', '', 'zip')"
      ],
      "execution_count": null,
      "outputs": []
    },
    {
      "cell_type": "code",
      "metadata": {
        "id": "1eCXak2POJpb",
        "colab_type": "code",
        "colab": {
          "base_uri": "https://localhost:8080/",
          "height": 35
        },
        "outputId": "c4f43bcc-7d7f-49be-81f9-83361dd7fee4"
      },
      "source": [
        "all_wav = os.listdir('all_wav')\n",
        "len(all_wav)"
      ],
      "execution_count": null,
      "outputs": [
        {
          "output_type": "execute_result",
          "data": {
            "text/plain": [
              "8000"
            ]
          },
          "metadata": {
            "tags": []
          },
          "execution_count": 6
        }
      ]
    },
    {
      "cell_type": "markdown",
      "metadata": {
        "id": "6VIJhfT8hpW_",
        "colab_type": "text"
      },
      "source": [
        "# Data Preprocessing"
      ]
    },
    {
      "cell_type": "markdown",
      "metadata": {
        "id": "aomZH9T97f4p",
        "colab_type": "text"
      },
      "source": [
        "## Dataset Creation - WAV & Annotation"
      ]
    },
    {
      "cell_type": "code",
      "metadata": {
        "id": "hdAUpjUQYjO4",
        "colab_type": "code",
        "colab": {}
      },
      "source": [
        "pwd = b'zeAzLQN7DnSIexQukc9W'\n",
        "with ZipFile(data_dir + 'Chalearn Data/val-annotation-e.zip') as zf:\n",
        "    zf.extractall(pwd=pwd)\n",
        "\n",
        "with ZipFile(data_dir + 'Chalearn Data/train-annotation.zip') as zf:\n",
        "    zf.extractall()"
      ],
      "execution_count": null,
      "outputs": []
    },
    {
      "cell_type": "code",
      "metadata": {
        "id": "7RLQ4TGidbwZ",
        "colab_type": "code",
        "colab": {}
      },
      "source": [
        "with open('annotation_training.pkl', 'rb') as p:\n",
        "    annotation_training = pickle.load(p, encoding='latin1')\n",
        "\n",
        "with open('annotation_validation.pkl', 'rb') as p:\n",
        "    annotation_validation = pickle.load(p, encoding='latin1')"
      ],
      "execution_count": null,
      "outputs": []
    },
    {
      "cell_type": "code",
      "metadata": {
        "id": "kSKrAjkmY8mc",
        "colab_type": "code",
        "colab": {
          "base_uri": "https://localhost:8080/",
          "height": 35
        },
        "outputId": "253fb445-ef14-462b-9fce-a853de60cf07"
      },
      "source": [
        "annotations = annotation_training.copy()\n",
        "\n",
        "for trait in annotation_validation.keys():\n",
        "    for item in annotation_validation[trait]:\n",
        "        annotations[trait][item] = annotation_validation[trait][item]\n",
        "\n",
        "# example length\n",
        "len(annotations['conscientiousness'])"
      ],
      "execution_count": null,
      "outputs": [
        {
          "output_type": "execute_result",
          "data": {
            "text/plain": [
              "8000"
            ]
          },
          "metadata": {
            "tags": []
          },
          "execution_count": 8
        }
      ]
    },
    {
      "cell_type": "code",
      "metadata": {
        "id": "JdnpfI2JdpIQ",
        "colab_type": "code",
        "colab": {
          "base_uri": "https://localhost:8080/",
          "height": 235
        },
        "outputId": "388f4b8a-76aa-4028-bdcf-10d818c7433f"
      },
      "source": [
        "# creating Specgram_InterviewScore.csv\n",
        "wav_ids = []\n",
        "o_score = []\n",
        "c_score = []\n",
        "e_score = []\n",
        "a_score = []\n",
        "n_score = []\n",
        "i_score = []\n",
        "for vid_file in annotations['openness']:\n",
        "    wav = vid_file.replace('mp4', 'wav')\n",
        "    if wav in all_wav:\n",
        "        wav_ids.append(wav)\n",
        "        o_score.append(annotations['openness'][vid_file])\n",
        "        c_score.append(annotations['conscientiousness'][vid_file])\n",
        "        e_score.append(annotations['extraversion'][vid_file])\n",
        "        a_score.append(annotations['agreeableness'][vid_file])\n",
        "        n_score.append(annotations['neuroticism'][vid_file])\n",
        "        i_score.append(annotations['interview'][vid_file])\n",
        "\n",
        "df = pd.DataFrame()\n",
        "df['wav_id'] = wav_ids\n",
        "df['openness'] = o_score\n",
        "df['conscientiousness'] = c_score\n",
        "df['extraversion'] = e_score\n",
        "df['agreeableness'] = a_score\n",
        "df['neuroticism'] = n_score\n",
        "df['interview'] = i_score\n",
        "\n",
        "print(len(df))\n",
        "df.head()"
      ],
      "execution_count": null,
      "outputs": [
        {
          "output_type": "stream",
          "text": [
            "8000\n"
          ],
          "name": "stdout"
        },
        {
          "output_type": "execute_result",
          "data": {
            "text/html": [
              "<div>\n",
              "<style scoped>\n",
              "    .dataframe tbody tr th:only-of-type {\n",
              "        vertical-align: middle;\n",
              "    }\n",
              "\n",
              "    .dataframe tbody tr th {\n",
              "        vertical-align: top;\n",
              "    }\n",
              "\n",
              "    .dataframe thead th {\n",
              "        text-align: right;\n",
              "    }\n",
              "</style>\n",
              "<table border=\"1\" class=\"dataframe\">\n",
              "  <thead>\n",
              "    <tr style=\"text-align: right;\">\n",
              "      <th></th>\n",
              "      <th>wav_id</th>\n",
              "      <th>openness</th>\n",
              "      <th>conscientiousness</th>\n",
              "      <th>extraversion</th>\n",
              "      <th>agreeableness</th>\n",
              "      <th>neuroticism</th>\n",
              "      <th>interview</th>\n",
              "    </tr>\n",
              "  </thead>\n",
              "  <tbody>\n",
              "    <tr>\n",
              "      <th>0</th>\n",
              "      <td>J4GQm9j0JZ0.003.wav</td>\n",
              "      <td>0.488889</td>\n",
              "      <td>0.601942</td>\n",
              "      <td>0.523364</td>\n",
              "      <td>0.626374</td>\n",
              "      <td>0.552083</td>\n",
              "      <td>0.504673</td>\n",
              "    </tr>\n",
              "    <tr>\n",
              "      <th>1</th>\n",
              "      <td>zEyRyTnIw5I.005.wav</td>\n",
              "      <td>0.366667</td>\n",
              "      <td>0.582524</td>\n",
              "      <td>0.345794</td>\n",
              "      <td>0.472527</td>\n",
              "      <td>0.375000</td>\n",
              "      <td>0.457944</td>\n",
              "    </tr>\n",
              "    <tr>\n",
              "      <th>2</th>\n",
              "      <td>nskJh7v6v1U.004.wav</td>\n",
              "      <td>0.511111</td>\n",
              "      <td>0.485437</td>\n",
              "      <td>0.252336</td>\n",
              "      <td>0.406593</td>\n",
              "      <td>0.291667</td>\n",
              "      <td>0.373832</td>\n",
              "    </tr>\n",
              "    <tr>\n",
              "      <th>3</th>\n",
              "      <td>6wHQsN5g2RM.000.wav</td>\n",
              "      <td>0.377778</td>\n",
              "      <td>0.398058</td>\n",
              "      <td>0.457944</td>\n",
              "      <td>0.505495</td>\n",
              "      <td>0.489583</td>\n",
              "      <td>0.457944</td>\n",
              "    </tr>\n",
              "    <tr>\n",
              "      <th>4</th>\n",
              "      <td>dQOeQYWIgm8.000.wav</td>\n",
              "      <td>0.622222</td>\n",
              "      <td>0.621359</td>\n",
              "      <td>0.607477</td>\n",
              "      <td>0.406593</td>\n",
              "      <td>0.489583</td>\n",
              "      <td>0.570093</td>\n",
              "    </tr>\n",
              "  </tbody>\n",
              "</table>\n",
              "</div>"
            ],
            "text/plain": [
              "                wav_id  openness  ...  neuroticism  interview\n",
              "0  J4GQm9j0JZ0.003.wav  0.488889  ...     0.552083   0.504673\n",
              "1  zEyRyTnIw5I.005.wav  0.366667  ...     0.375000   0.457944\n",
              "2  nskJh7v6v1U.004.wav  0.511111  ...     0.291667   0.373832\n",
              "3  6wHQsN5g2RM.000.wav  0.377778  ...     0.489583   0.457944\n",
              "4  dQOeQYWIgm8.000.wav  0.622222  ...     0.489583   0.570093\n",
              "\n",
              "[5 rows x 7 columns]"
            ]
          },
          "metadata": {
            "tags": []
          },
          "execution_count": 10
        }
      ]
    },
    {
      "cell_type": "code",
      "metadata": {
        "id": "qNgPqcFPf7Ca",
        "colab_type": "code",
        "colab": {}
      },
      "source": [
        "df.to_csv(data_dir + 'WAV_OCEANI.csv', index=False)"
      ],
      "execution_count": null,
      "outputs": []
    },
    {
      "cell_type": "markdown",
      "metadata": {
        "id": "DSG1Wvg7nhqF",
        "colab_type": "text"
      },
      "source": [
        "## DALI (NVIDIA Data Loading Library)"
      ]
    },
    {
      "cell_type": "code",
      "metadata": {
        "id": "hhRCgWpenlP2",
        "colab_type": "code",
        "colab": {
          "base_uri": "https://localhost:8080/",
          "height": 86
        },
        "outputId": "99f6c70b-a2cb-4e95-85f2-c1a54d6f2d5a"
      },
      "source": [
        "! nvcc --version"
      ],
      "execution_count": null,
      "outputs": [
        {
          "output_type": "stream",
          "text": [
            "nvcc: NVIDIA (R) Cuda compiler driver\n",
            "Copyright (c) 2005-2019 NVIDIA Corporation\n",
            "Built on Sun_Jul_28_19:07:16_PDT_2019\n",
            "Cuda compilation tools, release 10.1, V10.1.243\n"
          ],
          "name": "stdout"
        }
      ]
    },
    {
      "cell_type": "code",
      "metadata": {
        "id": "6hDH9ryUnqAF",
        "colab_type": "code",
        "colab": {
          "base_uri": "https://localhost:8080/",
          "height": 158
        },
        "outputId": "dd59c271-c8ee-4a84-dc03-1afaf2bfbe8c"
      },
      "source": [
        "! pip3 install --extra-index-url https://developer.download.nvidia.com/compute/redist nvidia-dali-cuda100"
      ],
      "execution_count": null,
      "outputs": [
        {
          "output_type": "stream",
          "text": [
            "Looking in indexes: https://pypi.org/simple, https://developer.download.nvidia.com/compute/redist\n",
            "Collecting nvidia-dali-cuda100\n",
            "\u001b[?25l  Downloading https://developer.download.nvidia.com/compute/redist/nvidia-dali-cuda100/nvidia_dali_cuda100-0.23.0-1396139-cp36-cp36m-manylinux1_x86_64.whl (264.6MB)\n",
            "\u001b[K     |████████████████████████████████| 264.6MB 60kB/s \n",
            "\u001b[?25hRequirement already satisfied: future in /usr/local/lib/python3.6/dist-packages (from nvidia-dali-cuda100) (0.16.0)\n",
            "Installing collected packages: nvidia-dali-cuda100\n",
            "Successfully installed nvidia-dali-cuda100-0.23.0\n"
          ],
          "name": "stdout"
        }
      ]
    },
    {
      "cell_type": "code",
      "metadata": {
        "id": "jifc5Po3nqJN",
        "colab_type": "code",
        "colab": {}
      },
      "source": [
        "import nvidia.dali.ops as ops\n",
        "import nvidia.dali.types as types\n",
        "from nvidia.dali.pipeline import Pipeline"
      ],
      "execution_count": null,
      "outputs": []
    },
    {
      "cell_type": "code",
      "metadata": {
        "id": "3a2L57nB7JkP",
        "colab_type": "code",
        "colab": {}
      },
      "source": [
        "def get_melspecgram(y):\n",
        "    mel_specgram = torchaudio.transforms.MelSpectrogram(n_fft=1024,\n",
        "                                                        hop_length=256,\n",
        "                                                        n_mels=40,\n",
        "                                                        sample_rate=16000)(y_mono)\n",
        "    mel_specgram = librosa.power_to_db(mel_specgram, ref=np.max)    \n",
        "\n",
        "    specshow(mel_specgram, fmax=8000)\n",
        "    buf = io.BytesIO()\n",
        "    plt.savefig(buf, format='png', bbox_inches='tight')\n",
        "    buf.seek(0)\n",
        "    return buf"
      ],
      "execution_count": null,
      "outputs": []
    },
    {
      "cell_type": "code",
      "metadata": {
        "id": "lAxXgekfnqME",
        "colab_type": "code",
        "colab": {}
      },
      "source": [
        "class ExternalInputIterator(object):\n",
        "    def __init__(self, batch_size, csv_file, root_dir, indices):\n",
        "        self.root_dir = root_dir\n",
        "        self.batch_size = batch_size\n",
        "        self.wav_df = pd.read_csv(csv_file)\n",
        "        self.wav_df = self.wav_df.iloc[indices, :]\n",
        "\n",
        "    def __iter__(self):\n",
        "        self.i = 0\n",
        "        self.n = len(self.wav_df)\n",
        "        return self\n",
        "\n",
        "    def __next__(self):\n",
        "        b_wavs = []\n",
        "        b_labels = []\n",
        "        for _ in range(self.batch_size):\n",
        "            wav = os.path.join(self.root_dir, self.wav_df.iloc[self.i, 0])\n",
        "            y, sr = torchaudio.load(wav)\n",
        "            y = y.squeeze(0).numpy()\n",
        "            y = y[:(16000 * 15)]\n",
        "            b_wavs.append(y)\n",
        "\n",
        "            labels = self.wav_df.iloc[self.i, 1:].values.astype(np.float32)\n",
        "            b_labels.append(labels)\n",
        "\n",
        "            self.i = (self.i + 1) % self.n\n",
        "        return (b_wavs, b_labels)\n",
        "\n",
        "    @property\n",
        "    def size(self,):\n",
        "        return len(self.wav_df)\n",
        "\n",
        "    next = __next__"
      ],
      "execution_count": null,
      "outputs": []
    },
    {
      "cell_type": "code",
      "metadata": {
        "id": "l8wnzuAUiZ2M",
        "colab_type": "code",
        "colab": {}
      },
      "source": [
        "class MelSpectrogramPipeline(Pipeline):\n",
        "    def __init__(self, \n",
        "                 external_data,\n",
        "                 device, \n",
        "                 batch_size, \n",
        "                 specgram_dict, \n",
        "                 num_threads=1, \n",
        "                 device_id=0):\n",
        "        super(MelSpectrogramPipeline, self).__init__(batch_size, num_threads, device_id)\n",
        "\n",
        "        self.device = device\n",
        "        self.data_iterator = iter(external_data)\n",
        "        self.specgram_dict = specgram_dict\n",
        "        \n",
        "        # input\n",
        "        self.input_wav = ops.ExternalSource()\n",
        "        self.input_label = ops.ExternalSource()\n",
        "\n",
        "        # audio\n",
        "        self.spectrogram = ops.Spectrogram(device=self.device,\n",
        "                                           nfft=self.specgram_dict['n_fft'],\n",
        "                                           window_length=self.specgram_dict['n_fft'],\n",
        "                                           window_step=self.specgram_dict['hop_length'])\n",
        "        self.mel_fbank = ops.MelFilterBank(device=self.device,\n",
        "                                           sample_rate=self.specgram_dict['sr'],\n",
        "                                           nfilter = self.specgram_dict['n_mels'],\n",
        "                                           freq_high = self.specgram_dict['f_max'])\n",
        "        self.dB = ops.ToDecibels(device=self.device,\n",
        "                                 multiplier = 10.0,\n",
        "                                 cutoff_db = -80)\n",
        "        \n",
        "        # image\n",
        "        self.decode = ops.ImageDecoder(device=self.device)\n",
        "        self.res = ops.Resize(device=self.device, resize_x=224, resize_y=224)\n",
        "        self.norm = ops.CropMirrorNormalize(device = self.device,\n",
        "                                            mean=[0.485, 0.456, 0.406], \n",
        "                                            std=[0.229, 0.224, 0.225])\n",
        "        \n",
        "    def define_graph(self):\n",
        "        # audio transforms\n",
        "        self.y = self.input_wav()\n",
        "        self.labels = self.input_label()\n",
        "        self.y = self.y.gpu() if self.device == 'gpu' else self.y\n",
        "        specgram = self.spectrogram(self.y)\n",
        "        mel_specgram = self.mel_fbank(specgram)\n",
        "        mel_specgram_db = self.dB(mel_specgram)\n",
        "        return (mel_specgram_db, self.labels)\n",
        "\n",
        "    def iter_setup(self):\n",
        "        y, labels = self.data_iterator.next()\n",
        "        self.feed_input(self.y, y)\n",
        "        self.feed_input(self.labels, labels)"
      ],
      "execution_count": null,
      "outputs": []
    },
    {
      "cell_type": "code",
      "metadata": {
        "id": "Znm3GLVpAE0x",
        "colab_type": "code",
        "colab": {}
      },
      "source": [
        "# Creating data indices for training and validation splits:\n",
        "wav_df = pd.read_csv(data_dir + 'WAV_OCEANI.csv')\n",
        "\n",
        "validation_split = 0.2\n",
        "shuffle_dataset = True\n",
        "random_seed = 42\n",
        "\n",
        "dataset_size = len(wav_df)\n",
        "indices = list(range(dataset_size))\n",
        "split = int(np.floor(validation_split * dataset_size))\n",
        "if shuffle_dataset :\n",
        "    np.random.seed(random_seed)\n",
        "    np.random.shuffle(indices)\n",
        "train_indices, val_indices = indices[split:], indices[:split]"
      ],
      "execution_count": null,
      "outputs": []
    },
    {
      "cell_type": "code",
      "metadata": {
        "id": "g3IPqHLjnqPT",
        "colab_type": "code",
        "colab": {}
      },
      "source": [
        "train_eii = ExternalInputIterator(batch_size=32, \n",
        "                            csv_file=data_dir + 'WAV_OCEANI.csv', \n",
        "                            root_dir='all_wav',\n",
        "                            indices=train_indices)\n",
        "\n",
        "val_eii = ExternalInputIterator(batch_size=32, \n",
        "                            csv_file=data_dir + 'WAV_OCEANI.csv', \n",
        "                            root_dir='all_wav',\n",
        "                            indices=val_indices)"
      ],
      "execution_count": null,
      "outputs": []
    },
    {
      "cell_type": "code",
      "metadata": {
        "id": "cdhdCKtR3g13",
        "colab_type": "code",
        "colab": {
          "base_uri": "https://localhost:8080/",
          "height": 106
        },
        "outputId": "e9790e03-3eee-4f20-9ba9-f7cc7b7aa802"
      },
      "source": [
        "from nvidia.dali.plugin.pytorch import DALIGenericIterator\n",
        "\n",
        "specgram_dict = {'n_fft': 1024,\n",
        "                 'hop_length': 256,\n",
        "                 'n_mels': 40,\n",
        "                 'sr': 16000,\n",
        "                 'f_max': 8000,\n",
        "                 'duration': 15}\n",
        "\n",
        "train_pipe = MelSpectrogramPipeline(external_data=train_eii, \n",
        "                                    device='gpu',\n",
        "                                    specgram_dict=specgram_dict,\n",
        "                                    batch_size=32,\n",
        "                                    device_id=0)\n",
        "train_pipe.build()\n",
        "\n",
        "val_pipe = MelSpectrogramPipeline(external_data=train_eii,\n",
        "                                  device='gpu',\n",
        "                                  specgram_dict=specgram_dict, \n",
        "                                  batch_size=32, \n",
        "                                  device_id=0)\n",
        "val_pipe.build()\n",
        "\n",
        "train_iterator = DALIGenericIterator(train_pipe, \n",
        "                                     ['mel_specgram_db', 'labels'], \n",
        "                                     size=train_eii.size)\n",
        "val_iterator = DALIGenericIterator(val_pipe, \n",
        "                                   ['mel_specgram_db', 'labels'], \n",
        "                                   size=val_eii.size)"
      ],
      "execution_count": null,
      "outputs": [
        {
          "output_type": "stream",
          "text": [
            "/usr/local/lib/python3.6/dist-packages/nvidia/dali/plugin/base_iterator.py:124: Warning: Please set `reader_name` and don't set last_batch_padded and size manually  whenever possible. This may lead, in some situations, to miss some  samples or return duplicated ones. Check the Sharding section of the documentation for more details.\n",
            "  _iterator_deprecation_warning()\n",
            "/usr/local/lib/python3.6/dist-packages/nvidia/dali/plugin/base_iterator.py:124: Warning: Please set `reader_name` and don't set last_batch_padded and size manually  whenever possible. This may lead, in some situations, to miss some  samples or return duplicated ones. Check the Sharding section of the documentation for more details.\n",
            "  _iterator_deprecation_warning()\n"
          ],
          "name": "stderr"
        }
      ]
    },
    {
      "cell_type": "code",
      "metadata": {
        "id": "DJqAfEpqOyYC",
        "colab_type": "code",
        "colab": {
          "base_uri": "https://localhost:8080/",
          "height": 72
        },
        "outputId": "561e5e7c-3e84-42b1-b862-9650274d6a1c"
      },
      "source": [
        "for item in train_iterator:\n",
        "    print(item[0]['mel_specgram_db'].shape)\n",
        "    break\n",
        "train_iterator.reset()"
      ],
      "execution_count": null,
      "outputs": [
        {
          "output_type": "stream",
          "text": [
            "WARNING:root:DALI iterator does not support resetting while epoch is not finished. Ignoring...\n"
          ],
          "name": "stderr"
        },
        {
          "output_type": "stream",
          "text": [
            "torch.Size([32, 40, 957])\n"
          ],
          "name": "stdout"
        }
      ]
    },
    {
      "cell_type": "code",
      "metadata": {
        "id": "q_GpAo-9Sy2k",
        "colab_type": "code",
        "colab": {
          "base_uri": "https://localhost:8080/",
          "height": 89
        },
        "outputId": "1fcbeecb-4a37-424b-f9a2-4d6d7b610072"
      },
      "source": [
        "# set lengths of the iterators early on, \n",
        "# cause calculating the length every time makes a full run through the iterator\n",
        "# which might consume the gpu memory\n",
        "\n",
        "train_iterator.reset()\n",
        "val_iterator.reset()\n",
        "\n",
        "len_train_iterator = len(list(train_iterator))\n",
        "len_val_iterator = len(list(val_iterator))\n",
        "\n",
        "print(len_train_iterator, len_val_iterator)\n",
        "\n",
        "# reset iterators before the start of every epoch\n",
        "train_iterator.reset()\n",
        "val_iterator.reset()"
      ],
      "execution_count": null,
      "outputs": [
        {
          "output_type": "stream",
          "text": [
            "WARNING:root:DALI iterator does not support resetting while epoch is not finished. Ignoring...\n",
            "WARNING:root:DALI iterator does not support resetting while epoch is not finished. Ignoring...\n"
          ],
          "name": "stderr"
        },
        {
          "output_type": "stream",
          "text": [
            "199 50\n"
          ],
          "name": "stdout"
        }
      ]
    },
    {
      "cell_type": "markdown",
      "metadata": {
        "id": "Ptwclq73hzOF",
        "colab_type": "text"
      },
      "source": [
        "## PyTorch Dataloader"
      ]
    },
    {
      "cell_type": "code",
      "metadata": {
        "id": "mhGj4nN_JeA-",
        "colab_type": "code",
        "colab": {
          "base_uri": "https://localhost:8080/",
          "height": 35
        },
        "outputId": "7ebe15a6-f916-4ce5-fe8b-5c765ad92be6"
      },
      "source": [
        "# load data\n",
        "specgram_df = pd.read_csv(data_dir + 'Specgram_OCEANI.csv')\n",
        "# with open(data_dir + 'mfcc_7934n_13200d.pkl', 'rb') as p:\n",
        "#     mfcc = pickle.load(p)\n",
        "print(len(specgram_df))"
      ],
      "execution_count": null,
      "outputs": [
        {
          "output_type": "stream",
          "text": [
            "7934\n"
          ],
          "name": "stdout"
        }
      ]
    },
    {
      "cell_type": "code",
      "metadata": {
        "id": "p-V2IwEwq52n",
        "colab_type": "code",
        "colab": {}
      },
      "source": [
        "class SpecgramDataset(Dataset):\n",
        "    def __init__(self, csv_file, root_dir, transform=None):\n",
        "        self.specgram_df = pd.read_csv(csv_file)\n",
        "        self.root_dir = root_dir\n",
        "        self.transform = transform\n",
        "        # self.mfcc = mfcc\n",
        "\n",
        "    def __len__(self):\n",
        "        return len(self.specgram_df)\n",
        "    \n",
        "    def __getitem__(self, idx):\n",
        "        if torch.is_tensor(idx):\n",
        "            idx = idx.tolist()\n",
        "\n",
        "        img_name = os.path.join(self.root_dir, self.specgram_df.iloc[idx, 0])\n",
        "        image = Image.open(img_name).convert('RGB')\n",
        "        labels = self.specgram_df.iloc[idx, 1:].values.astype(np.float32)\n",
        "        # for key, value in labels.items():\n",
        "        #     labels[key] = torch.Tensor([value])\n",
        "        labels = torch.from_numpy(labels)\n",
        "        # mfcc_vec = torch.Tensor(self.mfcc[self.specgram_df.iloc[idx, 0].replace('png', 'mp4')])\n",
        "\n",
        "        if self.transform:\n",
        "            image = self.transform(image)\n",
        "\n",
        "        return (image, labels)"
      ],
      "execution_count": null,
      "outputs": []
    },
    {
      "cell_type": "code",
      "metadata": {
        "id": "PV0ljb1HllGj",
        "colab_type": "code",
        "colab": {}
      },
      "source": [
        "transform = transforms.Compose([transforms.Resize((224, 224)),\n",
        "                                transforms.ToTensor(),\n",
        "                                transforms.Normalize(mean=[0.485, 0.456, 0.406], std=[0.229, 0.224, 0.225])\n",
        "                                ])"
      ],
      "execution_count": null,
      "outputs": []
    },
    {
      "cell_type": "code",
      "metadata": {
        "id": "zYGunwA36qgs",
        "colab_type": "code",
        "colab": {}
      },
      "source": [
        "# Creating data indices for training and validation splits:\n",
        "validation_split = 0.2\n",
        "shuffle_dataset = True\n",
        "random_seed = 42\n",
        "\n",
        "dataset_size = len(specgram_df)\n",
        "indices = list(range(dataset_size))\n",
        "split = int(np.floor(validation_split * dataset_size))\n",
        "if shuffle_dataset :\n",
        "    np.random.seed(random_seed)\n",
        "    np.random.shuffle(indices)\n",
        "train_indices, val_indices = indices[split:], indices[:split]\n",
        "\n",
        "# Creating PT data samplers and loaders:\n",
        "train_sampler = SubsetRandomSampler(train_indices)\n",
        "val_sampler = SubsetRandomSampler(val_indices)"
      ],
      "execution_count": null,
      "outputs": []
    },
    {
      "cell_type": "code",
      "metadata": {
        "id": "J14xsqMTsYU6",
        "colab_type": "code",
        "colab": {}
      },
      "source": [
        "specgram_data = SpecgramDataset(csv_file=os.path.join(data_dir, 'Specgram_OCEANI.csv'),\n",
        "                                # mfcc=mfcc,\n",
        "                                root_dir='specgrams1',\n",
        "                                transform=transform)\n",
        "\n",
        "train_dataloader = DataLoader(specgram_data, \n",
        "                              sampler=train_sampler, \n",
        "                              batch_size=8, \n",
        "                              num_workers=2,\n",
        "                              pin_memory=True)\n",
        "\n",
        "val_dataloader = DataLoader(specgram_data, \n",
        "                            sampler=val_sampler, \n",
        "                            batch_size=8, \n",
        "                            num_workers=2,\n",
        "                            pin_memory=True)"
      ],
      "execution_count": null,
      "outputs": []
    },
    {
      "cell_type": "code",
      "metadata": {
        "id": "mRu_FSkC7XyL",
        "colab_type": "code",
        "colab": {
          "base_uri": "https://localhost:8080/",
          "height": 35
        },
        "outputId": "2d2c5c9b-67b2-4c1b-fac6-79cd9e9b57de"
      },
      "source": [
        "len(train_dataloader), len(val_dataloader)"
      ],
      "execution_count": null,
      "outputs": [
        {
          "output_type": "execute_result",
          "data": {
            "text/plain": [
              "(794, 199)"
            ]
          },
          "metadata": {
            "tags": []
          },
          "execution_count": 62
        }
      ]
    },
    {
      "cell_type": "code",
      "metadata": {
        "id": "pMijs0BP0nU6",
        "colab_type": "code",
        "colab": {}
      },
      "source": [
        "def display_image(image):\n",
        "    fig, ax = plt.subplots()\n",
        "    image = image.numpy().transpose((1, 2, 0))\n",
        "\n",
        "    mean = np.array([0.485, 0.456, 0.406])\n",
        "    std = np.array([0.229, 0.224, 0.225])\n",
        "    image = std * image + mean\n",
        "    image = np.clip(image, 0, 1)\n",
        "\n",
        "    return ax.imshow(image)"
      ],
      "execution_count": null,
      "outputs": []
    },
    {
      "cell_type": "code",
      "metadata": {
        "id": "-T2fUf2jtHhI",
        "colab_type": "code",
        "colab": {
          "base_uri": "https://localhost:8080/",
          "height": 173
        },
        "outputId": "126e419f-0b69-4d7b-f726-99f9a6e9453c"
      },
      "source": [
        "b_images, b_labels = next(iter(train_dataloader))\n",
        "print(b_images.shape)\n",
        "# print(b_labels.shape)\n",
        "print(b_labels)\n",
        "\n",
        "# display_image(b_images[0])"
      ],
      "execution_count": null,
      "outputs": [
        {
          "output_type": "stream",
          "text": [
            "torch.Size([8, 3, 224, 224])\n",
            "tensor([[0.6111, 0.8932, 0.6636, 0.6374, 0.6875, 0.7196],\n",
            "        [0.9000, 0.7087, 0.7757, 0.6813, 0.8333, 0.6916],\n",
            "        [0.7556, 0.7282, 0.7009, 0.7802, 0.6771, 0.6822],\n",
            "        [0.6667, 0.4951, 0.5327, 0.5714, 0.6354, 0.5327],\n",
            "        [0.6556, 0.5340, 0.5888, 0.5165, 0.6875, 0.6355],\n",
            "        [0.4333, 0.8252, 0.1776, 0.6154, 0.6667, 0.5888],\n",
            "        [0.7111, 0.6602, 0.5514, 0.6593, 0.6354, 0.5234],\n",
            "        [0.3111, 0.2621, 0.2617, 0.2637, 0.2708, 0.2617]])\n"
          ],
          "name": "stdout"
        }
      ]
    },
    {
      "cell_type": "code",
      "metadata": {
        "id": "fr6nR6mFmO4l",
        "colab_type": "code",
        "colab": {
          "base_uri": "https://localhost:8080/",
          "height": 173
        },
        "outputId": "73c8e102-b5d1-4dc7-a113-949b9e0dcb9c"
      },
      "source": [
        "b_images, b_labels = next(iter(val_dataloader))\n",
        "print(b_images.shape)\n",
        "# print(b_labels.shape)\n",
        "print(b_labels)"
      ],
      "execution_count": null,
      "outputs": [
        {
          "output_type": "stream",
          "text": [
            "torch.Size([8, 3, 224, 224])\n",
            "tensor([[0.6667, 0.5728, 0.5421, 0.6703, 0.6354, 0.5047],\n",
            "        [0.6778, 0.7961, 0.4953, 0.5934, 0.6562, 0.6262],\n",
            "        [0.5778, 0.5340, 0.4673, 0.4396, 0.4271, 0.5327],\n",
            "        [0.4778, 0.2233, 0.2710, 0.3846, 0.3333, 0.2243],\n",
            "        [0.3222, 0.1845, 0.3551, 0.4835, 0.3854, 0.3084],\n",
            "        [0.6667, 0.6019, 0.5047, 0.6484, 0.6771, 0.5514],\n",
            "        [0.6111, 0.3981, 0.4766, 0.5495, 0.4375, 0.4486],\n",
            "        [0.3111, 0.6602, 0.4579, 0.4945, 0.4688, 0.5047]])\n"
          ],
          "name": "stdout"
        }
      ]
    },
    {
      "cell_type": "markdown",
      "metadata": {
        "id": "W_EMggVqoW2h",
        "colab_type": "text"
      },
      "source": [
        "# Pretrained Resnet101 + MFCCs - Late Fusion Model"
      ]
    },
    {
      "cell_type": "code",
      "metadata": {
        "id": "HXN07kBHKyyQ",
        "colab_type": "code",
        "colab": {}
      },
      "source": [
        "device = torch.device('cuda')"
      ],
      "execution_count": null,
      "outputs": []
    },
    {
      "cell_type": "code",
      "metadata": {
        "id": "FDHWOEdhhwcO",
        "colab_type": "code",
        "colab": {
          "base_uri": "https://localhost:8080/",
          "height": 104,
          "referenced_widgets": [
            "c72b2b85d73b40feb191ec1204104efc",
            "5ef6c03998e842e696c02e5d03b60260",
            "4ba43f6fc9914f95a0fced7ddea38fe0",
            "685b949b1af741628f23a25eae0ceb62",
            "74a7b775f5fc4e0a814ba2736a0da5ef",
            "a858ed5aa1ce49ab853ff739041600c1",
            "a34ce658ce644720a4ca623daf8e8c4e",
            "d623dd259b684bc4ba435879fcf0bf42"
          ]
        },
        "outputId": "d9dd815e-de3e-4a46-e4c9-d986be05dec4"
      },
      "source": [
        "resnet = models.resnext101_32x8d(pretrained=True)"
      ],
      "execution_count": null,
      "outputs": [
        {
          "output_type": "stream",
          "text": [
            "Downloading: \"https://download.pytorch.org/models/resnext101_32x8d-8ba56ff5.pth\" to /root/.cache/torch/checkpoints/resnext101_32x8d-8ba56ff5.pth\n"
          ],
          "name": "stderr"
        },
        {
          "output_type": "display_data",
          "data": {
            "application/vnd.jupyter.widget-view+json": {
              "model_id": "c72b2b85d73b40feb191ec1204104efc",
              "version_minor": 0,
              "version_major": 2
            },
            "text/plain": [
              "HBox(children=(FloatProgress(value=0.0, max=356082095.0), HTML(value='')))"
            ]
          },
          "metadata": {
            "tags": []
          }
        },
        {
          "output_type": "stream",
          "text": [
            "\n"
          ],
          "name": "stdout"
        }
      ]
    },
    {
      "cell_type": "code",
      "metadata": {
        "id": "fR6pn4XS4aNL",
        "colab_type": "code",
        "colab": {}
      },
      "source": [
        "resnet;"
      ],
      "execution_count": null,
      "outputs": []
    },
    {
      "cell_type": "code",
      "metadata": {
        "id": "EjDPRtTGk0gw",
        "colab_type": "code",
        "colab": {
          "base_uri": "https://localhost:8080/",
          "height": 35
        },
        "outputId": "2eccccea-7ae5-40b5-9310-afd5ee11b036"
      },
      "source": [
        "# trainable parameters\n",
        "sum(p.numel() for p in resnet.parameters() if p.requires_grad)"
      ],
      "execution_count": null,
      "outputs": [
        {
          "output_type": "execute_result",
          "data": {
            "text/plain": [
              "88791336"
            ]
          },
          "metadata": {
            "tags": []
          },
          "execution_count": 28
        }
      ]
    },
    {
      "cell_type": "code",
      "metadata": {
        "id": "gJPEB28hNJFS",
        "colab_type": "code",
        "colab": {}
      },
      "source": [
        "class ResnetOut(nn.Module):\n",
        "    def __init__(self):\n",
        "        super().__init__()\n",
        "\n",
        "    def forward(self, x):\n",
        "        return x"
      ],
      "execution_count": null,
      "outputs": []
    },
    {
      "cell_type": "code",
      "metadata": {
        "id": "T1hry1LgE8NV",
        "colab_type": "code",
        "colab": {}
      },
      "source": [
        "# Freeze parameters so we don't backprop through them\n",
        "for param in resnet.parameters():\n",
        "    param.requires_grad = False\n",
        "\n",
        "resnet.fc = ResnetOut()"
      ],
      "execution_count": null,
      "outputs": []
    },
    {
      "cell_type": "code",
      "metadata": {
        "id": "EMVn9YvxFNwi",
        "colab_type": "code",
        "colab": {}
      },
      "source": [
        "resnet;"
      ],
      "execution_count": null,
      "outputs": []
    },
    {
      "cell_type": "code",
      "metadata": {
        "id": "FzR-tItnPrn6",
        "colab_type": "code",
        "colab": {}
      },
      "source": [
        "# define our own regressor\n",
        "regressor = nn.Sequential(nn.Linear(15248, 2048),\n",
        "                          nn.ReLU(),\n",
        "                          nn.Dropout(p=0.25),\n",
        "                          nn.Linear(2048, 512),\n",
        "                          nn.ReLU(),\n",
        "                          nn.Dropout(p=0.25),\n",
        "                          nn.Linear(512, 128),\n",
        "                          nn.ReLU(),\n",
        "                          nn.Dropout(p=0.25),\n",
        "                          nn.Linear(128, 1))"
      ],
      "execution_count": null,
      "outputs": []
    },
    {
      "cell_type": "code",
      "metadata": {
        "id": "0tpE8D4KMB7e",
        "colab_type": "code",
        "colab": {}
      },
      "source": [
        "# concatenates resnet output & mfccs \n",
        "class Ensemble(nn.Module):\n",
        "    def __init__(self, resnet, regressor):\n",
        "        super(Ensemble, self).__init__()\n",
        "\n",
        "        self.resnet = resnet\n",
        "        self.regressor = regressor\n",
        "\n",
        "    def forward(self, x1, mfcc_vec):\n",
        "        x1 = self.resnet(x1)\n",
        "\n",
        "        # concatenate resnet output & mfcc vector (2048 + 13200)\n",
        "        x = torch.cat((x1, mfcc_vec), dim=1)\n",
        "\n",
        "        x = self.regressor(x)\n",
        "\n",
        "        return x\n"
      ],
      "execution_count": null,
      "outputs": []
    },
    {
      "cell_type": "code",
      "metadata": {
        "id": "TpP2Y5EkRPin",
        "colab_type": "code",
        "colab": {}
      },
      "source": [
        "model = Ensemble(resnet, regressor)\n",
        "model.to(device);"
      ],
      "execution_count": null,
      "outputs": []
    },
    {
      "cell_type": "code",
      "metadata": {
        "id": "8NldCRd8UlVc",
        "colab_type": "code",
        "colab": {}
      },
      "source": [
        "criterion = nn.MSELoss()\n",
        "optimizer = optim.Adam(model.regressor.parameters(), lr=0.001)\n",
        "epochs = 30\n",
        "save_best_only = True\n",
        "early_stopping_limit = 4\n",
        "model_name = 'resnet-dnn_specgram-mfcc_ensemble_6000data'"
      ],
      "execution_count": null,
      "outputs": []
    },
    {
      "cell_type": "code",
      "metadata": {
        "id": "6Z5cgYjoHB6R",
        "colab_type": "code",
        "colab": {
          "base_uri": "https://localhost:8080/",
          "height": 710,
          "referenced_widgets": [
            "659cd2b37e98457c9d7ce756e147c272",
            "7f04fbabe8a84363a96b668bd87773ef",
            "dbbf449c9f0740eb8fac37cd78aac163",
            "37fa6280556c49da9779da251038a4ab",
            "13b58b27028a41bab14c88d5fe10f89a",
            "dd70c2a860e94fd79b73a10a020c4073",
            "92e9c1d31aad414a887ab437c8eff5c9",
            "79e3a197111e4a88bd2f79adf4ac4fb7",
            "91205c872b024467bee7fa29d7851d4c",
            "231e4353bef744bd972fd10459e5551d",
            "50e44512b28f46ee87da634106ad88dc",
            "61e02ed216e742c290b338f88313f1db",
            "238e9ce238734dd39efa859c0d05bb1f",
            "20216f3e9ae7414ca0e6b9472cfa8acd",
            "957fa41750b2409599202116158f7970",
            "7482c68b0ea846258e000f123dd7fcba",
            "2ef19e72198f4339bb938841e4998591",
            "dc407671dd3346bc96759b01c4822b7f",
            "97db7cbf347b44fb866a112ee6739a36",
            "a1316f19c0c94fa59b46d70643f6df54",
            "681f35a686c14b8397a37d897e35845b",
            "92e7a85d41844c0baae539c61053f810",
            "85167eb85826485aa8a458b593670676",
            "bf76c3cfd9474f91999dd567ff20f7af",
            "53e19736df6f40c981df87d6a47da396",
            "f3f9677f7e2d42d79485bd6080102253",
            "87889d155d60434989ef0629d7d09f59",
            "9f9bdeb97ac24154b6c15ef7d23086b6",
            "e1718f0f424446c7af64ec12a635300b",
            "7cf1e5eb9dc94f6ab51aed76507795fb",
            "d11c931d6d8e4412bcfc9eb7ba423f05",
            "f3ab82014016435bac92cba16d32283a",
            "d4f93b5654a94dd0b7bc84614728873a",
            "230b0417d30e47b489c0191b6fec588b",
            "7921d058c2b442ef8d61eb96ccde335f",
            "fe5e94e7dc5d4f38bf1a15d3cd32c29b",
            "3d620a4318864605bdf5fe871fef8e43",
            "a56cf40a7fbe4bff952bd8d390f90908",
            "b40a1110834e4724bb7e0d53fde95e98",
            "076b5a2b8b7b48d29c7ecd96a14742b1",
            "0ddaf32dfe1045dcb511b8f1855a7a8a",
            "e621146eacd0456a83380e8a7694694c",
            "91ed9d0dc21447dc993f0719e04b56a3",
            "d38e3e8f2c0c40c2a3cf342f1c8d6a3b",
            "0c1744da3cb345f7a463f6e35314e855",
            "d307be827eed4bd89a81e8e648af27e2",
            "d1b7ead8bddf4c3ea6cfba4e883783df",
            "bde957517d7546c3a44f499392c1bb04"
          ]
        },
        "outputId": "7079354e-38dd-47d5-f4ee-d9b3242120df"
      },
      "source": [
        "training_losses, val_losses = [], []\n",
        "prev_val_loss, min_val_loss = 0, 9999\n",
        "early_stopping_cnt = 0\n",
        "\n",
        "for epoch in range(epochs):\n",
        "    # Training\n",
        "    train_loss, train_steps = 0, 0\n",
        "    model.train()\n",
        "\n",
        "    for batch in tqdm(train_dataloader, desc='Epoch ' + str(epoch)):\n",
        "        b_images, b_mfccs, b_labels = batch\n",
        "        b_images, b_mfccs, b_labels = b_images.to(device), b_mfccs.to(device), b_labels.to(device)\n",
        "\n",
        "        # clear accumulated gradients\n",
        "        optimizer.zero_grad()\n",
        "\n",
        "        # forward pass\n",
        "        logits = model.forward(b_images, b_mfccs)\n",
        "\n",
        "        # calc loss\n",
        "        loss = criterion(logits, b_labels)\n",
        "        train_loss += loss.item()\n",
        "\n",
        "        # backward pass\n",
        "        loss.backward()\n",
        "\n",
        "        # update weights\n",
        "        optimizer.step()\n",
        "        train_steps += 1\n",
        "    \n",
        "    training_losses.append(train_loss/len(train_dataloader))\n",
        "    print('Train MSE loss:', train_loss/len(train_dataloader))\n",
        "\n",
        "    # Validation\n",
        "    val_loss, val_steps = 0, 0\n",
        "    pred, true = [], []\n",
        "\n",
        "    model.eval()\n",
        "    for batch in val_dataloader:\n",
        "        b_images, b_mfccs, b_labels = batch\n",
        "        b_images, b_mfccs, b_labels = b_images.to(device), b_mfccs.to(device), b_labels.to(device)\n",
        "\n",
        "        with torch.no_grad():\n",
        "            logits = model.forward(b_images, b_mfccs)\n",
        "            loss = criterion(logits, b_labels)\n",
        "\n",
        "            val_loss += loss.item()\n",
        "\n",
        "            logits = logits.cpu().numpy()\n",
        "            labels = b_labels.cpu().numpy()\n",
        "\n",
        "            pred.extend(logits)\n",
        "            true.extend(labels)\n",
        "\n",
        "        val_steps += 1\n",
        "\n",
        "    avg_val_loss = val_loss/len(val_dataloader)\n",
        "    if save_best_only and avg_val_loss < min_val_loss: \n",
        "        if not os.path.exists(models_dir + model_name):\n",
        "            os.makedirs(models_dir + model_name)\n",
        "        torch.save(model.state_dict(), os.path.join(models_dir, model_name, model_name + '.pt'))\n",
        "        print(f'--- Model Saved. Val loss: {min_val_loss} -> {avg_val_loss}')\n",
        "        min_val_loss = avg_val_loss\n",
        "        early_stopping_cnt = 0\n",
        "\n",
        "    val_losses.append(avg_val_loss)\n",
        "    print('Validation MSE:', avg_val_loss)\n",
        "    print('Validation MAE:', mean_absolute_error(true, pred))\n",
        "\n",
        "    early_stopping_cnt += 1\n",
        "    if early_stopping_cnt == early_stopping_limit:\n",
        "        print('\\n--- Stopped Early.')\n",
        "        break"
      ],
      "execution_count": null,
      "outputs": [
        {
          "output_type": "display_data",
          "data": {
            "application/vnd.jupyter.widget-view+json": {
              "model_id": "659cd2b37e98457c9d7ce756e147c272",
              "version_minor": 0,
              "version_major": 2
            },
            "text/plain": [
              "HBox(children=(FloatProgress(value=0.0, description='Epoch 0', max=298.0, style=ProgressStyle(description_widt…"
            ]
          },
          "metadata": {
            "tags": []
          }
        },
        {
          "output_type": "stream",
          "text": [
            "\n",
            "Train MSE loss: 0.3591675653478643\n",
            "--- Model Saved. Val loss: 9999 -> 0.06279391385614871\n",
            "Validation MSE: 0.06279391385614871\n",
            "Validation MAE: 0.21216476\n"
          ],
          "name": "stdout"
        },
        {
          "output_type": "display_data",
          "data": {
            "application/vnd.jupyter.widget-view+json": {
              "model_id": "91205c872b024467bee7fa29d7851d4c",
              "version_minor": 0,
              "version_major": 2
            },
            "text/plain": [
              "HBox(children=(FloatProgress(value=0.0, description='Epoch 1', max=298.0, style=ProgressStyle(description_widt…"
            ]
          },
          "metadata": {
            "tags": []
          }
        },
        {
          "output_type": "stream",
          "text": [
            "\n",
            "Train MSE loss: 0.20056722461927257\n",
            "--- Model Saved. Val loss: 0.06279391385614871 -> 0.05182067486147086\n",
            "Validation MSE: 0.05182067486147086\n",
            "Validation MAE: 0.18969798\n"
          ],
          "name": "stdout"
        },
        {
          "output_type": "display_data",
          "data": {
            "application/vnd.jupyter.widget-view+json": {
              "model_id": "2ef19e72198f4339bb938841e4998591",
              "version_minor": 0,
              "version_major": 2
            },
            "text/plain": [
              "HBox(children=(FloatProgress(value=0.0, description='Epoch 2', max=298.0, style=ProgressStyle(description_widt…"
            ]
          },
          "metadata": {
            "tags": []
          }
        },
        {
          "output_type": "stream",
          "text": [
            "\n",
            "Train MSE loss: 0.17981759871937483\n",
            "--- Model Saved. Val loss: 0.05182067486147086 -> 0.03775529527415832\n",
            "Validation MSE: 0.03775529527415832\n",
            "Validation MAE: 0.15726227\n"
          ],
          "name": "stdout"
        },
        {
          "output_type": "display_data",
          "data": {
            "application/vnd.jupyter.widget-view+json": {
              "model_id": "53e19736df6f40c981df87d6a47da396",
              "version_minor": 0,
              "version_major": 2
            },
            "text/plain": [
              "HBox(children=(FloatProgress(value=0.0, description='Epoch 3', max=298.0, style=ProgressStyle(description_widt…"
            ]
          },
          "metadata": {
            "tags": []
          }
        },
        {
          "output_type": "stream",
          "text": [
            "\n",
            "Train MSE loss: 0.15278379240342035\n",
            "Validation MSE: 0.03930701235930125\n",
            "Validation MAE: 0.16244192\n"
          ],
          "name": "stdout"
        },
        {
          "output_type": "display_data",
          "data": {
            "application/vnd.jupyter.widget-view+json": {
              "model_id": "d4f93b5654a94dd0b7bc84614728873a",
              "version_minor": 0,
              "version_major": 2
            },
            "text/plain": [
              "HBox(children=(FloatProgress(value=0.0, description='Epoch 4', max=298.0, style=ProgressStyle(description_widt…"
            ]
          },
          "metadata": {
            "tags": []
          }
        },
        {
          "output_type": "stream",
          "text": [
            "\n",
            "Train MSE loss: 0.18453978371475166\n",
            "Validation MSE: 0.03899045373002688\n",
            "Validation MAE: 0.16169605\n"
          ],
          "name": "stdout"
        },
        {
          "output_type": "display_data",
          "data": {
            "application/vnd.jupyter.widget-view+json": {
              "model_id": "0ddaf32dfe1045dcb511b8f1855a7a8a",
              "version_minor": 0,
              "version_major": 2
            },
            "text/plain": [
              "HBox(children=(FloatProgress(value=0.0, description='Epoch 5', max=298.0, style=ProgressStyle(description_widt…"
            ]
          },
          "metadata": {
            "tags": []
          }
        },
        {
          "output_type": "stream",
          "text": [
            "\n",
            "Train MSE loss: 0.1075637669071255\n",
            "Validation MSE: 0.04673169593016307\n",
            "Validation MAE: 0.1799833\n",
            "\n",
            "--- Stopped Early.\n"
          ],
          "name": "stdout"
        }
      ]
    },
    {
      "cell_type": "markdown",
      "metadata": {
        "id": "bxRz13qT-ONF",
        "colab_type": "text"
      },
      "source": [
        "# Pretrained Resnet101 on Spectrograms Model"
      ]
    },
    {
      "cell_type": "code",
      "metadata": {
        "colab_type": "code",
        "id": "B413OkCrB7CT",
        "colab": {
          "base_uri": "https://localhost:8080/",
          "height": 35
        },
        "outputId": "be66117c-dea8-4a5a-d933-e8a5e514bb1f"
      },
      "source": [
        "device = torch.device('cuda')\n",
        "print(torch.cuda.get_device_name())"
      ],
      "execution_count": null,
      "outputs": [
        {
          "output_type": "stream",
          "text": [
            "Tesla K80\n"
          ],
          "name": "stdout"
        }
      ]
    },
    {
      "cell_type": "code",
      "metadata": {
        "colab_type": "code",
        "id": "jZdXEZ4W-a--",
        "colab": {
          "base_uri": "https://localhost:8080/",
          "height": 104,
          "referenced_widgets": [
            "985b4f0a036d4091a9a5b0481ab94123",
            "6be1298ac5b64afbb6213625f85aa19e",
            "5c2d3dddd9514a1b85c514a487677f68",
            "367bee5cfa7143f4a3554f041098011b",
            "723b46459c554d9485753afc9ae3ddc6",
            "0c50fefc191b4bb9b34518436c7d6c47",
            "5614aad47e04435aba1295aad3717422",
            "73e8bd35a3af4cb382f3d44254047073"
          ]
        },
        "outputId": "5cb9f8e4-18f3-4ece-a1d1-7ffa5aeb1211"
      },
      "source": [
        "resnet = models.resnext101_32x8d(pretrained=True)"
      ],
      "execution_count": null,
      "outputs": [
        {
          "output_type": "stream",
          "text": [
            "Downloading: \"https://download.pytorch.org/models/resnext101_32x8d-8ba56ff5.pth\" to /root/.cache/torch/checkpoints/resnext101_32x8d-8ba56ff5.pth\n"
          ],
          "name": "stderr"
        },
        {
          "output_type": "display_data",
          "data": {
            "application/vnd.jupyter.widget-view+json": {
              "model_id": "985b4f0a036d4091a9a5b0481ab94123",
              "version_minor": 0,
              "version_major": 2
            },
            "text/plain": [
              "HBox(children=(FloatProgress(value=0.0, max=356082095.0), HTML(value='')))"
            ]
          },
          "metadata": {
            "tags": []
          }
        },
        {
          "output_type": "stream",
          "text": [
            "\n"
          ],
          "name": "stdout"
        }
      ]
    },
    {
      "cell_type": "code",
      "metadata": {
        "colab_type": "code",
        "id": "ghoxO_o6-a_F",
        "colab": {}
      },
      "source": [
        "resnet;"
      ],
      "execution_count": null,
      "outputs": []
    },
    {
      "cell_type": "code",
      "metadata": {
        "colab_type": "code",
        "id": "6gksTyAF-a_H",
        "colab": {
          "base_uri": "https://localhost:8080/",
          "height": 35
        },
        "outputId": "6e818d4c-c565-4f27-f39f-a710560e7fad"
      },
      "source": [
        "# trainable parameters\n",
        "sum(p.numel() for p in resnet.parameters() if p.requires_grad)"
      ],
      "execution_count": null,
      "outputs": [
        {
          "output_type": "execute_result",
          "data": {
            "text/plain": [
              "88791336"
            ]
          },
          "metadata": {
            "tags": []
          },
          "execution_count": 16
        }
      ]
    },
    {
      "cell_type": "code",
      "metadata": {
        "colab_type": "code",
        "id": "pH18Noh2-a_R",
        "colab": {}
      },
      "source": [
        "# define our own regressor\n",
        "class Regressor(nn.Module):\n",
        "    def __init__(self):\n",
        "        super().__init__()\n",
        "\n",
        "        self.fc1 = nn.Linear(2048, 512)\n",
        "        self.fc2 = nn.Linear(512, 128)\n",
        "        self.fc3 = nn.Linear(128, 64)\n",
        "\n",
        "        self.o_output = nn.Linear(64, 1)\n",
        "        self.c_output = nn.Linear(64, 1)\n",
        "        self.e_output = nn.Linear(64, 1)\n",
        "        self.a_output = nn.Linear(64, 1)\n",
        "        self.n_output = nn.Linear(64, 1)\n",
        "        self.i_output = nn.Linear(64, 1)\n",
        "\n",
        "        self.dropout = nn.Dropout(p=0.25)\n",
        "\n",
        "    def forward(self, x):\n",
        "        x = F.relu(self.fc1(x))\n",
        "        x = self.dropout(x)\n",
        "        x = F.relu(self.fc2(x))\n",
        "        x = self.dropout(x)\n",
        "        x = F.relu(self.fc3(x))\n",
        "        x = self.dropout(x)\n",
        "\n",
        "        o_out = F.sigmoid(self.o_output(x))\n",
        "        c_out = F.sigmoid(self.c_output(x))\n",
        "        e_out = F.sigmoid(self.e_output(x))\n",
        "        a_out = F.sigmoid(self.a_output(x))\n",
        "        n_out = F.sigmoid(self.n_output(x))\n",
        "        i_out = F.sigmoid(self.i_output(x))\n",
        "\n",
        "        return o_out, c_out, e_out, a_out, n_out, i_out"
      ],
      "execution_count": null,
      "outputs": []
    },
    {
      "cell_type": "code",
      "metadata": {
        "colab_type": "code",
        "id": "oF3cezxg-a_M",
        "colab": {}
      },
      "source": [
        "# Freeze parameters so we don't backprop through them\n",
        "FULL_FINETUNING = True\n",
        "\n",
        "if FULL_FINETUNING == False:\n",
        "    for param in resnet.parameters():\n",
        "        param.requires_grad = False\n",
        "\n",
        "resnet.fc = Regressor()"
      ],
      "execution_count": null,
      "outputs": []
    },
    {
      "cell_type": "code",
      "metadata": {
        "colab_type": "code",
        "id": "stS_w_Qa-a_N",
        "colab": {}
      },
      "source": [
        "resnet;"
      ],
      "execution_count": null,
      "outputs": []
    },
    {
      "cell_type": "code",
      "metadata": {
        "colab_type": "code",
        "id": "V86nvZmA-a_W",
        "colab": {}
      },
      "source": [
        "model = resnet\n",
        "model.to(device);"
      ],
      "execution_count": null,
      "outputs": []
    },
    {
      "cell_type": "code",
      "metadata": {
        "colab_type": "code",
        "id": "kg_JN1fN-a_Y",
        "colab": {}
      },
      "source": [
        "criterion = nn.MSELoss()\n",
        "if FULL_FINETUNING:\n",
        "    optimizer = optim.Adam(model.parameters(), lr=0.001)\n",
        "else:\n",
        "    optimizer = optim.Adam(model.fc.parameters(), lr=0.001)\n",
        "epochs = 20\n",
        "save_best_only = True\n",
        "early_stopping_limit = 5\n",
        "model_name = 'resnet101_specgram_mse_multitask'"
      ],
      "execution_count": null,
      "outputs": []
    },
    {
      "cell_type": "code",
      "metadata": {
        "colab_type": "code",
        "id": "TH61R0z6-a_a",
        "colab": {
          "base_uri": "https://localhost:8080/",
          "height": 1000,
          "referenced_widgets": [
            "171adb9b102b42e292606540864437eb",
            "4d6dc6603cf8499f9b7fe7fc63b3ee13",
            "b0a1b2f4c16a4a3798c6eeec066c6e2b",
            "c877227d0f6845f5b7437a325fbc580f",
            "3d8e8c6b89cd41ca94463b3937c11791",
            "308c71cafb6c45dc876be844935acced",
            "292bdc78f1894f128a859635afbc08e9",
            "488a70c2ec6042358311351a20332cb8",
            "e4a1fba32e76432e864a65f9f80ced60",
            "a6f0b03985a046839ecdf2b8857f90be",
            "1eb224c456b9410c847c411260cf62b6",
            "cb9946e1cba34047bb9f3db303906674",
            "9a3354be41b6415b959d576d0a75b4b3",
            "cb7d09f82b8344a6b89e237d31013efd",
            "47ef093672414ee18cebe7fb1c744171",
            "f47cc83b3e7a4597946352db96747371",
            "bc543366787144d3bc3b64636da2be72",
            "a7dbaa88ccf842d490ef3524e55177e3",
            "500a8840bdca4eed9d5565b320f94bf0",
            "6c10d8ed59dd46169bb825890107e62d",
            "e2b0a11d9b7d43d8ab097fea5f203d53",
            "4d8ddbd01363492e85ff9f0e86eded0c",
            "ec49558b42fe4c43b311f5fd814d8d96",
            "484230e127ba4d2e829e9b99a59aa085"
          ]
        },
        "outputId": "f2c3b61c-64c3-4932-9f5b-c8206cb7f116"
      },
      "source": [
        "training_losses, val_losses = [], []\n",
        "prev_val_loss, min_val_loss = 0, 9999\n",
        "early_stopping_cnt = 0\n",
        "train_iterator.reset()\n",
        "val_iterator.reset()\n",
        "\n",
        "for epoch in range(epochs):\n",
        "    # Training\n",
        "    train_loss = 0\n",
        "    model.train()\n",
        "\n",
        "    for step, batch in tqdm(enumerate(train_iterator), \n",
        "                            total=len_train_iterator,\n",
        "                            desc='Epoch ' + str(epoch)):\n",
        "        b_images, b_labels = batch[0]['images'], batch[0]['labels']\n",
        "        b_images, b_labels = b_images.to(device), b_labels.to(device)\n",
        "\n",
        "        # clear accumulated gradients\n",
        "        optimizer.zero_grad()\n",
        "\n",
        "        # forward pass\n",
        "        logits = model.forward(b_images)\n",
        "        o_logits, c_logits, e_logits, a_logits, n_logits, i_logits = logits\n",
        "\n",
        "        # calc loss\n",
        "        o_loss = criterion(o_logits, b_labels[0])\n",
        "        c_loss = criterion(c_logits, b_labels[1])\n",
        "        e_loss = criterion(e_logits, b_labels[2])\n",
        "        a_loss = criterion(a_logits, b_labels[3])\n",
        "        n_loss = criterion(n_logits, b_labels[4])\n",
        "        i_loss = criterion(i_logits, b_labels[5])\n",
        "\n",
        "        loss = o_loss + c_loss + e_loss + a_loss + n_loss + i_loss\n",
        "\n",
        "        train_loss += loss.item()\n",
        "        # print(f'Iteration: {train_steps} | Batch loss: {train_loss}')\n",
        "        # backward pass\n",
        "        loss.backward()\n",
        "\n",
        "        # update weights\n",
        "        optimizer.step()\n",
        "    \n",
        "    avg_train_loss = train_loss/len_train_iterator\n",
        "    training_losses.append(avg_train_loss)\n",
        "    print('Avg Training MSE:', avg_train_loss)\n",
        "\n",
        "    # Validation\n",
        "    val_loss = 0\n",
        "    pred, true = [], []\n",
        "    val_o_loss, val_c_loss, val_e_loss, val_a_loss, val_n_loss, val_i_loss = 0, 0, 0, 0, 0, 0\n",
        "\n",
        "    model.eval()\n",
        "    for batch in val_iterator:\n",
        "        b_images, b_labels = batch[0]['images'], batch[0]['labels']\n",
        "        b_images, b_labels = b_images.to(device), b_labels.to(device)\n",
        "\n",
        "        with torch.no_grad():\n",
        "            logits = model.forward(b_images)\n",
        "            o_logits, c_logits, e_logits, a_logits, n_logits, i_logits = logits\n",
        "\n",
        "            # calc loss\n",
        "            o_loss = criterion(o_logits, b_labels[0])\n",
        "            c_loss = criterion(c_logits, b_labels[1])\n",
        "            e_loss = criterion(e_logits, b_labels[2])\n",
        "            a_loss = criterion(a_logits, b_labels[3])\n",
        "            n_loss = criterion(n_logits, b_labels[4])\n",
        "            i_loss = criterion(i_logits, b_labels[5])\n",
        "\n",
        "            loss = o_loss + c_loss + e_loss + a_loss + n_loss + i_loss\n",
        "\n",
        "            val_loss += loss.item()\n",
        "            val_o_loss += o_loss.item()\n",
        "            val_c_loss += c_loss.item()\n",
        "            val_e_loss += e_loss.item()\n",
        "            val_a_loss += a_loss.item()\n",
        "            val_n_loss += n_loss.item()\n",
        "            val_i_loss += i_loss.item()\n",
        "\n",
        "            o_logits = o_logits.cpu().numpy()\n",
        "            c_logits = c_logits.cpu().numpy()\n",
        "            e_logits = e_logits.cpu().numpy()\n",
        "            a_logits = a_logits.cpu().numpy()\n",
        "            n_logits = n_logits.cpu().numpy()\n",
        "            i_logits = i_logits.cpu().numpy()\n",
        "\n",
        "            labels = b_labels.cpu().numpy()\n",
        "\n",
        "            for logits in [o_logits, c_logits, e_logits, a_logits, n_logits, i_logits]:\n",
        "                pred.extend(logits)\n",
        "            for label in labels:\n",
        "                true.extend(label)\n",
        "\n",
        "    avg_val_loss = val_loss/len_val_iterator\n",
        "\n",
        "    val_losses.append(avg_val_loss)\n",
        "    print('O Validation MSE:', val_o_loss/len_val_iterator)\n",
        "    print('C Validation MSE:', val_c_loss/len_val_iterator)\n",
        "    print('E Validation MSE:', val_e_loss/len_val_iterator)\n",
        "    print('A Validation MSE:', val_a_loss/len_val_iterator)\n",
        "    print('N Validation MSE:', val_n_loss/len_val_iterator)\n",
        "    print('I Validation MSE:', val_i_loss/len_val_iterator)\n",
        "\n",
        "    print('\\nAvg Validation MSE:', avg_val_loss)\n",
        "    print('Avg Validation MAE:', mean_absolute_error(true, pred))\n",
        "\n",
        "    # reset iterator after every epoch\n",
        "    train_iterator.reset()\n",
        "    val_iterator.reset()\n",
        "\n",
        "    if save_best_only and avg_val_loss < min_val_loss: \n",
        "        if not os.path.exists(models_dir + model_name):\n",
        "            os.makedirs(models_dir + model_name)\n",
        "        torch.save(model.state_dict(), os.path.join(models_dir, model_name, model_name + '.pt'))\n",
        "        print(f'--- Model Saved. Val loss: {min_val_loss} -> {avg_val_loss}')\n",
        "        min_val_loss = avg_val_loss\n",
        "        early_stopping_cnt = 0\n",
        "\n",
        "    early_stopping_cnt += 1\n",
        "    if early_stopping_cnt == early_stopping_limit:\n",
        "        print('\\n--- Stopped Early.')\n",
        "        break"
      ],
      "execution_count": null,
      "outputs": [
        {
          "output_type": "stream",
          "text": [
            "WARNING:root:DALI iterator does not support resetting while epoch is not finished. Ignoring...\n",
            "WARNING:root:DALI iterator does not support resetting while epoch is not finished. Ignoring...\n"
          ],
          "name": "stderr"
        },
        {
          "output_type": "display_data",
          "data": {
            "application/vnd.jupyter.widget-view+json": {
              "model_id": "171adb9b102b42e292606540864437eb",
              "version_minor": 0,
              "version_major": 2
            },
            "text/plain": [
              "HBox(children=(FloatProgress(value=0.0, description='Epoch 0', max=199.0, style=ProgressStyle(description_widt…"
            ]
          },
          "metadata": {
            "tags": []
          }
        },
        {
          "output_type": "stream",
          "text": [
            "/usr/local/lib/python3.6/dist-packages/torch/nn/functional.py:1569: UserWarning: nn.functional.sigmoid is deprecated. Use torch.sigmoid instead.\n",
            "  warnings.warn(\"nn.functional.sigmoid is deprecated. Use torch.sigmoid instead.\")\n",
            "/usr/local/lib/python3.6/dist-packages/torch/nn/modules/loss.py:432: UserWarning: Using a target size (torch.Size([6])) that is different to the input size (torch.Size([32, 1])). This will likely lead to incorrect results due to broadcasting. Please ensure they have the same size.\n",
            "  return F.mse_loss(input, target, reduction=self.reduction)\n"
          ],
          "name": "stderr"
        },
        {
          "output_type": "stream",
          "text": [
            "\n",
            "Avg Training MSE: 0.14050304711838463\n",
            "O Validation MSE: 0.01825920883566141\n",
            "C Validation MSE: 0.021923313934821637\n",
            "E Validation MSE: 0.028084843379911035\n",
            "A Validation MSE: 0.02674275459256023\n",
            "N Validation MSE: 0.01869646178325638\n",
            "I Validation MSE: 0.019377628806978464\n",
            "\n",
            "Avg Validation MSE: 0.13308420993387698\n",
            "Avg Validation MAE: 0.12073044\n",
            "--- Model Saved. Val loss: 9999 -> 0.13308420993387698\n"
          ],
          "name": "stdout"
        },
        {
          "output_type": "display_data",
          "data": {
            "application/vnd.jupyter.widget-view+json": {
              "model_id": "e4a1fba32e76432e864a65f9f80ced60",
              "version_minor": 0,
              "version_major": 2
            },
            "text/plain": [
              "HBox(children=(FloatProgress(value=0.0, description='Epoch 1', max=199.0, style=ProgressStyle(description_widt…"
            ]
          },
          "metadata": {
            "tags": []
          }
        },
        {
          "output_type": "stream",
          "text": [
            "/usr/local/lib/python3.6/dist-packages/torch/nn/functional.py:1569: UserWarning: nn.functional.sigmoid is deprecated. Use torch.sigmoid instead.\n",
            "  warnings.warn(\"nn.functional.sigmoid is deprecated. Use torch.sigmoid instead.\")\n",
            "/usr/local/lib/python3.6/dist-packages/torch/nn/modules/loss.py:432: UserWarning: Using a target size (torch.Size([6])) that is different to the input size (torch.Size([32, 1])). This will likely lead to incorrect results due to broadcasting. Please ensure they have the same size.\n",
            "  return F.mse_loss(input, target, reduction=self.reduction)\n"
          ],
          "name": "stderr"
        },
        {
          "output_type": "stream",
          "text": [
            "\n",
            "Avg Training MSE: 0.1354415073017379\n",
            "O Validation MSE: 0.023107989826239645\n",
            "C Validation MSE: 0.019913340769708156\n",
            "E Validation MSE: 0.01870702937245369\n",
            "A Validation MSE: 0.0271879747742787\n",
            "N Validation MSE: 0.01999439231585711\n",
            "I Validation MSE: 0.0228176092216745\n",
            "\n",
            "Avg Validation MSE: 0.13172833688557148\n",
            "Avg Validation MAE: 0.123450235\n",
            "--- Model Saved. Val loss: 0.13308420993387698 -> 0.13172833688557148\n"
          ],
          "name": "stdout"
        },
        {
          "output_type": "display_data",
          "data": {
            "application/vnd.jupyter.widget-view+json": {
              "model_id": "bc543366787144d3bc3b64636da2be72",
              "version_minor": 0,
              "version_major": 2
            },
            "text/plain": [
              "HBox(children=(FloatProgress(value=0.0, description='Epoch 2', max=199.0, style=ProgressStyle(description_widt…"
            ]
          },
          "metadata": {
            "tags": []
          }
        },
        {
          "output_type": "stream",
          "text": [
            "/usr/local/lib/python3.6/dist-packages/torch/nn/functional.py:1569: UserWarning: nn.functional.sigmoid is deprecated. Use torch.sigmoid instead.\n",
            "  warnings.warn(\"nn.functional.sigmoid is deprecated. Use torch.sigmoid instead.\")\n",
            "/usr/local/lib/python3.6/dist-packages/torch/nn/modules/loss.py:432: UserWarning: Using a target size (torch.Size([6])) that is different to the input size (torch.Size([32, 1])). This will likely lead to incorrect results due to broadcasting. Please ensure they have the same size.\n",
            "  return F.mse_loss(input, target, reduction=self.reduction)\n"
          ],
          "name": "stderr"
        },
        {
          "output_type": "error",
          "ename": "KeyboardInterrupt",
          "evalue": "ignored",
          "traceback": [
            "\u001b[0;31m---------------------------------------------------------------------------\u001b[0m",
            "\u001b[0;31mKeyboardInterrupt\u001b[0m                         Traceback (most recent call last)",
            "\u001b[0;32m<ipython-input-22-320d931c8fdb>\u001b[0m in \u001b[0;36m<module>\u001b[0;34m()\u001b[0m\n\u001b[1;32m     33\u001b[0m         \u001b[0mloss\u001b[0m \u001b[0;34m=\u001b[0m \u001b[0mo_loss\u001b[0m \u001b[0;34m+\u001b[0m \u001b[0mc_loss\u001b[0m \u001b[0;34m+\u001b[0m \u001b[0me_loss\u001b[0m \u001b[0;34m+\u001b[0m \u001b[0ma_loss\u001b[0m \u001b[0;34m+\u001b[0m \u001b[0mn_loss\u001b[0m \u001b[0;34m+\u001b[0m \u001b[0mi_loss\u001b[0m\u001b[0;34m\u001b[0m\u001b[0;34m\u001b[0m\u001b[0m\n\u001b[1;32m     34\u001b[0m \u001b[0;34m\u001b[0m\u001b[0m\n\u001b[0;32m---> 35\u001b[0;31m         \u001b[0mtrain_loss\u001b[0m \u001b[0;34m+=\u001b[0m \u001b[0mloss\u001b[0m\u001b[0;34m.\u001b[0m\u001b[0mitem\u001b[0m\u001b[0;34m(\u001b[0m\u001b[0;34m)\u001b[0m\u001b[0;34m\u001b[0m\u001b[0;34m\u001b[0m\u001b[0m\n\u001b[0m\u001b[1;32m     36\u001b[0m         \u001b[0;31m# print(f'Iteration: {train_steps} | Batch loss: {train_loss}')\u001b[0m\u001b[0;34m\u001b[0m\u001b[0;34m\u001b[0m\u001b[0;34m\u001b[0m\u001b[0m\n\u001b[1;32m     37\u001b[0m         \u001b[0;31m# backward pass\u001b[0m\u001b[0;34m\u001b[0m\u001b[0;34m\u001b[0m\u001b[0;34m\u001b[0m\u001b[0m\n",
            "\u001b[0;31mKeyboardInterrupt\u001b[0m: "
          ]
        }
      ]
    },
    {
      "cell_type": "code",
      "metadata": {
        "id": "n4uGN5fC6OXt",
        "colab_type": "code",
        "colab": {}
      },
      "source": [
        ""
      ],
      "execution_count": null,
      "outputs": []
    },
    {
      "cell_type": "markdown",
      "metadata": {
        "id": "oOvNo2avjoPY",
        "colab_type": "text"
      },
      "source": [
        "# CNN"
      ]
    },
    {
      "cell_type": "code",
      "metadata": {
        "id": "hziHZxkFlx6i",
        "colab_type": "code",
        "colab": {
          "base_uri": "https://localhost:8080/",
          "height": 35
        },
        "outputId": "0aee89a3-582a-4504-8b61-64af123130a8"
      },
      "source": [
        "device = torch.device('cuda')\n",
        "print(torch.cuda.get_device_name())"
      ],
      "execution_count": null,
      "outputs": [
        {
          "output_type": "stream",
          "text": [
            "Tesla T4\n"
          ],
          "name": "stdout"
        }
      ]
    },
    {
      "cell_type": "code",
      "metadata": {
        "id": "3GMNcbyJjrMv",
        "colab_type": "code",
        "colab": {}
      },
      "source": [
        "class CNNModel(nn.Module):\n",
        "    def __init__(self):\n",
        "        super().__init__()\n",
        "        self.conv1 = nn.Conv2d(in_channels=1, \n",
        "                               out_channels=32, \n",
        "                               kernel_size=3,\n",
        "                               padding=1)\n",
        "        self.conv2 = nn.Conv2d(in_channels=32, \n",
        "                               out_channels=64, \n",
        "                               kernel_size=3,\n",
        "                               padding=1)\n",
        "        self.conv3 = nn.Conv2d(in_channels=64, \n",
        "                               out_channels=128, \n",
        "                               kernel_size=3,\n",
        "                               padding=1)\n",
        "        \n",
        "        self.maxpool = nn.MaxPool2d(kernel_size=2, stride=2)\n",
        "\n",
        "        self.fc1 = nn.Linear(128*5*117, 1024)\n",
        "        self.fc2 = nn.Linear(1024, 512)\n",
        "        self.fc3 = nn.Linear(512, 64)\n",
        "        self.fc4 = nn.Linear(64, 16)\n",
        "        self.o_output = nn.Linear(16, 1)\n",
        "        self.c_output = nn.Linear(16, 1)\n",
        "        self.e_output = nn.Linear(16, 1)\n",
        "        self.a_output = nn.Linear(16, 1)\n",
        "        self.n_output = nn.Linear(16, 1)\n",
        "        self.i_output = nn.Linear(16, 1)\n",
        "\n",
        "        self.dropout = nn.Dropout(p=0.25)\n",
        "    def forward(self, x):\n",
        "        x = F.relu(self.conv1(x))\n",
        "        x = self.maxpool(x)\n",
        "        x = F.relu(self.conv2(x))\n",
        "        x = self.maxpool(x)\n",
        "        x = F.relu(self.conv3(x))\n",
        "        x = self.maxpool(x)\n",
        "        flattened = x.view(-1, 128*5*117)\n",
        "\n",
        "        x = F.relu(self.fc1(flattened))\n",
        "        x = self.dropout(x)\n",
        "        x = F.relu(self.fc2(x))\n",
        "        x = self.dropout(x)\n",
        "        x = F.relu(self.fc3(x))\n",
        "        x = self.dropout(x)\n",
        "        x = F.relu(self.fc4(x))\n",
        "        x = self.dropout(x)\n",
        "        o_out = F.sigmoid(self.o_output(x))\n",
        "        c_out = F.sigmoid(self.c_output(x))\n",
        "        e_out = F.sigmoid(self.e_output(x))\n",
        "        a_out = F.sigmoid(self.a_output(x))\n",
        "        n_out = F.sigmoid(self.n_output(x))\n",
        "        i_out = F.sigmoid(self.i_output(x))\n",
        "\n",
        "        return o_out, c_out, e_out, a_out, n_out, i_out"
      ],
      "execution_count": null,
      "outputs": []
    },
    {
      "cell_type": "code",
      "metadata": {
        "id": "lDsMTh1xlia_",
        "colab_type": "code",
        "colab": {
          "base_uri": "https://localhost:8080/",
          "height": 311
        },
        "outputId": "e904e6c1-99de-4278-f917-1b654ff1843a"
      },
      "source": [
        "model = CNNModel()\n",
        "model.to(device)"
      ],
      "execution_count": null,
      "outputs": [
        {
          "output_type": "execute_result",
          "data": {
            "text/plain": [
              "CNNModel(\n",
              "  (conv1): Conv2d(1, 32, kernel_size=(3, 3), stride=(1, 1), padding=(1, 1))\n",
              "  (conv2): Conv2d(32, 64, kernel_size=(3, 3), stride=(1, 1), padding=(1, 1))\n",
              "  (conv3): Conv2d(64, 128, kernel_size=(3, 3), stride=(1, 1), padding=(1, 1))\n",
              "  (maxpool): MaxPool2d(kernel_size=2, stride=2, padding=0, dilation=1, ceil_mode=False)\n",
              "  (fc1): Linear(in_features=74880, out_features=1024, bias=True)\n",
              "  (fc2): Linear(in_features=1024, out_features=512, bias=True)\n",
              "  (fc3): Linear(in_features=512, out_features=64, bias=True)\n",
              "  (fc4): Linear(in_features=64, out_features=16, bias=True)\n",
              "  (o_output): Linear(in_features=16, out_features=1, bias=True)\n",
              "  (c_output): Linear(in_features=16, out_features=1, bias=True)\n",
              "  (e_output): Linear(in_features=16, out_features=1, bias=True)\n",
              "  (a_output): Linear(in_features=16, out_features=1, bias=True)\n",
              "  (n_output): Linear(in_features=16, out_features=1, bias=True)\n",
              "  (i_output): Linear(in_features=16, out_features=1, bias=True)\n",
              "  (dropout): Dropout(p=0.25, inplace=False)\n",
              ")"
            ]
          },
          "metadata": {
            "tags": []
          },
          "execution_count": 22
        }
      ]
    },
    {
      "cell_type": "code",
      "metadata": {
        "id": "4D2TD9yusMpR",
        "colab_type": "code",
        "colab": {
          "base_uri": "https://localhost:8080/",
          "height": 35
        },
        "outputId": "19629718-0341-407c-e7e6-4dd4becc9f5a"
      },
      "source": [
        "# get pool out shape\n",
        "# sample = next(iter(train_iterator))\n",
        "# b_input = sample[0]['mel_specgram_db'].unsqueeze(1).to(device)\n",
        "\n",
        "# pool_out = model.forward(b_input)\n",
        "# pool_out.shape"
      ],
      "execution_count": null,
      "outputs": [
        {
          "output_type": "execute_result",
          "data": {
            "text/plain": [
              "torch.Size([32, 128, 5, 117])"
            ]
          },
          "metadata": {
            "tags": []
          },
          "execution_count": 104
        }
      ]
    },
    {
      "cell_type": "code",
      "metadata": {
        "id": "laqtfL87mo5k",
        "colab_type": "code",
        "colab": {}
      },
      "source": [
        "criterion = nn.MSELoss()\n",
        "optimizer = optim.Adam(model.parameters(), lr=0.001)\n",
        "epochs = 10\n",
        "save_best_only = True\n",
        "early_stopping_limit = epochs\n",
        "model_name = 'cnn_melspecgram_mse'"
      ],
      "execution_count": null,
      "outputs": []
    },
    {
      "cell_type": "code",
      "metadata": {
        "id": "sNsakhczpHYB",
        "colab_type": "code",
        "colab": {
          "base_uri": "https://localhost:8080/",
          "height": 1000,
          "referenced_widgets": [
            "e33cafc3c77641f2acebb0c7ab3c03fb",
            "2d07889422904f86b0d319ba93d61683",
            "d8a7728fa48144c08646cbda12aa0225",
            "d3496d5095e344f89fd4d8098b4895c7",
            "2a791117fc42494bb4ecdf50b8e0c012",
            "fd539b8598734fc79543604c1b1d6763",
            "e9ca94fe8f104d15880b6fa37b4ccf04",
            "e80099cd4e554ad88f045fa70470f2db",
            "7189b061a6d64cf7a86f61ef90daec6b",
            "e06e8c303c79462cbfb6091f7a5c071a",
            "ed15ba3c1700445db4da69992a317eda",
            "87409d8785034b92ac7c3522835307a3",
            "764c0a6f4e8645aebca44326f62f86f6",
            "c604690a01124269b0721ee334f4862c",
            "af7fb59811514990b432c6ada6814b5d",
            "5306b7a3739d499c92370104ee1eb47f",
            "fce0d0d9e3534fadb4ed3ac8422869f2",
            "ac2444a3f29b4bb4836a9a1daa8733ba",
            "c4510f3bcc54434f90f9457988b8e684",
            "b865a1ddc43b4e66848c81a4998e5b79",
            "571821bef0524d59b75cd842eaaa5af5",
            "9dacf6f419054380b36024f43f19a7e3",
            "f5e4090aa1d24be0a9c21347368a1cee",
            "7b445c050d034f8baa2f108b1f784d26",
            "bb9a990028a64ef3a31cfe6b7ca42baa",
            "2a3b1605ea8948e3bd6bceb76dbce7ef",
            "d1fef2ecaa8f4f77bd12db9d3b456b24",
            "a455a9c60b12410ab1744dfc4cc4ffd4",
            "b37901e5020642db85a2d8671776290f",
            "d8395d9e4f35496a9f159678327a8748",
            "9ae1bf687b514e49a73514867e88dc30",
            "e724137ba0ac4720b75459dd1de4e624",
            "72bcbd280cc04cad9c41243a6431e94f",
            "f06adf34abbf4ef8ac914b276809a1c7",
            "dd36ec5fe8a14392a890ccfe932970bc",
            "14dcadf754404b6297f2c06255aaa785",
            "133b5bf898e246d7b9ef89c3586905cd",
            "06614572ee9347f18ada76899be2f873",
            "32ffa7707b2c485bae6d7b17c3481cb2",
            "72286d988b9143f5b75b2b3c9c393622",
            "d9079bbc9d8044dba20bb482aa11b9e4",
            "19415db817a24d878e964225242ba9f7",
            "a9e97caa339b4ba58fba67371e180969",
            "4824fb09371d43c0bd9a29a235277171",
            "7ef8c63f9378469483eeace7752cacf8",
            "4576745b0e8e4d648bfb0ada5728f33c",
            "fefde306d5da4204b4230d9465bfb69b",
            "1af46c5bc61348309e4011ba9f3b1e16",
            "2bb74a7095454afaaa5b2ccc94320485",
            "72fa2bb998964d51a396552b21cdc437",
            "7f034077730a4646956c28fbb3af38d1",
            "4b0f12fe802c4cbf903895d0a5ee880f",
            "90f769263a9d4333b8c0f7e26a96b13e",
            "3b1d99f47f8f41ec8078e36ae8bed58e",
            "3c14e5e41be0467d94cc903d52947909",
            "657b1a7b1fc34bb092b67e016443649e"
          ]
        },
        "outputId": "ee53469b-0f0e-428d-b962-39321a17c8d4"
      },
      "source": [
        "training_losses, val_losses = [], []\n",
        "prev_val_loss, min_val_loss = 0, 9999\n",
        "early_stopping_cnt = 0\n",
        "train_iterator.reset()\n",
        "val_iterator.reset()\n",
        "\n",
        "for epoch in range(epochs):\n",
        "    # Training\n",
        "    train_loss = 0\n",
        "    model.train()\n",
        "\n",
        "    for batch in tqdm(train_iterator, total=len_train_iterator, desc='Epoch ' + str(epoch)):\n",
        "        b_input, b_labels = batch[0]['mel_specgram_db'], batch[0]['labels']\n",
        "        b_input, b_labels = b_input.unsqueeze(1).to(device), b_labels.to(device)\n",
        "\n",
        "        # clear accumulated gradients\n",
        "        optimizer.zero_grad()\n",
        "\n",
        "        # forward pass\n",
        "        logits = model.forward(b_input)\n",
        "        o_logits, c_logits, e_logits, a_logits, n_logits, i_logits = logits\n",
        "\n",
        "        # calc loss\n",
        "        o_loss = criterion(o_logits, b_labels[0])\n",
        "        c_loss = criterion(c_logits, b_labels[1])\n",
        "        e_loss = criterion(e_logits, b_labels[2])\n",
        "        a_loss = criterion(a_logits, b_labels[3])\n",
        "        n_loss = criterion(n_logits, b_labels[4])\n",
        "        i_loss = criterion(i_logits, b_labels[5])\n",
        "\n",
        "        loss = o_loss + c_loss + e_loss + a_loss + n_loss + i_loss\n",
        "        train_loss += loss.item()\n",
        "\n",
        "        # backward pass\n",
        "        loss.backward()\n",
        "\n",
        "        # update weights\n",
        "        optimizer.step()\n",
        "    \n",
        "    avg_train_loss = train_loss/len_train_iterator\n",
        "    training_losses.append(avg_train_loss)\n",
        "    print('Avg Training MSE:', avg_train_loss)\n",
        "\n",
        "    # Validation\n",
        "    val_loss = 0\n",
        "    pred, true = [], []\n",
        "    val_o_loss, val_c_loss, val_e_loss, val_a_loss, val_n_loss, val_i_loss = 0, 0, 0, 0, 0, 0\n",
        "\n",
        "    model.eval()\n",
        "    for batch in val_iterator:\n",
        "        b_input, b_labels = batch[0]['mel_specgram_db'], batch[0]['labels']\n",
        "        b_input, b_labels = b_input.unsqueeze(1).to(device), b_labels.to(device)\n",
        "\n",
        "        with torch.no_grad():\n",
        "            logits = model.forward(b_input)\n",
        "            o_logits, c_logits, e_logits, a_logits, n_logits, i_logits = logits\n",
        "\n",
        "            # calc loss\n",
        "            o_loss = criterion(o_logits, b_labels[0])\n",
        "            c_loss = criterion(c_logits, b_labels[1])\n",
        "            e_loss = criterion(e_logits, b_labels[2])\n",
        "            a_loss = criterion(a_logits, b_labels[3])\n",
        "            n_loss = criterion(n_logits, b_labels[4])\n",
        "            i_loss = criterion(i_logits, b_labels[5])\n",
        "\n",
        "            loss = o_loss + c_loss + e_loss + a_loss + n_loss + i_loss\n",
        "\n",
        "            val_loss += loss.item()\n",
        "            val_o_loss += o_loss.item()\n",
        "            val_c_loss += c_loss.item()\n",
        "            val_e_loss += e_loss.item()\n",
        "            val_a_loss += a_loss.item()\n",
        "            val_n_loss += n_loss.item()\n",
        "            val_i_loss += i_loss.item()\n",
        "\n",
        "            o_logits = o_logits.cpu().numpy()\n",
        "            c_logits = c_logits.cpu().numpy()\n",
        "            e_logits = e_logits.cpu().numpy()\n",
        "            a_logits = a_logits.cpu().numpy()\n",
        "            n_logits = n_logits.cpu().numpy()\n",
        "            i_logits = i_logits.cpu().numpy()\n",
        "\n",
        "            labels = b_labels.cpu().numpy()\n",
        "\n",
        "            for logits in [o_logits, c_logits, e_logits, a_logits, n_logits, i_logits]:\n",
        "                pred.extend(logits)\n",
        "            for label in labels:\n",
        "                true.extend(label)\n",
        "\n",
        "    avg_val_loss = val_loss/len_val_iterator\n",
        "\n",
        "    val_losses.append(avg_val_loss)\n",
        "    print('O Validation MSE:', val_o_loss/len_val_iterator)\n",
        "    print('C Validation MSE:', val_c_loss/len_val_iterator)\n",
        "    print('E Validation MSE:', val_e_loss/len_val_iterator)\n",
        "    print('A Validation MSE:', val_a_loss/len_val_iterator)\n",
        "    print('N Validation MSE:', val_n_loss/len_val_iterator)\n",
        "    print('I Validation MSE:', val_i_loss/len_val_iterator)\n",
        "\n",
        "    print('\\nAvg Validation MSE:', avg_val_loss)\n",
        "    mae = mean_absolute_error(true, pred)\n",
        "    print('Avg Validation MAE:', mae)\n",
        "\n",
        "    # reset iterator after every epoch\n",
        "    train_iterator.reset()\n",
        "    val_iterator.reset()\n",
        "\n",
        "    if save_best_only and avg_val_loss < min_val_loss: \n",
        "        if not os.path.exists(models_dir + model_name):\n",
        "            os.makedirs(models_dir + model_name)\n",
        "        model_name_ = model_name + '_' + str(1 - mae) + 'mae'\n",
        "        torch.save(model.state_dict(), os.path.join(models_dir, model_name, model_name_ + '.pt'))\n",
        "        print(f'--- Model Saved. Val loss: {min_val_loss} -> {avg_val_loss}')\n",
        "        min_val_loss = avg_val_loss\n",
        "        early_stopping_cnt = 0\n",
        "\n",
        "    early_stopping_cnt += 1\n",
        "    if early_stopping_cnt == early_stopping_limit:\n",
        "        print('\\n--- Stopped Early.')\n",
        "        break"
      ],
      "execution_count": null,
      "outputs": [
        {
          "output_type": "stream",
          "text": [
            "WARNING:root:DALI iterator does not support resetting while epoch is not finished. Ignoring...\n",
            "WARNING:root:DALI iterator does not support resetting while epoch is not finished. Ignoring...\n"
          ],
          "name": "stderr"
        },
        {
          "output_type": "display_data",
          "data": {
            "application/vnd.jupyter.widget-view+json": {
              "model_id": "e33cafc3c77641f2acebb0c7ab3c03fb",
              "version_minor": 0,
              "version_major": 2
            },
            "text/plain": [
              "HBox(children=(FloatProgress(value=0.0, description='Epoch 0', max=199.0, style=ProgressStyle(description_widt…"
            ]
          },
          "metadata": {
            "tags": []
          }
        },
        {
          "output_type": "stream",
          "text": [
            "/usr/local/lib/python3.6/dist-packages/torch/nn/functional.py:1569: UserWarning: nn.functional.sigmoid is deprecated. Use torch.sigmoid instead.\n",
            "  warnings.warn(\"nn.functional.sigmoid is deprecated. Use torch.sigmoid instead.\")\n",
            "/usr/local/lib/python3.6/dist-packages/torch/nn/modules/loss.py:432: UserWarning: Using a target size (torch.Size([6])) that is different to the input size (torch.Size([32, 1])). This will likely lead to incorrect results due to broadcasting. Please ensure they have the same size.\n",
            "  return F.mse_loss(input, target, reduction=self.reduction)\n"
          ],
          "name": "stderr"
        },
        {
          "output_type": "stream",
          "text": [
            "\n",
            "Avg Training MSE: 0.16917446326820096\n",
            "O Validation MSE: 0.02043127309065312\n",
            "C Validation MSE: 0.02183017533272505\n",
            "E Validation MSE: 0.024780050460249184\n",
            "A Validation MSE: 0.02680873322766274\n",
            "N Validation MSE: 0.016584290300961584\n",
            "I Validation MSE: 0.022075224560685457\n",
            "\n",
            "Avg Validation MSE: 0.13250974781811237\n",
            "Avg Validation MAE: 0.12443929\n",
            "--- Model Saved. Val loss: 9999 -> 0.13250974781811237\n"
          ],
          "name": "stdout"
        },
        {
          "output_type": "display_data",
          "data": {
            "application/vnd.jupyter.widget-view+json": {
              "model_id": "7189b061a6d64cf7a86f61ef90daec6b",
              "version_minor": 0,
              "version_major": 2
            },
            "text/plain": [
              "HBox(children=(FloatProgress(value=0.0, description='Epoch 1', max=199.0, style=ProgressStyle(description_widt…"
            ]
          },
          "metadata": {
            "tags": []
          }
        },
        {
          "output_type": "stream",
          "text": [
            "/usr/local/lib/python3.6/dist-packages/torch/nn/functional.py:1569: UserWarning: nn.functional.sigmoid is deprecated. Use torch.sigmoid instead.\n",
            "  warnings.warn(\"nn.functional.sigmoid is deprecated. Use torch.sigmoid instead.\")\n",
            "/usr/local/lib/python3.6/dist-packages/torch/nn/modules/loss.py:432: UserWarning: Using a target size (torch.Size([6])) that is different to the input size (torch.Size([32, 1])). This will likely lead to incorrect results due to broadcasting. Please ensure they have the same size.\n",
            "  return F.mse_loss(input, target, reduction=self.reduction)\n"
          ],
          "name": "stderr"
        },
        {
          "output_type": "stream",
          "text": [
            "\n",
            "Avg Training MSE: 0.14497677858301145\n",
            "O Validation MSE: 0.026184963448904454\n",
            "C Validation MSE: 0.022455517950002103\n",
            "E Validation MSE: 0.019825061589945108\n",
            "A Validation MSE: 0.028447064300999046\n",
            "N Validation MSE: 0.02409782615955919\n",
            "I Validation MSE: 0.020893579094554297\n",
            "\n",
            "Avg Validation MSE: 0.141904012337327\n",
            "Avg Validation MAE: 0.124322176\n"
          ],
          "name": "stdout"
        },
        {
          "output_type": "display_data",
          "data": {
            "application/vnd.jupyter.widget-view+json": {
              "model_id": "fce0d0d9e3534fadb4ed3ac8422869f2",
              "version_minor": 0,
              "version_major": 2
            },
            "text/plain": [
              "HBox(children=(FloatProgress(value=0.0, description='Epoch 2', max=199.0, style=ProgressStyle(description_widt…"
            ]
          },
          "metadata": {
            "tags": []
          }
        },
        {
          "output_type": "stream",
          "text": [
            "/usr/local/lib/python3.6/dist-packages/torch/nn/functional.py:1569: UserWarning: nn.functional.sigmoid is deprecated. Use torch.sigmoid instead.\n",
            "  warnings.warn(\"nn.functional.sigmoid is deprecated. Use torch.sigmoid instead.\")\n",
            "/usr/local/lib/python3.6/dist-packages/torch/nn/modules/loss.py:432: UserWarning: Using a target size (torch.Size([6])) that is different to the input size (torch.Size([32, 1])). This will likely lead to incorrect results due to broadcasting. Please ensure they have the same size.\n",
            "  return F.mse_loss(input, target, reduction=self.reduction)\n"
          ],
          "name": "stderr"
        },
        {
          "output_type": "stream",
          "text": [
            "\n",
            "Avg Training MSE: 0.14148164007007777\n",
            "O Validation MSE: 0.02145307247294113\n",
            "C Validation MSE: 0.02242790282238275\n",
            "E Validation MSE: 0.017638668685685845\n",
            "A Validation MSE: 0.019206058266572654\n",
            "N Validation MSE: 0.018349506163503976\n",
            "I Validation MSE: 0.020652128625661136\n",
            "\n",
            "Avg Validation MSE: 0.11972733713686466\n",
            "Avg Validation MAE: 0.122832015\n",
            "--- Model Saved. Val loss: 0.13250974781811237 -> 0.11972733713686466\n"
          ],
          "name": "stdout"
        },
        {
          "output_type": "display_data",
          "data": {
            "application/vnd.jupyter.widget-view+json": {
              "model_id": "bb9a990028a64ef3a31cfe6b7ca42baa",
              "version_minor": 0,
              "version_major": 2
            },
            "text/plain": [
              "HBox(children=(FloatProgress(value=0.0, description='Epoch 3', max=199.0, style=ProgressStyle(description_widt…"
            ]
          },
          "metadata": {
            "tags": []
          }
        },
        {
          "output_type": "stream",
          "text": [
            "/usr/local/lib/python3.6/dist-packages/torch/nn/functional.py:1569: UserWarning: nn.functional.sigmoid is deprecated. Use torch.sigmoid instead.\n",
            "  warnings.warn(\"nn.functional.sigmoid is deprecated. Use torch.sigmoid instead.\")\n",
            "/usr/local/lib/python3.6/dist-packages/torch/nn/modules/loss.py:432: UserWarning: Using a target size (torch.Size([6])) that is different to the input size (torch.Size([32, 1])). This will likely lead to incorrect results due to broadcasting. Please ensure they have the same size.\n",
            "  return F.mse_loss(input, target, reduction=self.reduction)\n"
          ],
          "name": "stderr"
        },
        {
          "output_type": "stream",
          "text": [
            "\n",
            "Avg Training MSE: 0.14309983897074383\n",
            "O Validation MSE: 0.028844454644713552\n",
            "C Validation MSE: 0.025404257671907543\n",
            "E Validation MSE: 0.018442184305749832\n",
            "A Validation MSE: 0.020445456812158227\n",
            "N Validation MSE: 0.02484004546655342\n",
            "I Validation MSE: 0.025784310328308493\n",
            "\n",
            "Avg Validation MSE: 0.14376070991158485\n",
            "Avg Validation MAE: 0.12072331\n"
          ],
          "name": "stdout"
        },
        {
          "output_type": "display_data",
          "data": {
            "application/vnd.jupyter.widget-view+json": {
              "model_id": "72bcbd280cc04cad9c41243a6431e94f",
              "version_minor": 0,
              "version_major": 2
            },
            "text/plain": [
              "HBox(children=(FloatProgress(value=0.0, description='Epoch 4', max=199.0, style=ProgressStyle(description_widt…"
            ]
          },
          "metadata": {
            "tags": []
          }
        },
        {
          "output_type": "stream",
          "text": [
            "/usr/local/lib/python3.6/dist-packages/torch/nn/functional.py:1569: UserWarning: nn.functional.sigmoid is deprecated. Use torch.sigmoid instead.\n",
            "  warnings.warn(\"nn.functional.sigmoid is deprecated. Use torch.sigmoid instead.\")\n",
            "/usr/local/lib/python3.6/dist-packages/torch/nn/modules/loss.py:432: UserWarning: Using a target size (torch.Size([6])) that is different to the input size (torch.Size([32, 1])). This will likely lead to incorrect results due to broadcasting. Please ensure they have the same size.\n",
            "  return F.mse_loss(input, target, reduction=self.reduction)\n"
          ],
          "name": "stderr"
        },
        {
          "output_type": "stream",
          "text": [
            "\n",
            "Avg Training MSE: 0.13552934801833114\n",
            "O Validation MSE: 0.02233307894319296\n",
            "C Validation MSE: 0.026650794523302466\n",
            "E Validation MSE: 0.021273604957386852\n",
            "A Validation MSE: 0.02128867489285767\n",
            "N Validation MSE: 0.02489318314008415\n",
            "I Validation MSE: 0.026213627671822906\n",
            "\n",
            "Avg Validation MSE: 0.14265296459197999\n",
            "Avg Validation MAE: 0.122465976\n"
          ],
          "name": "stdout"
        },
        {
          "output_type": "display_data",
          "data": {
            "application/vnd.jupyter.widget-view+json": {
              "model_id": "d9079bbc9d8044dba20bb482aa11b9e4",
              "version_minor": 0,
              "version_major": 2
            },
            "text/plain": [
              "HBox(children=(FloatProgress(value=0.0, description='Epoch 5', max=199.0, style=ProgressStyle(description_widt…"
            ]
          },
          "metadata": {
            "tags": []
          }
        },
        {
          "output_type": "stream",
          "text": [
            "/usr/local/lib/python3.6/dist-packages/torch/nn/functional.py:1569: UserWarning: nn.functional.sigmoid is deprecated. Use torch.sigmoid instead.\n",
            "  warnings.warn(\"nn.functional.sigmoid is deprecated. Use torch.sigmoid instead.\")\n",
            "/usr/local/lib/python3.6/dist-packages/torch/nn/modules/loss.py:432: UserWarning: Using a target size (torch.Size([6])) that is different to the input size (torch.Size([32, 1])). This will likely lead to incorrect results due to broadcasting. Please ensure they have the same size.\n",
            "  return F.mse_loss(input, target, reduction=self.reduction)\n"
          ],
          "name": "stderr"
        },
        {
          "output_type": "stream",
          "text": [
            "\n",
            "Avg Training MSE: 0.14253540084365024\n",
            "O Validation MSE: 0.02304797018878162\n",
            "C Validation MSE: 0.021010350212454797\n",
            "E Validation MSE: 0.016922251721844077\n",
            "A Validation MSE: 0.023649077396839857\n",
            "N Validation MSE: 0.025277632602956145\n",
            "I Validation MSE: 0.023364141015335918\n",
            "\n",
            "Avg Validation MSE: 0.13327142357826233\n",
            "Avg Validation MAE: 0.121858574\n"
          ],
          "name": "stdout"
        },
        {
          "output_type": "display_data",
          "data": {
            "application/vnd.jupyter.widget-view+json": {
              "model_id": "2bb74a7095454afaaa5b2ccc94320485",
              "version_minor": 0,
              "version_major": 2
            },
            "text/plain": [
              "HBox(children=(FloatProgress(value=0.0, description='Epoch 6', max=199.0, style=ProgressStyle(description_widt…"
            ]
          },
          "metadata": {
            "tags": []
          }
        },
        {
          "output_type": "stream",
          "text": [
            "/usr/local/lib/python3.6/dist-packages/torch/nn/functional.py:1569: UserWarning: nn.functional.sigmoid is deprecated. Use torch.sigmoid instead.\n",
            "  warnings.warn(\"nn.functional.sigmoid is deprecated. Use torch.sigmoid instead.\")\n",
            "/usr/local/lib/python3.6/dist-packages/torch/nn/modules/loss.py:432: UserWarning: Using a target size (torch.Size([6])) that is different to the input size (torch.Size([32, 1])). This will likely lead to incorrect results due to broadcasting. Please ensure they have the same size.\n",
            "  return F.mse_loss(input, target, reduction=self.reduction)\n"
          ],
          "name": "stderr"
        },
        {
          "output_type": "stream",
          "text": [
            "\n",
            "Avg Training MSE: 0.1361441142931955\n",
            "O Validation MSE: 0.033018586095422506\n",
            "C Validation MSE: 0.026096164397895336\n",
            "E Validation MSE: 0.02640435567125678\n",
            "A Validation MSE: 0.026546490387991072\n",
            "N Validation MSE: 0.028985572032397613\n",
            "I Validation MSE: 0.022186574572697283\n",
            "\n",
            "Avg Validation MSE: 0.16323774255812168\n",
            "Avg Validation MAE: 0.122046955\n",
            "\n",
            "--- Stopped Early.\n"
          ],
          "name": "stdout"
        }
      ]
    },
    {
      "cell_type": "code",
      "metadata": {
        "id": "6wHNTsEWp2pP",
        "colab_type": "code",
        "colab": {}
      },
      "source": [
        ""
      ],
      "execution_count": null,
      "outputs": []
    }
  ]
}